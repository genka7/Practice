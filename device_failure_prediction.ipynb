{
 "cells": [
  {
   "cell_type": "markdown",
   "metadata": {},
   "source": [
    "# Device failure prediction\n",
    "\n",
    "##### Device failure prediction is classification issue and this is supervised learning from data resource. I will create Neural Network and Random Forest models by fastai, pytorch and scikit-learn library etc.\n",
    "\n",
    "##### I would like to mainly use deep learning method to solve the failure detection  problem. because the information(data) is just signal. and Neural network can process the signal very well in high dimension space. i would like to try something.\n",
    "\n"
   ]
  },
  {
   "cell_type": "code",
   "execution_count": 1,
   "metadata": {},
   "outputs": [],
   "source": [
    "%matplotlib inline\n",
    "%reload_ext autoreload\n",
    "%autoreload 2"
   ]
  },
  {
   "cell_type": "code",
   "execution_count": 2,
   "metadata": {},
   "outputs": [],
   "source": [
    "from sklearn.metrics import accuracy_score\n",
    "from sklearn.metrics import confusion_matrix\n",
    "from sklearn.metrics import f1_score\n",
    "from sklearn.ensemble import RandomForestRegressor\n",
    "from sklearn.model_selection import train_test_split"
   ]
  },
  {
   "cell_type": "code",
   "execution_count": 3,
   "metadata": {},
   "outputs": [],
   "source": [
    "from fastai.structured import *\n",
    "from fastai.column_data import *\n",
    "from IPython.display import HTML\n",
    "np.set_printoptions(threshold=50, edgeitems=20)\n",
    "\n",
    "PATH='data/work_sample/'"
   ]
  },
  {
   "cell_type": "markdown",
   "metadata": {},
   "source": [
    "# Data exploration through summary stats and visualizations"
   ]
  },
  {
   "cell_type": "markdown",
   "metadata": {},
   "source": [
    "Created device_failure.csv file from following link.\n",
    "\n",
    "Download link: http://aws-proserve-data-science.s3.amazonaws.com/device_failure.csv"
   ]
  },
  {
   "cell_type": "code",
   "execution_count": 4,
   "metadata": {},
   "outputs": [],
   "source": [
    "table = pd.read_csv(f'{PATH}device_failure.csv', encoding = \"ISO-8859-1\",low_memory=False)"
   ]
  },
  {
   "cell_type": "markdown",
   "metadata": {},
   "source": [
    "#### Dataset check\n",
    "\n",
    "Feature Space:\n",
    "* date: date in YYYY-MM-DD\n",
    "* device: device id\n",
    "* failure: non-failure is 0, failure is 1\n",
    "* price: Price when the item is listed\n",
    "* attribute1 - attribute9: daily aggregated telemetry (unknow the attribute in detail)\n",
    "\n"
   ]
  },
  {
   "cell_type": "code",
   "execution_count": 5,
   "metadata": {},
   "outputs": [
    {
     "data": {
      "text/html": [
       "<div>\n",
       "<style scoped>\n",
       "    .dataframe tbody tr th:only-of-type {\n",
       "        vertical-align: middle;\n",
       "    }\n",
       "\n",
       "    .dataframe tbody tr th {\n",
       "        vertical-align: top;\n",
       "    }\n",
       "\n",
       "    .dataframe thead th {\n",
       "        text-align: right;\n",
       "    }\n",
       "</style>\n",
       "<table border=\"1\" class=\"dataframe\">\n",
       "  <thead>\n",
       "    <tr style=\"text-align: right;\">\n",
       "      <th></th>\n",
       "      <th>date</th>\n",
       "      <th>device</th>\n",
       "      <th>failure</th>\n",
       "      <th>attribute1</th>\n",
       "      <th>attribute2</th>\n",
       "      <th>attribute3</th>\n",
       "      <th>attribute4</th>\n",
       "      <th>attribute5</th>\n",
       "      <th>attribute6</th>\n",
       "      <th>attribute7</th>\n",
       "      <th>attribute8</th>\n",
       "      <th>attribute9</th>\n",
       "    </tr>\n",
       "  </thead>\n",
       "  <tbody>\n",
       "    <tr>\n",
       "      <th>0</th>\n",
       "      <td>2015-01-01</td>\n",
       "      <td>S1F01085</td>\n",
       "      <td>0</td>\n",
       "      <td>215630672</td>\n",
       "      <td>56</td>\n",
       "      <td>0</td>\n",
       "      <td>52</td>\n",
       "      <td>6</td>\n",
       "      <td>407438</td>\n",
       "      <td>0</td>\n",
       "      <td>0</td>\n",
       "      <td>7</td>\n",
       "    </tr>\n",
       "    <tr>\n",
       "      <th>1</th>\n",
       "      <td>2015-01-01</td>\n",
       "      <td>S1F0166B</td>\n",
       "      <td>0</td>\n",
       "      <td>61370680</td>\n",
       "      <td>0</td>\n",
       "      <td>3</td>\n",
       "      <td>0</td>\n",
       "      <td>6</td>\n",
       "      <td>403174</td>\n",
       "      <td>0</td>\n",
       "      <td>0</td>\n",
       "      <td>0</td>\n",
       "    </tr>\n",
       "    <tr>\n",
       "      <th>2</th>\n",
       "      <td>2015-01-01</td>\n",
       "      <td>S1F01E6Y</td>\n",
       "      <td>0</td>\n",
       "      <td>173295968</td>\n",
       "      <td>0</td>\n",
       "      <td>0</td>\n",
       "      <td>0</td>\n",
       "      <td>12</td>\n",
       "      <td>237394</td>\n",
       "      <td>0</td>\n",
       "      <td>0</td>\n",
       "      <td>0</td>\n",
       "    </tr>\n",
       "    <tr>\n",
       "      <th>3</th>\n",
       "      <td>2015-01-01</td>\n",
       "      <td>S1F01JE0</td>\n",
       "      <td>0</td>\n",
       "      <td>79694024</td>\n",
       "      <td>0</td>\n",
       "      <td>0</td>\n",
       "      <td>0</td>\n",
       "      <td>6</td>\n",
       "      <td>410186</td>\n",
       "      <td>0</td>\n",
       "      <td>0</td>\n",
       "      <td>0</td>\n",
       "    </tr>\n",
       "    <tr>\n",
       "      <th>4</th>\n",
       "      <td>2015-01-01</td>\n",
       "      <td>S1F01R2B</td>\n",
       "      <td>0</td>\n",
       "      <td>135970480</td>\n",
       "      <td>0</td>\n",
       "      <td>0</td>\n",
       "      <td>0</td>\n",
       "      <td>15</td>\n",
       "      <td>313173</td>\n",
       "      <td>0</td>\n",
       "      <td>0</td>\n",
       "      <td>3</td>\n",
       "    </tr>\n",
       "  </tbody>\n",
       "</table>\n",
       "</div>"
      ],
      "text/plain": [
       "         date    device  failure  attribute1  attribute2  attribute3  \\\n",
       "0  2015-01-01  S1F01085        0   215630672          56           0   \n",
       "1  2015-01-01  S1F0166B        0    61370680           0           3   \n",
       "2  2015-01-01  S1F01E6Y        0   173295968           0           0   \n",
       "3  2015-01-01  S1F01JE0        0    79694024           0           0   \n",
       "4  2015-01-01  S1F01R2B        0   135970480           0           0   \n",
       "\n",
       "   attribute4  attribute5  attribute6  attribute7  attribute8  attribute9  \n",
       "0          52           6      407438           0           0           7  \n",
       "1           0           6      403174           0           0           0  \n",
       "2           0          12      237394           0           0           0  \n",
       "3           0           6      410186           0           0           0  \n",
       "4           0          15      313173           0           0           3  "
      ]
     },
     "metadata": {},
     "output_type": "display_data"
    }
   ],
   "source": [
    "display(table.head())"
   ]
  },
  {
   "cell_type": "markdown",
   "metadata": {},
   "source": [
    "\n",
    "###  The dataset hidden the timely information from following information.   (Using the first line device 'S1F01085' etc...)\n",
    " "
   ]
  },
  {
   "cell_type": "code",
   "execution_count": 6,
   "metadata": {},
   "outputs": [
    {
     "name": "stderr",
     "output_type": "stream",
     "text": [
      "/home/yanhua/anaconda3/lib/python3.6/site-packages/ipykernel_launcher.py:1: UserWarning: Boolean Series key will be reindexed to match DataFrame index.\n",
      "  \"\"\"Entry point for launching an IPython kernel.\n"
     ]
    },
    {
     "data": {
      "text/html": [
       "<div>\n",
       "<style scoped>\n",
       "    .dataframe tbody tr th:only-of-type {\n",
       "        vertical-align: middle;\n",
       "    }\n",
       "\n",
       "    .dataframe tbody tr th {\n",
       "        vertical-align: top;\n",
       "    }\n",
       "\n",
       "    .dataframe thead th {\n",
       "        text-align: right;\n",
       "    }\n",
       "</style>\n",
       "<table border=\"1\" class=\"dataframe\">\n",
       "  <thead>\n",
       "    <tr style=\"text-align: right;\">\n",
       "      <th></th>\n",
       "      <th>date</th>\n",
       "      <th>device</th>\n",
       "      <th>failure</th>\n",
       "      <th>attribute1</th>\n",
       "      <th>attribute2</th>\n",
       "      <th>attribute3</th>\n",
       "      <th>attribute4</th>\n",
       "      <th>attribute5</th>\n",
       "      <th>attribute6</th>\n",
       "      <th>attribute7</th>\n",
       "      <th>attribute8</th>\n",
       "      <th>attribute9</th>\n",
       "    </tr>\n",
       "  </thead>\n",
       "  <tbody>\n",
       "    <tr>\n",
       "      <th>5812</th>\n",
       "      <td>2015-01-06</td>\n",
       "      <td>S1F01085</td>\n",
       "      <td>0</td>\n",
       "      <td>128832128</td>\n",
       "      <td>56</td>\n",
       "      <td>0</td>\n",
       "      <td>52</td>\n",
       "      <td>6</td>\n",
       "      <td>409404</td>\n",
       "      <td>0</td>\n",
       "      <td>0</td>\n",
       "      <td>7</td>\n",
       "    </tr>\n",
       "    <tr>\n",
       "      <th>4651</th>\n",
       "      <td>2015-01-05</td>\n",
       "      <td>S1F01085</td>\n",
       "      <td>0</td>\n",
       "      <td>97393448</td>\n",
       "      <td>56</td>\n",
       "      <td>0</td>\n",
       "      <td>52</td>\n",
       "      <td>6</td>\n",
       "      <td>408114</td>\n",
       "      <td>0</td>\n",
       "      <td>0</td>\n",
       "      <td>7</td>\n",
       "    </tr>\n",
       "    <tr>\n",
       "      <th>3489</th>\n",
       "      <td>2015-01-04</td>\n",
       "      <td>S1F01085</td>\n",
       "      <td>0</td>\n",
       "      <td>128073224</td>\n",
       "      <td>56</td>\n",
       "      <td>0</td>\n",
       "      <td>52</td>\n",
       "      <td>6</td>\n",
       "      <td>407439</td>\n",
       "      <td>0</td>\n",
       "      <td>0</td>\n",
       "      <td>7</td>\n",
       "    </tr>\n",
       "    <tr>\n",
       "      <th>2326</th>\n",
       "      <td>2015-01-03</td>\n",
       "      <td>S1F01085</td>\n",
       "      <td>0</td>\n",
       "      <td>124017368</td>\n",
       "      <td>56</td>\n",
       "      <td>0</td>\n",
       "      <td>52</td>\n",
       "      <td>6</td>\n",
       "      <td>407438</td>\n",
       "      <td>0</td>\n",
       "      <td>0</td>\n",
       "      <td>7</td>\n",
       "    </tr>\n",
       "    <tr>\n",
       "      <th>1163</th>\n",
       "      <td>2015-01-02</td>\n",
       "      <td>S1F01085</td>\n",
       "      <td>0</td>\n",
       "      <td>1650864</td>\n",
       "      <td>56</td>\n",
       "      <td>0</td>\n",
       "      <td>52</td>\n",
       "      <td>6</td>\n",
       "      <td>407438</td>\n",
       "      <td>0</td>\n",
       "      <td>0</td>\n",
       "      <td>7</td>\n",
       "    </tr>\n",
       "    <tr>\n",
       "      <th>0</th>\n",
       "      <td>2015-01-01</td>\n",
       "      <td>S1F01085</td>\n",
       "      <td>0</td>\n",
       "      <td>215630672</td>\n",
       "      <td>56</td>\n",
       "      <td>0</td>\n",
       "      <td>52</td>\n",
       "      <td>6</td>\n",
       "      <td>407438</td>\n",
       "      <td>0</td>\n",
       "      <td>0</td>\n",
       "      <td>7</td>\n",
       "    </tr>\n",
       "  </tbody>\n",
       "</table>\n",
       "</div>"
      ],
      "text/plain": [
       "            date    device  failure  attribute1  attribute2  attribute3  \\\n",
       "5812  2015-01-06  S1F01085        0   128832128          56           0   \n",
       "4651  2015-01-05  S1F01085        0    97393448          56           0   \n",
       "3489  2015-01-04  S1F01085        0   128073224          56           0   \n",
       "2326  2015-01-03  S1F01085        0   124017368          56           0   \n",
       "1163  2015-01-02  S1F01085        0     1650864          56           0   \n",
       "0     2015-01-01  S1F01085        0   215630672          56           0   \n",
       "\n",
       "      attribute4  attribute5  attribute6  attribute7  attribute8  attribute9  \n",
       "5812          52           6      409404           0           0           7  \n",
       "4651          52           6      408114           0           0           7  \n",
       "3489          52           6      407439           0           0           7  \n",
       "2326          52           6      407438           0           0           7  \n",
       "1163          52           6      407438           0           0           7  \n",
       "0             52           6      407438           0           0           7  "
      ]
     },
     "execution_count": 6,
     "metadata": {},
     "output_type": "execute_result"
    }
   ],
   "source": [
    "table.sort_values('date',ascending=False)[table['device'] == 'S1F01085']"
   ]
  },
  {
   "cell_type": "markdown",
   "metadata": {},
   "source": [
    "#### Confirmation and analysis on dataset, such as attributes and distribution"
   ]
  },
  {
   "cell_type": "code",
   "execution_count": 7,
   "metadata": {},
   "outputs": [
    {
     "data": {
      "text/html": [
       "<div>\n",
       "<style scoped>\n",
       "    .dataframe tbody tr th:only-of-type {\n",
       "        vertical-align: middle;\n",
       "    }\n",
       "\n",
       "    .dataframe tbody tr th {\n",
       "        vertical-align: top;\n",
       "    }\n",
       "\n",
       "    .dataframe thead th {\n",
       "        text-align: right;\n",
       "    }\n",
       "</style>\n",
       "<table border=\"1\" class=\"dataframe\">\n",
       "  <thead>\n",
       "    <tr style=\"text-align: right;\">\n",
       "      <th></th>\n",
       "      <th>date</th>\n",
       "      <th>device</th>\n",
       "      <th>failure</th>\n",
       "      <th>attribute1</th>\n",
       "      <th>attribute2</th>\n",
       "      <th>attribute3</th>\n",
       "      <th>attribute4</th>\n",
       "      <th>attribute5</th>\n",
       "      <th>attribute6</th>\n",
       "      <th>attribute7</th>\n",
       "      <th>attribute8</th>\n",
       "      <th>attribute9</th>\n",
       "    </tr>\n",
       "  </thead>\n",
       "  <tbody>\n",
       "    <tr>\n",
       "      <th>count</th>\n",
       "      <td>NaN</td>\n",
       "      <td>NaN</td>\n",
       "      <td>124494</td>\n",
       "      <td>124494</td>\n",
       "      <td>124494</td>\n",
       "      <td>124494</td>\n",
       "      <td>124494</td>\n",
       "      <td>124494</td>\n",
       "      <td>124494</td>\n",
       "      <td>124494</td>\n",
       "      <td>124494</td>\n",
       "      <td>124494</td>\n",
       "    </tr>\n",
       "    <tr>\n",
       "      <th>mean</th>\n",
       "      <td>NaN</td>\n",
       "      <td>NaN</td>\n",
       "      <td>0.000851447</td>\n",
       "      <td>1.22388e+08</td>\n",
       "      <td>159.485</td>\n",
       "      <td>9.94045</td>\n",
       "      <td>1.74112</td>\n",
       "      <td>14.2227</td>\n",
       "      <td>260173</td>\n",
       "      <td>0.292528</td>\n",
       "      <td>0.292528</td>\n",
       "      <td>12.4515</td>\n",
       "    </tr>\n",
       "    <tr>\n",
       "      <th>std</th>\n",
       "      <td>NaN</td>\n",
       "      <td>NaN</td>\n",
       "      <td>0.0291673</td>\n",
       "      <td>7.04593e+07</td>\n",
       "      <td>2179.66</td>\n",
       "      <td>185.747</td>\n",
       "      <td>22.9085</td>\n",
       "      <td>15.943</td>\n",
       "      <td>99151.1</td>\n",
       "      <td>7.43692</td>\n",
       "      <td>7.43692</td>\n",
       "      <td>191.426</td>\n",
       "    </tr>\n",
       "    <tr>\n",
       "      <th>min</th>\n",
       "      <td>NaN</td>\n",
       "      <td>NaN</td>\n",
       "      <td>0</td>\n",
       "      <td>0</td>\n",
       "      <td>0</td>\n",
       "      <td>0</td>\n",
       "      <td>0</td>\n",
       "      <td>1</td>\n",
       "      <td>8</td>\n",
       "      <td>0</td>\n",
       "      <td>0</td>\n",
       "      <td>0</td>\n",
       "    </tr>\n",
       "    <tr>\n",
       "      <th>25%</th>\n",
       "      <td>NaN</td>\n",
       "      <td>NaN</td>\n",
       "      <td>0</td>\n",
       "      <td>6.12848e+07</td>\n",
       "      <td>0</td>\n",
       "      <td>0</td>\n",
       "      <td>0</td>\n",
       "      <td>8</td>\n",
       "      <td>221452</td>\n",
       "      <td>0</td>\n",
       "      <td>0</td>\n",
       "      <td>0</td>\n",
       "    </tr>\n",
       "    <tr>\n",
       "      <th>50%</th>\n",
       "      <td>NaN</td>\n",
       "      <td>NaN</td>\n",
       "      <td>0</td>\n",
       "      <td>1.22797e+08</td>\n",
       "      <td>0</td>\n",
       "      <td>0</td>\n",
       "      <td>0</td>\n",
       "      <td>10</td>\n",
       "      <td>249800</td>\n",
       "      <td>0</td>\n",
       "      <td>0</td>\n",
       "      <td>0</td>\n",
       "    </tr>\n",
       "    <tr>\n",
       "      <th>75%</th>\n",
       "      <td>NaN</td>\n",
       "      <td>NaN</td>\n",
       "      <td>0</td>\n",
       "      <td>1.8331e+08</td>\n",
       "      <td>0</td>\n",
       "      <td>0</td>\n",
       "      <td>0</td>\n",
       "      <td>12</td>\n",
       "      <td>310266</td>\n",
       "      <td>0</td>\n",
       "      <td>0</td>\n",
       "      <td>0</td>\n",
       "    </tr>\n",
       "    <tr>\n",
       "      <th>max</th>\n",
       "      <td>NaN</td>\n",
       "      <td>NaN</td>\n",
       "      <td>1</td>\n",
       "      <td>2.4414e+08</td>\n",
       "      <td>64968</td>\n",
       "      <td>24929</td>\n",
       "      <td>1666</td>\n",
       "      <td>98</td>\n",
       "      <td>689161</td>\n",
       "      <td>832</td>\n",
       "      <td>832</td>\n",
       "      <td>18701</td>\n",
       "    </tr>\n",
       "    <tr>\n",
       "      <th>counts</th>\n",
       "      <td>124494</td>\n",
       "      <td>124494</td>\n",
       "      <td>124494</td>\n",
       "      <td>124494</td>\n",
       "      <td>124494</td>\n",
       "      <td>124494</td>\n",
       "      <td>124494</td>\n",
       "      <td>124494</td>\n",
       "      <td>124494</td>\n",
       "      <td>124494</td>\n",
       "      <td>124494</td>\n",
       "      <td>124494</td>\n",
       "    </tr>\n",
       "    <tr>\n",
       "      <th>uniques</th>\n",
       "      <td>304</td>\n",
       "      <td>1169</td>\n",
       "      <td>2</td>\n",
       "      <td>123877</td>\n",
       "      <td>558</td>\n",
       "      <td>47</td>\n",
       "      <td>115</td>\n",
       "      <td>60</td>\n",
       "      <td>44838</td>\n",
       "      <td>28</td>\n",
       "      <td>28</td>\n",
       "      <td>65</td>\n",
       "    </tr>\n",
       "    <tr>\n",
       "      <th>missing</th>\n",
       "      <td>0</td>\n",
       "      <td>0</td>\n",
       "      <td>0</td>\n",
       "      <td>0</td>\n",
       "      <td>0</td>\n",
       "      <td>0</td>\n",
       "      <td>0</td>\n",
       "      <td>0</td>\n",
       "      <td>0</td>\n",
       "      <td>0</td>\n",
       "      <td>0</td>\n",
       "      <td>0</td>\n",
       "    </tr>\n",
       "    <tr>\n",
       "      <th>missing_perc</th>\n",
       "      <td>0%</td>\n",
       "      <td>0%</td>\n",
       "      <td>0%</td>\n",
       "      <td>0%</td>\n",
       "      <td>0%</td>\n",
       "      <td>0%</td>\n",
       "      <td>0%</td>\n",
       "      <td>0%</td>\n",
       "      <td>0%</td>\n",
       "      <td>0%</td>\n",
       "      <td>0%</td>\n",
       "      <td>0%</td>\n",
       "    </tr>\n",
       "    <tr>\n",
       "      <th>types</th>\n",
       "      <td>categorical</td>\n",
       "      <td>categorical</td>\n",
       "      <td>bool</td>\n",
       "      <td>numeric</td>\n",
       "      <td>numeric</td>\n",
       "      <td>numeric</td>\n",
       "      <td>numeric</td>\n",
       "      <td>numeric</td>\n",
       "      <td>numeric</td>\n",
       "      <td>numeric</td>\n",
       "      <td>numeric</td>\n",
       "      <td>numeric</td>\n",
       "    </tr>\n",
       "  </tbody>\n",
       "</table>\n",
       "</div>"
      ],
      "text/plain": [
       "                     date       device      failure   attribute1 attribute2  \\\n",
       "count                 NaN          NaN       124494       124494     124494   \n",
       "mean                  NaN          NaN  0.000851447  1.22388e+08    159.485   \n",
       "std                   NaN          NaN    0.0291673  7.04593e+07    2179.66   \n",
       "min                   NaN          NaN            0            0          0   \n",
       "25%                   NaN          NaN            0  6.12848e+07          0   \n",
       "50%                   NaN          NaN            0  1.22797e+08          0   \n",
       "75%                   NaN          NaN            0   1.8331e+08          0   \n",
       "max                   NaN          NaN            1   2.4414e+08      64968   \n",
       "counts             124494       124494       124494       124494     124494   \n",
       "uniques               304         1169            2       123877        558   \n",
       "missing                 0            0            0            0          0   \n",
       "missing_perc           0%           0%           0%           0%         0%   \n",
       "types         categorical  categorical         bool      numeric    numeric   \n",
       "\n",
       "             attribute3 attribute4 attribute5 attribute6 attribute7  \\\n",
       "count            124494     124494     124494     124494     124494   \n",
       "mean            9.94045    1.74112    14.2227     260173   0.292528   \n",
       "std             185.747    22.9085     15.943    99151.1    7.43692   \n",
       "min                   0          0          1          8          0   \n",
       "25%                   0          0          8     221452          0   \n",
       "50%                   0          0         10     249800          0   \n",
       "75%                   0          0         12     310266          0   \n",
       "max               24929       1666         98     689161        832   \n",
       "counts           124494     124494     124494     124494     124494   \n",
       "uniques              47        115         60      44838         28   \n",
       "missing               0          0          0          0          0   \n",
       "missing_perc         0%         0%         0%         0%         0%   \n",
       "types           numeric    numeric    numeric    numeric    numeric   \n",
       "\n",
       "             attribute8 attribute9  \n",
       "count            124494     124494  \n",
       "mean           0.292528    12.4515  \n",
       "std             7.43692    191.426  \n",
       "min                   0          0  \n",
       "25%                   0          0  \n",
       "50%                   0          0  \n",
       "75%                   0          0  \n",
       "max                 832      18701  \n",
       "counts           124494     124494  \n",
       "uniques              28         65  \n",
       "missing               0          0  \n",
       "missing_perc         0%         0%  \n",
       "types           numeric    numeric  "
      ]
     },
     "metadata": {},
     "output_type": "display_data"
    }
   ],
   "source": [
    "display(DataFrameSummary(table).summary())"
   ]
  },
  {
   "cell_type": "markdown",
   "metadata": {},
   "source": [
    "###  There is a big issue about failure classification. the failure data have less than 0.1% in the dataset.(non-failure is 99.91%, failure is 0.08%) \n",
    "\n",
    "###   Imbalanced data problem like fraud detection in banking,real-time bidding in marketing in common. \n"
   ]
  },
  {
   "cell_type": "code",
   "execution_count": 8,
   "metadata": {},
   "outputs": [
    {
     "data": {
      "text/plain": [
       "(124494, 106, 0.000851446656063746)"
      ]
     },
     "execution_count": 8,
     "metadata": {},
     "output_type": "execute_result"
    }
   ],
   "source": [
    "len(table),len(table.query('failure > 0')),len(table.query('failure > 0'))/len(table)"
   ]
  },
  {
   "cell_type": "markdown",
   "metadata": {},
   "source": [
    "# Creation of novel features (Data Preprocessing / Feature Engineering)\n",
    "\n",
    "#### about solving imbalanced data problem. i would like to use two methods\n",
    "\n",
    "#### 1 Using markov chain method, Add hadden timely information and create new features for our model (more information for the model)\n",
    "\n",
    "#### 2 Using the bootstrap method, re-sampled datasets from our original data\n",
    "\n"
   ]
  },
  {
   "cell_type": "code",
   "execution_count": 9,
   "metadata": {},
   "outputs": [],
   "source": [
    "table_previous_info = table"
   ]
  },
  {
   "cell_type": "markdown",
   "metadata": {},
   "source": [
    "### About adding hadden timely information. (more information for the model)\n",
    "\n",
    "##### Add previous attribute information for the current line group by device."
   ]
  },
  {
   "cell_type": "code",
   "execution_count": 10,
   "metadata": {},
   "outputs": [],
   "source": [
    "table_previous_info['previous_attribute1'] = table_previous_info.groupby(['device'])['attribute1'].shift(1)\n",
    "table_previous_info['previous_attribute2'] = table_previous_info.groupby(['device'])['attribute2'].shift(1)\n",
    "table_previous_info['previous_attribute3'] = table_previous_info.groupby(['device'])['attribute3'].shift(1)\n",
    "table_previous_info['previous_attribute4'] = table_previous_info.groupby(['device'])['attribute4'].shift(1)\n",
    "table_previous_info['previous_attribute5'] = table_previous_info.groupby(['device'])['attribute5'].shift(1)\n",
    "table_previous_info['previous_attribute6'] = table_previous_info.groupby(['device'])['attribute6'].shift(1)\n",
    "table_previous_info['previous_attribute7'] = table_previous_info.groupby(['device'])['attribute7'].shift(1)\n",
    "table_previous_info['previous_attribute8'] = table_previous_info.groupby(['device'])['attribute8'].shift(1)\n",
    "table_previous_info['previous_attribute9'] = table_previous_info.groupby(['device'])['attribute9'].shift(1)"
   ]
  },
  {
   "cell_type": "markdown",
   "metadata": {},
   "source": [
    "#### Show the addition result."
   ]
  },
  {
   "cell_type": "code",
   "execution_count": 11,
   "metadata": {},
   "outputs": [
    {
     "name": "stderr",
     "output_type": "stream",
     "text": [
      "/home/yanhua/anaconda3/lib/python3.6/site-packages/ipykernel_launcher.py:1: UserWarning: Boolean Series key will be reindexed to match DataFrame index.\n",
      "  \"\"\"Entry point for launching an IPython kernel.\n"
     ]
    },
    {
     "data": {
      "text/html": [
       "<div>\n",
       "<style scoped>\n",
       "    .dataframe tbody tr th:only-of-type {\n",
       "        vertical-align: middle;\n",
       "    }\n",
       "\n",
       "    .dataframe tbody tr th {\n",
       "        vertical-align: top;\n",
       "    }\n",
       "\n",
       "    .dataframe thead th {\n",
       "        text-align: right;\n",
       "    }\n",
       "</style>\n",
       "<table border=\"1\" class=\"dataframe\">\n",
       "  <thead>\n",
       "    <tr style=\"text-align: right;\">\n",
       "      <th></th>\n",
       "      <th>date</th>\n",
       "      <th>device</th>\n",
       "      <th>failure</th>\n",
       "      <th>attribute1</th>\n",
       "      <th>attribute2</th>\n",
       "      <th>attribute3</th>\n",
       "      <th>attribute4</th>\n",
       "      <th>attribute5</th>\n",
       "      <th>attribute6</th>\n",
       "      <th>attribute7</th>\n",
       "      <th>...</th>\n",
       "      <th>attribute9</th>\n",
       "      <th>previous_attribute1</th>\n",
       "      <th>previous_attribute2</th>\n",
       "      <th>previous_attribute3</th>\n",
       "      <th>previous_attribute4</th>\n",
       "      <th>previous_attribute5</th>\n",
       "      <th>previous_attribute6</th>\n",
       "      <th>previous_attribute7</th>\n",
       "      <th>previous_attribute8</th>\n",
       "      <th>previous_attribute9</th>\n",
       "    </tr>\n",
       "  </thead>\n",
       "  <tbody>\n",
       "    <tr>\n",
       "      <th>5812</th>\n",
       "      <td>2015-01-06</td>\n",
       "      <td>S1F01085</td>\n",
       "      <td>0</td>\n",
       "      <td>128832128</td>\n",
       "      <td>56</td>\n",
       "      <td>0</td>\n",
       "      <td>52</td>\n",
       "      <td>6</td>\n",
       "      <td>409404</td>\n",
       "      <td>0</td>\n",
       "      <td>...</td>\n",
       "      <td>7</td>\n",
       "      <td>97393448.0</td>\n",
       "      <td>56.0</td>\n",
       "      <td>0.0</td>\n",
       "      <td>52.0</td>\n",
       "      <td>6.0</td>\n",
       "      <td>408114.0</td>\n",
       "      <td>0.0</td>\n",
       "      <td>0.0</td>\n",
       "      <td>7.0</td>\n",
       "    </tr>\n",
       "    <tr>\n",
       "      <th>4651</th>\n",
       "      <td>2015-01-05</td>\n",
       "      <td>S1F01085</td>\n",
       "      <td>0</td>\n",
       "      <td>97393448</td>\n",
       "      <td>56</td>\n",
       "      <td>0</td>\n",
       "      <td>52</td>\n",
       "      <td>6</td>\n",
       "      <td>408114</td>\n",
       "      <td>0</td>\n",
       "      <td>...</td>\n",
       "      <td>7</td>\n",
       "      <td>128073224.0</td>\n",
       "      <td>56.0</td>\n",
       "      <td>0.0</td>\n",
       "      <td>52.0</td>\n",
       "      <td>6.0</td>\n",
       "      <td>407439.0</td>\n",
       "      <td>0.0</td>\n",
       "      <td>0.0</td>\n",
       "      <td>7.0</td>\n",
       "    </tr>\n",
       "    <tr>\n",
       "      <th>3489</th>\n",
       "      <td>2015-01-04</td>\n",
       "      <td>S1F01085</td>\n",
       "      <td>0</td>\n",
       "      <td>128073224</td>\n",
       "      <td>56</td>\n",
       "      <td>0</td>\n",
       "      <td>52</td>\n",
       "      <td>6</td>\n",
       "      <td>407439</td>\n",
       "      <td>0</td>\n",
       "      <td>...</td>\n",
       "      <td>7</td>\n",
       "      <td>124017368.0</td>\n",
       "      <td>56.0</td>\n",
       "      <td>0.0</td>\n",
       "      <td>52.0</td>\n",
       "      <td>6.0</td>\n",
       "      <td>407438.0</td>\n",
       "      <td>0.0</td>\n",
       "      <td>0.0</td>\n",
       "      <td>7.0</td>\n",
       "    </tr>\n",
       "    <tr>\n",
       "      <th>2326</th>\n",
       "      <td>2015-01-03</td>\n",
       "      <td>S1F01085</td>\n",
       "      <td>0</td>\n",
       "      <td>124017368</td>\n",
       "      <td>56</td>\n",
       "      <td>0</td>\n",
       "      <td>52</td>\n",
       "      <td>6</td>\n",
       "      <td>407438</td>\n",
       "      <td>0</td>\n",
       "      <td>...</td>\n",
       "      <td>7</td>\n",
       "      <td>1650864.0</td>\n",
       "      <td>56.0</td>\n",
       "      <td>0.0</td>\n",
       "      <td>52.0</td>\n",
       "      <td>6.0</td>\n",
       "      <td>407438.0</td>\n",
       "      <td>0.0</td>\n",
       "      <td>0.0</td>\n",
       "      <td>7.0</td>\n",
       "    </tr>\n",
       "    <tr>\n",
       "      <th>1163</th>\n",
       "      <td>2015-01-02</td>\n",
       "      <td>S1F01085</td>\n",
       "      <td>0</td>\n",
       "      <td>1650864</td>\n",
       "      <td>56</td>\n",
       "      <td>0</td>\n",
       "      <td>52</td>\n",
       "      <td>6</td>\n",
       "      <td>407438</td>\n",
       "      <td>0</td>\n",
       "      <td>...</td>\n",
       "      <td>7</td>\n",
       "      <td>215630672.0</td>\n",
       "      <td>56.0</td>\n",
       "      <td>0.0</td>\n",
       "      <td>52.0</td>\n",
       "      <td>6.0</td>\n",
       "      <td>407438.0</td>\n",
       "      <td>0.0</td>\n",
       "      <td>0.0</td>\n",
       "      <td>7.0</td>\n",
       "    </tr>\n",
       "    <tr>\n",
       "      <th>0</th>\n",
       "      <td>2015-01-01</td>\n",
       "      <td>S1F01085</td>\n",
       "      <td>0</td>\n",
       "      <td>215630672</td>\n",
       "      <td>56</td>\n",
       "      <td>0</td>\n",
       "      <td>52</td>\n",
       "      <td>6</td>\n",
       "      <td>407438</td>\n",
       "      <td>0</td>\n",
       "      <td>...</td>\n",
       "      <td>7</td>\n",
       "      <td>NaN</td>\n",
       "      <td>NaN</td>\n",
       "      <td>NaN</td>\n",
       "      <td>NaN</td>\n",
       "      <td>NaN</td>\n",
       "      <td>NaN</td>\n",
       "      <td>NaN</td>\n",
       "      <td>NaN</td>\n",
       "      <td>NaN</td>\n",
       "    </tr>\n",
       "  </tbody>\n",
       "</table>\n",
       "<p>6 rows × 21 columns</p>\n",
       "</div>"
      ],
      "text/plain": [
       "            date    device  failure  attribute1  attribute2  attribute3  \\\n",
       "5812  2015-01-06  S1F01085        0   128832128          56           0   \n",
       "4651  2015-01-05  S1F01085        0    97393448          56           0   \n",
       "3489  2015-01-04  S1F01085        0   128073224          56           0   \n",
       "2326  2015-01-03  S1F01085        0   124017368          56           0   \n",
       "1163  2015-01-02  S1F01085        0     1650864          56           0   \n",
       "0     2015-01-01  S1F01085        0   215630672          56           0   \n",
       "\n",
       "      attribute4  attribute5  attribute6  attribute7         ...           \\\n",
       "5812          52           6      409404           0         ...            \n",
       "4651          52           6      408114           0         ...            \n",
       "3489          52           6      407439           0         ...            \n",
       "2326          52           6      407438           0         ...            \n",
       "1163          52           6      407438           0         ...            \n",
       "0             52           6      407438           0         ...            \n",
       "\n",
       "      attribute9  previous_attribute1  previous_attribute2  \\\n",
       "5812           7           97393448.0                 56.0   \n",
       "4651           7          128073224.0                 56.0   \n",
       "3489           7          124017368.0                 56.0   \n",
       "2326           7            1650864.0                 56.0   \n",
       "1163           7          215630672.0                 56.0   \n",
       "0              7                  NaN                  NaN   \n",
       "\n",
       "      previous_attribute3  previous_attribute4  previous_attribute5  \\\n",
       "5812                  0.0                 52.0                  6.0   \n",
       "4651                  0.0                 52.0                  6.0   \n",
       "3489                  0.0                 52.0                  6.0   \n",
       "2326                  0.0                 52.0                  6.0   \n",
       "1163                  0.0                 52.0                  6.0   \n",
       "0                     NaN                  NaN                  NaN   \n",
       "\n",
       "      previous_attribute6  previous_attribute7  previous_attribute8  \\\n",
       "5812             408114.0                  0.0                  0.0   \n",
       "4651             407439.0                  0.0                  0.0   \n",
       "3489             407438.0                  0.0                  0.0   \n",
       "2326             407438.0                  0.0                  0.0   \n",
       "1163             407438.0                  0.0                  0.0   \n",
       "0                     NaN                  NaN                  NaN   \n",
       "\n",
       "      previous_attribute9  \n",
       "5812                  7.0  \n",
       "4651                  7.0  \n",
       "3489                  7.0  \n",
       "2326                  7.0  \n",
       "1163                  7.0  \n",
       "0                     NaN  \n",
       "\n",
       "[6 rows x 21 columns]"
      ]
     },
     "execution_count": 11,
     "metadata": {},
     "output_type": "execute_result"
    }
   ],
   "source": [
    "table_previous_info.sort_values('date',ascending=False)[table_previous_info['device'] == 'S1F01085']"
   ]
  },
  {
   "cell_type": "code",
   "execution_count": 12,
   "metadata": {},
   "outputs": [
    {
     "data": {
      "text/plain": [
       "124494"
      ]
     },
     "execution_count": 12,
     "metadata": {},
     "output_type": "execute_result"
    }
   ],
   "source": [
    "len(table_previous_info)"
   ]
  },
  {
   "cell_type": "markdown",
   "metadata": {},
   "source": [
    "Drop the null value line."
   ]
  },
  {
   "cell_type": "code",
   "execution_count": 13,
   "metadata": {},
   "outputs": [],
   "source": [
    "table_previous_info=table_previous_info.dropna()"
   ]
  },
  {
   "cell_type": "code",
   "execution_count": 14,
   "metadata": {},
   "outputs": [
    {
     "data": {
      "text/plain": [
       "123325"
      ]
     },
     "execution_count": 14,
     "metadata": {},
     "output_type": "execute_result"
    }
   ],
   "source": [
    "len(table_previous_info)"
   ]
  },
  {
   "cell_type": "markdown",
   "metadata": {},
   "source": [
    "Confirm the dataset with null value."
   ]
  },
  {
   "cell_type": "code",
   "execution_count": 15,
   "metadata": {},
   "outputs": [
    {
     "data": {
      "text/html": [
       "<div>\n",
       "<style scoped>\n",
       "    .dataframe tbody tr th:only-of-type {\n",
       "        vertical-align: middle;\n",
       "    }\n",
       "\n",
       "    .dataframe tbody tr th {\n",
       "        vertical-align: top;\n",
       "    }\n",
       "\n",
       "    .dataframe thead th {\n",
       "        text-align: right;\n",
       "    }\n",
       "</style>\n",
       "<table border=\"1\" class=\"dataframe\">\n",
       "  <thead>\n",
       "    <tr style=\"text-align: right;\">\n",
       "      <th></th>\n",
       "      <th>date</th>\n",
       "      <th>device</th>\n",
       "      <th>failure</th>\n",
       "      <th>attribute1</th>\n",
       "      <th>attribute2</th>\n",
       "      <th>attribute3</th>\n",
       "      <th>attribute4</th>\n",
       "      <th>attribute5</th>\n",
       "      <th>attribute6</th>\n",
       "      <th>attribute7</th>\n",
       "      <th>...</th>\n",
       "      <th>attribute9</th>\n",
       "      <th>previous_attribute1</th>\n",
       "      <th>previous_attribute2</th>\n",
       "      <th>previous_attribute3</th>\n",
       "      <th>previous_attribute4</th>\n",
       "      <th>previous_attribute5</th>\n",
       "      <th>previous_attribute6</th>\n",
       "      <th>previous_attribute7</th>\n",
       "      <th>previous_attribute8</th>\n",
       "      <th>previous_attribute9</th>\n",
       "    </tr>\n",
       "  </thead>\n",
       "  <tbody>\n",
       "  </tbody>\n",
       "</table>\n",
       "<p>0 rows × 21 columns</p>\n",
       "</div>"
      ],
      "text/plain": [
       "Empty DataFrame\n",
       "Columns: [date, device, failure, attribute1, attribute2, attribute3, attribute4, attribute5, attribute6, attribute7, attribute8, attribute9, previous_attribute1, previous_attribute2, previous_attribute3, previous_attribute4, previous_attribute5, previous_attribute6, previous_attribute7, previous_attribute8, previous_attribute9]\n",
       "Index: []\n",
       "\n",
       "[0 rows x 21 columns]"
      ]
     },
     "execution_count": 15,
     "metadata": {},
     "output_type": "execute_result"
    }
   ],
   "source": [
    "table_previous_info[pd.isnull(table_previous_info).any(axis=1)]"
   ]
  },
  {
   "cell_type": "code",
   "execution_count": 16,
   "metadata": {},
   "outputs": [
    {
     "data": {
      "text/plain": [
       "(106, 106)"
      ]
     },
     "execution_count": 16,
     "metadata": {},
     "output_type": "execute_result"
    }
   ],
   "source": [
    "len(table.query('failure > 0')),len(table_previous_info.query('failure > 0'))"
   ]
  },
  {
   "cell_type": "markdown",
   "metadata": {},
   "source": [
    "# Splitting the data into train and test\n",
    "\n",
    "\n",
    "### The test dataset must be original data, can't be re-sampled.\n"
   ]
  },
  {
   "cell_type": "code",
   "execution_count": 17,
   "metadata": {},
   "outputs": [],
   "source": [
    "train_raw, test = train_test_split(table_previous_info, test_size=0.1)"
   ]
  },
  {
   "cell_type": "code",
   "execution_count": 18,
   "metadata": {},
   "outputs": [
    {
     "data": {
      "text/plain": [
       "(110992, 91, 12333, 15)"
      ]
     },
     "execution_count": 18,
     "metadata": {},
     "output_type": "execute_result"
    }
   ],
   "source": [
    "len(train_raw),len(train_raw.query('failure>0')),len(test),len(test.query('failure>0'))"
   ]
  },
  {
   "cell_type": "code",
   "execution_count": 19,
   "metadata": {},
   "outputs": [
    {
     "data": {
      "text/html": [
       "<div>\n",
       "<style scoped>\n",
       "    .dataframe tbody tr th:only-of-type {\n",
       "        vertical-align: middle;\n",
       "    }\n",
       "\n",
       "    .dataframe tbody tr th {\n",
       "        vertical-align: top;\n",
       "    }\n",
       "\n",
       "    .dataframe thead th {\n",
       "        text-align: right;\n",
       "    }\n",
       "</style>\n",
       "<table border=\"1\" class=\"dataframe\">\n",
       "  <thead>\n",
       "    <tr style=\"text-align: right;\">\n",
       "      <th></th>\n",
       "      <th>date</th>\n",
       "      <th>device</th>\n",
       "      <th>failure</th>\n",
       "      <th>attribute1</th>\n",
       "      <th>attribute2</th>\n",
       "      <th>attribute3</th>\n",
       "      <th>attribute4</th>\n",
       "      <th>attribute5</th>\n",
       "      <th>attribute6</th>\n",
       "      <th>attribute7</th>\n",
       "      <th>...</th>\n",
       "      <th>attribute9</th>\n",
       "      <th>previous_attribute1</th>\n",
       "      <th>previous_attribute2</th>\n",
       "      <th>previous_attribute3</th>\n",
       "      <th>previous_attribute4</th>\n",
       "      <th>previous_attribute5</th>\n",
       "      <th>previous_attribute6</th>\n",
       "      <th>previous_attribute7</th>\n",
       "      <th>previous_attribute8</th>\n",
       "      <th>previous_attribute9</th>\n",
       "    </tr>\n",
       "  </thead>\n",
       "  <tbody>\n",
       "    <tr>\n",
       "      <th>119471</th>\n",
       "      <td>2015-09-17</td>\n",
       "      <td>S1F135GA</td>\n",
       "      <td>0</td>\n",
       "      <td>202904672</td>\n",
       "      <td>0</td>\n",
       "      <td>0</td>\n",
       "      <td>0</td>\n",
       "      <td>8</td>\n",
       "      <td>233944</td>\n",
       "      <td>0</td>\n",
       "      <td>...</td>\n",
       "      <td>0</td>\n",
       "      <td>168497376.0</td>\n",
       "      <td>0.0</td>\n",
       "      <td>0.0</td>\n",
       "      <td>0.0</td>\n",
       "      <td>8.0</td>\n",
       "      <td>232836.0</td>\n",
       "      <td>0.0</td>\n",
       "      <td>0.0</td>\n",
       "      <td>0.0</td>\n",
       "    </tr>\n",
       "    <tr>\n",
       "      <th>37100</th>\n",
       "      <td>2015-02-17</td>\n",
       "      <td>Z1F15HYM</td>\n",
       "      <td>0</td>\n",
       "      <td>13940744</td>\n",
       "      <td>0</td>\n",
       "      <td>0</td>\n",
       "      <td>0</td>\n",
       "      <td>8</td>\n",
       "      <td>241267</td>\n",
       "      <td>0</td>\n",
       "      <td>...</td>\n",
       "      <td>0</td>\n",
       "      <td>185524320.0</td>\n",
       "      <td>0.0</td>\n",
       "      <td>0.0</td>\n",
       "      <td>0.0</td>\n",
       "      <td>8.0</td>\n",
       "      <td>241267.0</td>\n",
       "      <td>0.0</td>\n",
       "      <td>0.0</td>\n",
       "      <td>0.0</td>\n",
       "    </tr>\n",
       "    <tr>\n",
       "      <th>68860</th>\n",
       "      <td>2015-04-10</td>\n",
       "      <td>Z1F0LH7B</td>\n",
       "      <td>0</td>\n",
       "      <td>231934808</td>\n",
       "      <td>0</td>\n",
       "      <td>0</td>\n",
       "      <td>0</td>\n",
       "      <td>11</td>\n",
       "      <td>464221</td>\n",
       "      <td>0</td>\n",
       "      <td>...</td>\n",
       "      <td>0</td>\n",
       "      <td>225248712.0</td>\n",
       "      <td>0.0</td>\n",
       "      <td>0.0</td>\n",
       "      <td>0.0</td>\n",
       "      <td>11.0</td>\n",
       "      <td>464221.0</td>\n",
       "      <td>0.0</td>\n",
       "      <td>0.0</td>\n",
       "      <td>0.0</td>\n",
       "    </tr>\n",
       "  </tbody>\n",
       "</table>\n",
       "<p>3 rows × 21 columns</p>\n",
       "</div>"
      ],
      "text/plain": [
       "              date    device  failure  attribute1  attribute2  attribute3  \\\n",
       "119471  2015-09-17  S1F135GA        0   202904672           0           0   \n",
       "37100   2015-02-17  Z1F15HYM        0    13940744           0           0   \n",
       "68860   2015-04-10  Z1F0LH7B        0   231934808           0           0   \n",
       "\n",
       "        attribute4  attribute5  attribute6  attribute7         ...           \\\n",
       "119471           0           8      233944           0         ...            \n",
       "37100            0           8      241267           0         ...            \n",
       "68860            0          11      464221           0         ...            \n",
       "\n",
       "        attribute9  previous_attribute1  previous_attribute2  \\\n",
       "119471           0          168497376.0                  0.0   \n",
       "37100            0          185524320.0                  0.0   \n",
       "68860            0          225248712.0                  0.0   \n",
       "\n",
       "        previous_attribute3  previous_attribute4  previous_attribute5  \\\n",
       "119471                  0.0                  0.0                  8.0   \n",
       "37100                   0.0                  0.0                  8.0   \n",
       "68860                   0.0                  0.0                 11.0   \n",
       "\n",
       "        previous_attribute6  previous_attribute7  previous_attribute8  \\\n",
       "119471             232836.0                  0.0                  0.0   \n",
       "37100              241267.0                  0.0                  0.0   \n",
       "68860              464221.0                  0.0                  0.0   \n",
       "\n",
       "        previous_attribute9  \n",
       "119471                  0.0  \n",
       "37100                   0.0  \n",
       "68860                   0.0  \n",
       "\n",
       "[3 rows x 21 columns]"
      ]
     },
     "metadata": {},
     "output_type": "display_data"
    }
   ],
   "source": [
    "display(train_raw.head(3))"
   ]
  },
  {
   "cell_type": "code",
   "execution_count": 20,
   "metadata": {},
   "outputs": [
    {
     "data": {
      "text/html": [
       "<div>\n",
       "<style scoped>\n",
       "    .dataframe tbody tr th:only-of-type {\n",
       "        vertical-align: middle;\n",
       "    }\n",
       "\n",
       "    .dataframe tbody tr th {\n",
       "        vertical-align: top;\n",
       "    }\n",
       "\n",
       "    .dataframe thead th {\n",
       "        text-align: right;\n",
       "    }\n",
       "</style>\n",
       "<table border=\"1\" class=\"dataframe\">\n",
       "  <thead>\n",
       "    <tr style=\"text-align: right;\">\n",
       "      <th></th>\n",
       "      <th>date</th>\n",
       "      <th>device</th>\n",
       "      <th>failure</th>\n",
       "      <th>attribute1</th>\n",
       "      <th>attribute2</th>\n",
       "      <th>attribute3</th>\n",
       "      <th>attribute4</th>\n",
       "      <th>attribute5</th>\n",
       "      <th>attribute6</th>\n",
       "      <th>attribute7</th>\n",
       "      <th>...</th>\n",
       "      <th>attribute9</th>\n",
       "      <th>previous_attribute1</th>\n",
       "      <th>previous_attribute2</th>\n",
       "      <th>previous_attribute3</th>\n",
       "      <th>previous_attribute4</th>\n",
       "      <th>previous_attribute5</th>\n",
       "      <th>previous_attribute6</th>\n",
       "      <th>previous_attribute7</th>\n",
       "      <th>previous_attribute8</th>\n",
       "      <th>previous_attribute9</th>\n",
       "    </tr>\n",
       "  </thead>\n",
       "  <tbody>\n",
       "    <tr>\n",
       "      <th>37611</th>\n",
       "      <td>2015-02-18</td>\n",
       "      <td>W1F1BS9T</td>\n",
       "      <td>0</td>\n",
       "      <td>13012424</td>\n",
       "      <td>0</td>\n",
       "      <td>2</td>\n",
       "      <td>0</td>\n",
       "      <td>12</td>\n",
       "      <td>249714</td>\n",
       "      <td>0</td>\n",
       "      <td>...</td>\n",
       "      <td>5</td>\n",
       "      <td>194302848.0</td>\n",
       "      <td>0.0</td>\n",
       "      <td>2.0</td>\n",
       "      <td>0.0</td>\n",
       "      <td>12.0</td>\n",
       "      <td>249714.0</td>\n",
       "      <td>0.0</td>\n",
       "      <td>0.0</td>\n",
       "      <td>5.0</td>\n",
       "    </tr>\n",
       "    <tr>\n",
       "      <th>19214</th>\n",
       "      <td>2015-01-23</td>\n",
       "      <td>Z1F0L3BL</td>\n",
       "      <td>0</td>\n",
       "      <td>16646864</td>\n",
       "      <td>0</td>\n",
       "      <td>0</td>\n",
       "      <td>0</td>\n",
       "      <td>6</td>\n",
       "      <td>305443</td>\n",
       "      <td>0</td>\n",
       "      <td>...</td>\n",
       "      <td>0</td>\n",
       "      <td>59760696.0</td>\n",
       "      <td>0.0</td>\n",
       "      <td>0.0</td>\n",
       "      <td>0.0</td>\n",
       "      <td>6.0</td>\n",
       "      <td>305443.0</td>\n",
       "      <td>0.0</td>\n",
       "      <td>0.0</td>\n",
       "      <td>0.0</td>\n",
       "    </tr>\n",
       "    <tr>\n",
       "      <th>17182</th>\n",
       "      <td>2015-01-20</td>\n",
       "      <td>Z1F1A83K</td>\n",
       "      <td>0</td>\n",
       "      <td>117870920</td>\n",
       "      <td>0</td>\n",
       "      <td>0</td>\n",
       "      <td>0</td>\n",
       "      <td>11</td>\n",
       "      <td>27</td>\n",
       "      <td>0</td>\n",
       "      <td>...</td>\n",
       "      <td>0</td>\n",
       "      <td>26285480.0</td>\n",
       "      <td>0.0</td>\n",
       "      <td>0.0</td>\n",
       "      <td>0.0</td>\n",
       "      <td>11.0</td>\n",
       "      <td>27.0</td>\n",
       "      <td>0.0</td>\n",
       "      <td>0.0</td>\n",
       "      <td>0.0</td>\n",
       "    </tr>\n",
       "  </tbody>\n",
       "</table>\n",
       "<p>3 rows × 21 columns</p>\n",
       "</div>"
      ],
      "text/plain": [
       "             date    device  failure  attribute1  attribute2  attribute3  \\\n",
       "37611  2015-02-18  W1F1BS9T        0    13012424           0           2   \n",
       "19214  2015-01-23  Z1F0L3BL        0    16646864           0           0   \n",
       "17182  2015-01-20  Z1F1A83K        0   117870920           0           0   \n",
       "\n",
       "       attribute4  attribute5  attribute6  attribute7         ...           \\\n",
       "37611           0          12      249714           0         ...            \n",
       "19214           0           6      305443           0         ...            \n",
       "17182           0          11          27           0         ...            \n",
       "\n",
       "       attribute9  previous_attribute1  previous_attribute2  \\\n",
       "37611           5          194302848.0                  0.0   \n",
       "19214           0           59760696.0                  0.0   \n",
       "17182           0           26285480.0                  0.0   \n",
       "\n",
       "       previous_attribute3  previous_attribute4  previous_attribute5  \\\n",
       "37611                  2.0                  0.0                 12.0   \n",
       "19214                  0.0                  0.0                  6.0   \n",
       "17182                  0.0                  0.0                 11.0   \n",
       "\n",
       "       previous_attribute6  previous_attribute7  previous_attribute8  \\\n",
       "37611             249714.0                  0.0                  0.0   \n",
       "19214             305443.0                  0.0                  0.0   \n",
       "17182                 27.0                  0.0                  0.0   \n",
       "\n",
       "       previous_attribute9  \n",
       "37611                  5.0  \n",
       "19214                  0.0  \n",
       "17182                  0.0  \n",
       "\n",
       "[3 rows x 21 columns]"
      ]
     },
     "metadata": {},
     "output_type": "display_data"
    }
   ],
   "source": [
    "display(test.head(3))"
   ]
  },
  {
   "cell_type": "markdown",
   "metadata": {},
   "source": [
    "### Bootstrapping, re-sampled training datasets from our original training data\n",
    "\n",
    "\n",
    "step 1:\n",
    "\n",
    "Over-sampling\n",
    "\n",
    "Oversampling is used when the quantity of data is insufficient. It tries to balance dataset by increasing the size of rare samples.\n",
    "\n",
    "\n",
    "step 2:\n",
    "\n",
    "Under-sampling\n",
    "\n",
    "Under-sampling balances the dataset by reducing the size of the abundant class. This method is used when quantity of data is sufficient.\n",
    "\n",
    "\n"
   ]
  },
  {
   "cell_type": "code",
   "execution_count": 21,
   "metadata": {},
   "outputs": [
    {
     "data": {
      "text/plain": [
       "(91, 110992, 36967.0, 27300)"
      ]
     },
     "execution_count": 21,
     "metadata": {},
     "output_type": "execute_result"
    }
   ],
   "source": [
    "len(train_raw.query('failure > 0')),len(train_raw),(len(train_raw)-len(train_raw.query('failure > 0')))/3,len(train_raw.query('failure > 0'))*300"
   ]
  },
  {
   "cell_type": "code",
   "execution_count": 22,
   "metadata": {},
   "outputs": [],
   "source": [
    "train_add_tmp = train_raw.query('failure > 0')"
   ]
  },
  {
   "cell_type": "code",
   "execution_count": 23,
   "metadata": {},
   "outputs": [],
   "source": [
    "train_add = train_add_tmp"
   ]
  },
  {
   "cell_type": "code",
   "execution_count": 24,
   "metadata": {},
   "outputs": [
    {
     "data": {
      "text/plain": [
       "(91, 91)"
      ]
     },
     "execution_count": 24,
     "metadata": {},
     "output_type": "execute_result"
    }
   ],
   "source": [
    "len(train_add),len(train_add_tmp)"
   ]
  },
  {
   "cell_type": "code",
   "execution_count": 25,
   "metadata": {},
   "outputs": [],
   "source": [
    "for x in range(300):\n",
    "    frames = [train_add, train_add_tmp]\n",
    "    train_add = pd.concat(frames)"
   ]
  },
  {
   "cell_type": "code",
   "execution_count": 26,
   "metadata": {},
   "outputs": [
    {
     "data": {
      "text/plain": [
       "(27391, 27391, 27391)"
      ]
     },
     "execution_count": 26,
     "metadata": {},
     "output_type": "execute_result"
    }
   ],
   "source": [
    "len(train_add),len(train_add.query('failure > 0')),len(train_add_tmp)*301"
   ]
  },
  {
   "cell_type": "code",
   "execution_count": 27,
   "metadata": {},
   "outputs": [],
   "source": [
    "train_t = pd.concat([train_add, train_raw])"
   ]
  },
  {
   "cell_type": "code",
   "execution_count": 28,
   "metadata": {},
   "outputs": [],
   "source": [
    "train_rest, train_resampling = train_test_split(train_t, test_size=0.333)"
   ]
  },
  {
   "cell_type": "markdown",
   "metadata": {},
   "source": [
    "\n",
    "##### Bootstrapping, re-sampled training datasets from our original training data\n",
    "\n",
    "##### Over-sampling \n",
    "\n",
    "##### increasing the size from 91 to 9121 for the failure data.\n",
    "\n",
    "##### Under-sampling\n",
    "\n",
    "##### reducing the size from 110901 to 36961 for the non-failure data.\n",
    "\n",
    "Below is the re-sampling result."
   ]
  },
  {
   "cell_type": "code",
   "execution_count": 29,
   "metadata": {},
   "outputs": [
    {
     "data": {
      "text/plain": [
       "(110992, 46082, 110901, 36961, 91, 9121)"
      ]
     },
     "execution_count": 29,
     "metadata": {},
     "output_type": "execute_result"
    }
   ],
   "source": [
    "len(train_raw),len(train_resampling),len(train_raw.query('failure < 1')),len(train_resampling.query('failure < 1')),len(train_raw.query('failure > 0')),len(train_resampling.query('failure > 0'))"
   ]
  },
  {
   "cell_type": "markdown",
   "metadata": {},
   "source": [
    "#### Add index key for train dataset and test dataset"
   ]
  },
  {
   "cell_type": "code",
   "execution_count": 30,
   "metadata": {},
   "outputs": [],
   "source": [
    "train = train_resampling"
   ]
  },
  {
   "cell_type": "code",
   "execution_count": 31,
   "metadata": {},
   "outputs": [
    {
     "name": "stderr",
     "output_type": "stream",
     "text": [
      "/home/yanhua/anaconda3/lib/python3.6/site-packages/ipykernel_launcher.py:1: SettingWithCopyWarning: \n",
      "A value is trying to be set on a copy of a slice from a DataFrame.\n",
      "Try using .loc[row_indexer,col_indexer] = value instead\n",
      "\n",
      "See the caveats in the documentation: http://pandas.pydata.org/pandas-docs/stable/indexing.html#indexing-view-versus-copy\n",
      "  \"\"\"Entry point for launching an IPython kernel.\n"
     ]
    }
   ],
   "source": [
    "train['index_col'] = range(1, len(train_resampling) + 1)"
   ]
  },
  {
   "cell_type": "code",
   "execution_count": 32,
   "metadata": {},
   "outputs": [
    {
     "data": {
      "text/plain": [
       "(46082, 46082)"
      ]
     },
     "execution_count": 32,
     "metadata": {},
     "output_type": "execute_result"
    }
   ],
   "source": [
    "max(train.index_col),len(train)"
   ]
  },
  {
   "cell_type": "code",
   "execution_count": 33,
   "metadata": {},
   "outputs": [
    {
     "name": "stderr",
     "output_type": "stream",
     "text": [
      "/home/yanhua/anaconda3/lib/python3.6/site-packages/ipykernel_launcher.py:1: SettingWithCopyWarning: \n",
      "A value is trying to be set on a copy of a slice from a DataFrame.\n",
      "Try using .loc[row_indexer,col_indexer] = value instead\n",
      "\n",
      "See the caveats in the documentation: http://pandas.pydata.org/pandas-docs/stable/indexing.html#indexing-view-versus-copy\n",
      "  \"\"\"Entry point for launching an IPython kernel.\n"
     ]
    }
   ],
   "source": [
    "test['index_col'] = range(len(train) + 1, len(train) + len(test) + 1)"
   ]
  },
  {
   "cell_type": "code",
   "execution_count": 34,
   "metadata": {},
   "outputs": [
    {
     "data": {
      "text/plain": [
       "(58415, 12333, 12333)"
      ]
     },
     "execution_count": 34,
     "metadata": {},
     "output_type": "execute_result"
    }
   ],
   "source": [
    "max(test.index_col),max(test.index_col) - len(train),len(test)"
   ]
  },
  {
   "cell_type": "code",
   "execution_count": 35,
   "metadata": {},
   "outputs": [
    {
     "data": {
      "text/html": [
       "<div>\n",
       "<style scoped>\n",
       "    .dataframe tbody tr th:only-of-type {\n",
       "        vertical-align: middle;\n",
       "    }\n",
       "\n",
       "    .dataframe tbody tr th {\n",
       "        vertical-align: top;\n",
       "    }\n",
       "\n",
       "    .dataframe thead th {\n",
       "        text-align: right;\n",
       "    }\n",
       "</style>\n",
       "<table border=\"1\" class=\"dataframe\">\n",
       "  <thead>\n",
       "    <tr style=\"text-align: right;\">\n",
       "      <th></th>\n",
       "      <th>100457</th>\n",
       "      <th>105487</th>\n",
       "      <th>35868</th>\n",
       "      <th>14883</th>\n",
       "      <th>117456</th>\n",
       "    </tr>\n",
       "  </thead>\n",
       "  <tbody>\n",
       "    <tr>\n",
       "      <th>date</th>\n",
       "      <td>2015-07-07</td>\n",
       "      <td>2015-07-22</td>\n",
       "      <td>2015-02-16</td>\n",
       "      <td>2015-01-17</td>\n",
       "      <td>2015-09-03</td>\n",
       "    </tr>\n",
       "    <tr>\n",
       "      <th>device</th>\n",
       "      <td>W1F0Z3FW</td>\n",
       "      <td>S1F12XGM</td>\n",
       "      <td>S1F0S6GZ</td>\n",
       "      <td>W1F1CLED</td>\n",
       "      <td>W1F17D9Z</td>\n",
       "    </tr>\n",
       "    <tr>\n",
       "      <th>failure</th>\n",
       "      <td>0</td>\n",
       "      <td>0</td>\n",
       "      <td>0</td>\n",
       "      <td>0</td>\n",
       "      <td>0</td>\n",
       "    </tr>\n",
       "    <tr>\n",
       "      <th>attribute1</th>\n",
       "      <td>54137544</td>\n",
       "      <td>106519592</td>\n",
       "      <td>54466288</td>\n",
       "      <td>97607768</td>\n",
       "      <td>148862160</td>\n",
       "    </tr>\n",
       "    <tr>\n",
       "      <th>attribute2</th>\n",
       "      <td>0</td>\n",
       "      <td>0</td>\n",
       "      <td>0</td>\n",
       "      <td>0</td>\n",
       "      <td>0</td>\n",
       "    </tr>\n",
       "    <tr>\n",
       "      <th>attribute3</th>\n",
       "      <td>0</td>\n",
       "      <td>0</td>\n",
       "      <td>0</td>\n",
       "      <td>0</td>\n",
       "      <td>0</td>\n",
       "    </tr>\n",
       "    <tr>\n",
       "      <th>attribute4</th>\n",
       "      <td>0</td>\n",
       "      <td>0</td>\n",
       "      <td>0</td>\n",
       "      <td>0</td>\n",
       "      <td>0</td>\n",
       "    </tr>\n",
       "    <tr>\n",
       "      <th>attribute5</th>\n",
       "      <td>8</td>\n",
       "      <td>8</td>\n",
       "      <td>12</td>\n",
       "      <td>9</td>\n",
       "      <td>11</td>\n",
       "    </tr>\n",
       "    <tr>\n",
       "      <th>attribute6</th>\n",
       "      <td>235228</td>\n",
       "      <td>287236</td>\n",
       "      <td>271941</td>\n",
       "      <td>424306</td>\n",
       "      <td>227245</td>\n",
       "    </tr>\n",
       "    <tr>\n",
       "      <th>attribute7</th>\n",
       "      <td>0</td>\n",
       "      <td>0</td>\n",
       "      <td>0</td>\n",
       "      <td>0</td>\n",
       "      <td>0</td>\n",
       "    </tr>\n",
       "    <tr>\n",
       "      <th>attribute8</th>\n",
       "      <td>0</td>\n",
       "      <td>0</td>\n",
       "      <td>0</td>\n",
       "      <td>0</td>\n",
       "      <td>0</td>\n",
       "    </tr>\n",
       "    <tr>\n",
       "      <th>attribute9</th>\n",
       "      <td>0</td>\n",
       "      <td>1</td>\n",
       "      <td>0</td>\n",
       "      <td>0</td>\n",
       "      <td>0</td>\n",
       "    </tr>\n",
       "    <tr>\n",
       "      <th>previous_attribute1</th>\n",
       "      <td>1.21748e+08</td>\n",
       "      <td>8.3428e+07</td>\n",
       "      <td>5.35331e+06</td>\n",
       "      <td>3.41729e+07</td>\n",
       "      <td>1.20969e+08</td>\n",
       "    </tr>\n",
       "    <tr>\n",
       "      <th>previous_attribute2</th>\n",
       "      <td>0</td>\n",
       "      <td>0</td>\n",
       "      <td>0</td>\n",
       "      <td>0</td>\n",
       "      <td>0</td>\n",
       "    </tr>\n",
       "    <tr>\n",
       "      <th>previous_attribute3</th>\n",
       "      <td>0</td>\n",
       "      <td>0</td>\n",
       "      <td>0</td>\n",
       "      <td>0</td>\n",
       "      <td>0</td>\n",
       "    </tr>\n",
       "    <tr>\n",
       "      <th>previous_attribute4</th>\n",
       "      <td>0</td>\n",
       "      <td>0</td>\n",
       "      <td>0</td>\n",
       "      <td>0</td>\n",
       "      <td>0</td>\n",
       "    </tr>\n",
       "    <tr>\n",
       "      <th>previous_attribute5</th>\n",
       "      <td>8</td>\n",
       "      <td>8</td>\n",
       "      <td>12</td>\n",
       "      <td>9</td>\n",
       "      <td>11</td>\n",
       "    </tr>\n",
       "    <tr>\n",
       "      <th>previous_attribute6</th>\n",
       "      <td>235228</td>\n",
       "      <td>285876</td>\n",
       "      <td>271941</td>\n",
       "      <td>424237</td>\n",
       "      <td>227245</td>\n",
       "    </tr>\n",
       "    <tr>\n",
       "      <th>previous_attribute7</th>\n",
       "      <td>0</td>\n",
       "      <td>0</td>\n",
       "      <td>0</td>\n",
       "      <td>0</td>\n",
       "      <td>0</td>\n",
       "    </tr>\n",
       "    <tr>\n",
       "      <th>previous_attribute8</th>\n",
       "      <td>0</td>\n",
       "      <td>0</td>\n",
       "      <td>0</td>\n",
       "      <td>0</td>\n",
       "      <td>0</td>\n",
       "    </tr>\n",
       "    <tr>\n",
       "      <th>previous_attribute9</th>\n",
       "      <td>0</td>\n",
       "      <td>1</td>\n",
       "      <td>0</td>\n",
       "      <td>0</td>\n",
       "      <td>0</td>\n",
       "    </tr>\n",
       "    <tr>\n",
       "      <th>index_col</th>\n",
       "      <td>1</td>\n",
       "      <td>2</td>\n",
       "      <td>3</td>\n",
       "      <td>4</td>\n",
       "      <td>5</td>\n",
       "    </tr>\n",
       "  </tbody>\n",
       "</table>\n",
       "</div>"
      ],
      "text/plain": [
       "                          100457      105487       35868        14883   \\\n",
       "date                  2015-07-07  2015-07-22   2015-02-16   2015-01-17   \n",
       "device                  W1F0Z3FW    S1F12XGM     S1F0S6GZ     W1F1CLED   \n",
       "failure                        0           0            0            0   \n",
       "attribute1              54137544   106519592     54466288     97607768   \n",
       "attribute2                     0           0            0            0   \n",
       "attribute3                     0           0            0            0   \n",
       "attribute4                     0           0            0            0   \n",
       "attribute5                     8           8           12            9   \n",
       "attribute6                235228      287236       271941       424306   \n",
       "attribute7                     0           0            0            0   \n",
       "attribute8                     0           0            0            0   \n",
       "attribute9                     0           1            0            0   \n",
       "previous_attribute1  1.21748e+08  8.3428e+07  5.35331e+06  3.41729e+07   \n",
       "previous_attribute2            0           0            0            0   \n",
       "previous_attribute3            0           0            0            0   \n",
       "previous_attribute4            0           0            0            0   \n",
       "previous_attribute5            8           8           12            9   \n",
       "previous_attribute6       235228      285876       271941       424237   \n",
       "previous_attribute7            0           0            0            0   \n",
       "previous_attribute8            0           0            0            0   \n",
       "previous_attribute9            0           1            0            0   \n",
       "index_col                      1           2            3            4   \n",
       "\n",
       "                          117456  \n",
       "date                  2015-09-03  \n",
       "device                  W1F17D9Z  \n",
       "failure                        0  \n",
       "attribute1             148862160  \n",
       "attribute2                     0  \n",
       "attribute3                     0  \n",
       "attribute4                     0  \n",
       "attribute5                    11  \n",
       "attribute6                227245  \n",
       "attribute7                     0  \n",
       "attribute8                     0  \n",
       "attribute9                     0  \n",
       "previous_attribute1  1.20969e+08  \n",
       "previous_attribute2            0  \n",
       "previous_attribute3            0  \n",
       "previous_attribute4            0  \n",
       "previous_attribute5           11  \n",
       "previous_attribute6       227245  \n",
       "previous_attribute7            0  \n",
       "previous_attribute8            0  \n",
       "previous_attribute9            0  \n",
       "index_col                      5  "
      ]
     },
     "execution_count": 35,
     "metadata": {},
     "output_type": "execute_result"
    }
   ],
   "source": [
    "train.head().T.head(40)"
   ]
  },
  {
   "cell_type": "code",
   "execution_count": 36,
   "metadata": {},
   "outputs": [
    {
     "data": {
      "text/plain": [
       "(46082, 12333)"
      ]
     },
     "execution_count": 36,
     "metadata": {},
     "output_type": "execute_result"
    }
   ],
   "source": [
    "len(train),len(test)"
   ]
  },
  {
   "cell_type": "markdown",
   "metadata": {},
   "source": [
    "\n",
    "#### Because neural network can use the embedding method transform the category variable to the high dimension vector value. we should make decision about category variable or continue variable. but unfortunately i have not more attribute information in detail. so I have confirmed the data and set all to continue variable. \n",
    "\n",
    "\n"
   ]
  },
  {
   "cell_type": "code",
   "execution_count": 37,
   "metadata": {},
   "outputs": [],
   "source": [
    "cat_vars = []\n",
    "drop_vars = ['date','device']\n",
    "contin_vars = ['attribute1', 'attribute2', 'attribute3', 'attribute4', 'attribute5', 'attribute6', 'attribute7', 'attribute8', 'attribute9','previous_attribute1','previous_attribute2','previous_attribute3','previous_attribute4','previous_attribute5','previous_attribute6','previous_attribute7','previous_attribute8','previous_attribute9']\n",
    "index = 'index_col'\n",
    "n = len(train); n\n",
    "for df in (test,train):\n",
    "    df.set_index(index)\n"
   ]
  },
  {
   "cell_type": "code",
   "execution_count": 38,
   "metadata": {},
   "outputs": [],
   "source": [
    "dep = 'failure'\n",
    "\n",
    "train = train[cat_vars+contin_vars+[dep, 'index_col']].copy()"
   ]
  },
  {
   "cell_type": "code",
   "execution_count": 39,
   "metadata": {},
   "outputs": [],
   "source": [
    "test = test[cat_vars+contin_vars+[dep, 'index_col']].copy()"
   ]
  },
  {
   "cell_type": "code",
   "execution_count": 40,
   "metadata": {},
   "outputs": [
    {
     "data": {
      "text/plain": [
       "(46082, 20)"
      ]
     },
     "execution_count": 40,
     "metadata": {},
     "output_type": "execute_result"
    }
   ],
   "source": [
    "train.shape"
   ]
  },
  {
   "cell_type": "code",
   "execution_count": 41,
   "metadata": {},
   "outputs": [],
   "source": [
    "for v in cat_vars: train[v] = train[v].astype('category').cat.as_ordered()"
   ]
  },
  {
   "cell_type": "code",
   "execution_count": 42,
   "metadata": {},
   "outputs": [],
   "source": [
    "apply_cats(test, train)"
   ]
  },
  {
   "cell_type": "code",
   "execution_count": 43,
   "metadata": {},
   "outputs": [],
   "source": [
    "for v in contin_vars:\n",
    "    train[v] = train[v].astype('float32')\n",
    "    test[v] = test[v].astype('float32')"
   ]
  },
  {
   "cell_type": "markdown",
   "metadata": {},
   "source": [
    "#### Normalization data values and setting the x_lable_data ,y_lable_data for training the neural network."
   ]
  },
  {
   "cell_type": "code",
   "execution_count": 44,
   "metadata": {},
   "outputs": [],
   "source": [
    "df, y, nas, mapper = proc_df(train, dep, do_scale=True)"
   ]
  },
  {
   "cell_type": "code",
   "execution_count": 45,
   "metadata": {},
   "outputs": [
    {
     "data": {
      "text/plain": [
       "array([0, 0, 0, 0, 0, 0, 0, 0, 0, 0, 1, 0, 0, 0, 0, 0, 0, 0, 0, 1, ..., 0, 0, 1, 0, 1, 1, 0, 0, 1, 0, 1, 1,\n",
       "       1, 0, 0, 0, 1, 1, 0, 0])"
      ]
     },
     "execution_count": 45,
     "metadata": {},
     "output_type": "execute_result"
    }
   ],
   "source": [
    "y"
   ]
  },
  {
   "cell_type": "code",
   "execution_count": 46,
   "metadata": {},
   "outputs": [
    {
     "data": {
      "text/html": [
       "<div>\n",
       "<style scoped>\n",
       "    .dataframe tbody tr th:only-of-type {\n",
       "        vertical-align: middle;\n",
       "    }\n",
       "\n",
       "    .dataframe tbody tr th {\n",
       "        vertical-align: top;\n",
       "    }\n",
       "\n",
       "    .dataframe thead th {\n",
       "        text-align: right;\n",
       "    }\n",
       "</style>\n",
       "<table border=\"1\" class=\"dataframe\">\n",
       "  <thead>\n",
       "    <tr style=\"text-align: right;\">\n",
       "      <th></th>\n",
       "      <th>attribute1</th>\n",
       "      <th>attribute2</th>\n",
       "      <th>attribute3</th>\n",
       "      <th>attribute4</th>\n",
       "      <th>attribute5</th>\n",
       "      <th>attribute6</th>\n",
       "      <th>attribute7</th>\n",
       "      <th>attribute8</th>\n",
       "      <th>attribute9</th>\n",
       "      <th>previous_attribute1</th>\n",
       "      <th>previous_attribute2</th>\n",
       "      <th>previous_attribute3</th>\n",
       "      <th>previous_attribute4</th>\n",
       "      <th>previous_attribute5</th>\n",
       "      <th>previous_attribute6</th>\n",
       "      <th>previous_attribute7</th>\n",
       "      <th>previous_attribute8</th>\n",
       "      <th>previous_attribute9</th>\n",
       "      <th>index_col</th>\n",
       "    </tr>\n",
       "  </thead>\n",
       "  <tbody>\n",
       "    <tr>\n",
       "      <th>100457</th>\n",
       "      <td>-0.976615</td>\n",
       "      <td>-0.142938</td>\n",
       "      <td>-0.056502</td>\n",
       "      <td>-0.12293</td>\n",
       "      <td>-0.414239</td>\n",
       "      <td>-0.272033</td>\n",
       "      <td>-0.099116</td>\n",
       "      <td>-0.099116</td>\n",
       "      <td>-0.084927</td>\n",
       "      <td>-0.017039</td>\n",
       "      <td>-0.133083</td>\n",
       "      <td>-0.056461</td>\n",
       "      <td>-0.115218</td>\n",
       "      <td>-0.412451</td>\n",
       "      <td>-0.268538</td>\n",
       "      <td>-0.106954</td>\n",
       "      <td>-0.106954</td>\n",
       "      <td>-0.084915</td>\n",
       "      <td>-1.732013</td>\n",
       "    </tr>\n",
       "    <tr>\n",
       "      <th>105487</th>\n",
       "      <td>-0.227493</td>\n",
       "      <td>-0.142938</td>\n",
       "      <td>-0.056502</td>\n",
       "      <td>-0.12293</td>\n",
       "      <td>-0.414239</td>\n",
       "      <td>0.253266</td>\n",
       "      <td>-0.099116</td>\n",
       "      <td>-0.099116</td>\n",
       "      <td>-0.079281</td>\n",
       "      <td>-0.559850</td>\n",
       "      <td>-0.133083</td>\n",
       "      <td>-0.056461</td>\n",
       "      <td>-0.115218</td>\n",
       "      <td>-0.412451</td>\n",
       "      <td>0.243192</td>\n",
       "      <td>-0.106954</td>\n",
       "      <td>-0.106954</td>\n",
       "      <td>-0.079269</td>\n",
       "      <td>-1.731938</td>\n",
       "    </tr>\n",
       "    <tr>\n",
       "      <th>35868</th>\n",
       "      <td>-0.971913</td>\n",
       "      <td>-0.142938</td>\n",
       "      <td>-0.056502</td>\n",
       "      <td>-0.12293</td>\n",
       "      <td>-0.164104</td>\n",
       "      <td>0.098781</td>\n",
       "      <td>-0.099116</td>\n",
       "      <td>-0.099116</td>\n",
       "      <td>-0.084927</td>\n",
       "      <td>-1.665794</td>\n",
       "      <td>-0.133083</td>\n",
       "      <td>-0.056461</td>\n",
       "      <td>-0.115218</td>\n",
       "      <td>-0.162450</td>\n",
       "      <td>0.102397</td>\n",
       "      <td>-0.106954</td>\n",
       "      <td>-0.106954</td>\n",
       "      <td>-0.084915</td>\n",
       "      <td>-1.731863</td>\n",
       "    </tr>\n",
       "  </tbody>\n",
       "</table>\n",
       "</div>"
      ],
      "text/plain": [
       "        attribute1  attribute2  attribute3  attribute4  attribute5  \\\n",
       "100457   -0.976615   -0.142938   -0.056502    -0.12293   -0.414239   \n",
       "105487   -0.227493   -0.142938   -0.056502    -0.12293   -0.414239   \n",
       "35868    -0.971913   -0.142938   -0.056502    -0.12293   -0.164104   \n",
       "\n",
       "        attribute6  attribute7  attribute8  attribute9  previous_attribute1  \\\n",
       "100457   -0.272033   -0.099116   -0.099116   -0.084927            -0.017039   \n",
       "105487    0.253266   -0.099116   -0.099116   -0.079281            -0.559850   \n",
       "35868     0.098781   -0.099116   -0.099116   -0.084927            -1.665794   \n",
       "\n",
       "        previous_attribute2  previous_attribute3  previous_attribute4  \\\n",
       "100457            -0.133083            -0.056461            -0.115218   \n",
       "105487            -0.133083            -0.056461            -0.115218   \n",
       "35868             -0.133083            -0.056461            -0.115218   \n",
       "\n",
       "        previous_attribute5  previous_attribute6  previous_attribute7  \\\n",
       "100457            -0.412451            -0.268538            -0.106954   \n",
       "105487            -0.412451             0.243192            -0.106954   \n",
       "35868             -0.162450             0.102397            -0.106954   \n",
       "\n",
       "        previous_attribute8  previous_attribute9  index_col  \n",
       "100457            -0.106954            -0.084915  -1.732013  \n",
       "105487            -0.106954            -0.079269  -1.731938  \n",
       "35868             -0.106954            -0.084915  -1.731863  "
      ]
     },
     "execution_count": 46,
     "metadata": {},
     "output_type": "execute_result"
    }
   ],
   "source": [
    "df.head(3)"
   ]
  },
  {
   "cell_type": "code",
   "execution_count": 47,
   "metadata": {},
   "outputs": [],
   "source": [
    "df_test, _, nas, mapper = proc_df(test, dep, do_scale=True, mapper=mapper, na_dict=nas)"
   ]
  },
  {
   "cell_type": "code",
   "execution_count": 48,
   "metadata": {},
   "outputs": [
    {
     "data": {
      "text/html": [
       "<div>\n",
       "<style scoped>\n",
       "    .dataframe tbody tr th:only-of-type {\n",
       "        vertical-align: middle;\n",
       "    }\n",
       "\n",
       "    .dataframe tbody tr th {\n",
       "        vertical-align: top;\n",
       "    }\n",
       "\n",
       "    .dataframe thead th {\n",
       "        text-align: right;\n",
       "    }\n",
       "</style>\n",
       "<table border=\"1\" class=\"dataframe\">\n",
       "  <thead>\n",
       "    <tr style=\"text-align: right;\">\n",
       "      <th></th>\n",
       "      <th>attribute1</th>\n",
       "      <th>attribute2</th>\n",
       "      <th>attribute3</th>\n",
       "      <th>attribute4</th>\n",
       "      <th>attribute5</th>\n",
       "      <th>attribute6</th>\n",
       "      <th>attribute7</th>\n",
       "      <th>attribute8</th>\n",
       "      <th>attribute9</th>\n",
       "      <th>previous_attribute1</th>\n",
       "      <th>previous_attribute2</th>\n",
       "      <th>previous_attribute3</th>\n",
       "      <th>previous_attribute4</th>\n",
       "      <th>previous_attribute5</th>\n",
       "      <th>previous_attribute6</th>\n",
       "      <th>previous_attribute7</th>\n",
       "      <th>previous_attribute8</th>\n",
       "      <th>previous_attribute9</th>\n",
       "      <th>index_col</th>\n",
       "    </tr>\n",
       "  </thead>\n",
       "  <tbody>\n",
       "    <tr>\n",
       "      <th>37611</th>\n",
       "      <td>-1.564750</td>\n",
       "      <td>-0.142938</td>\n",
       "      <td>-0.043900</td>\n",
       "      <td>-0.12293</td>\n",
       "      <td>-0.164104</td>\n",
       "      <td>-0.125719</td>\n",
       "      <td>-0.099116</td>\n",
       "      <td>-0.099116</td>\n",
       "      <td>-0.056698</td>\n",
       "      <td>1.010712</td>\n",
       "      <td>-0.133083</td>\n",
       "      <td>-0.043858</td>\n",
       "      <td>-0.115218</td>\n",
       "      <td>-0.162450</td>\n",
       "      <td>-0.122177</td>\n",
       "      <td>-0.106954</td>\n",
       "      <td>-0.106954</td>\n",
       "      <td>-0.056687</td>\n",
       "      <td>1.732088</td>\n",
       "    </tr>\n",
       "    <tr>\n",
       "      <th>19214</th>\n",
       "      <td>-1.512773</td>\n",
       "      <td>-0.142938</td>\n",
       "      <td>-0.056502</td>\n",
       "      <td>-0.12293</td>\n",
       "      <td>-0.539307</td>\n",
       "      <td>0.437162</td>\n",
       "      <td>-0.099116</td>\n",
       "      <td>-0.099116</td>\n",
       "      <td>-0.084927</td>\n",
       "      <td>-0.895103</td>\n",
       "      <td>-0.133083</td>\n",
       "      <td>-0.056461</td>\n",
       "      <td>-0.115218</td>\n",
       "      <td>-0.537452</td>\n",
       "      <td>0.440890</td>\n",
       "      <td>-0.106954</td>\n",
       "      <td>-0.106954</td>\n",
       "      <td>-0.084915</td>\n",
       "      <td>1.732164</td>\n",
       "    </tr>\n",
       "    <tr>\n",
       "      <th>17182</th>\n",
       "      <td>-0.065156</td>\n",
       "      <td>-0.142938</td>\n",
       "      <td>-0.056502</td>\n",
       "      <td>-0.12293</td>\n",
       "      <td>-0.226638</td>\n",
       "      <td>-2.647641</td>\n",
       "      <td>-0.099116</td>\n",
       "      <td>-0.099116</td>\n",
       "      <td>-0.084927</td>\n",
       "      <td>-1.369286</td>\n",
       "      <td>-0.133083</td>\n",
       "      <td>-0.056461</td>\n",
       "      <td>-0.115218</td>\n",
       "      <td>-0.224951</td>\n",
       "      <td>-2.644929</td>\n",
       "      <td>-0.106954</td>\n",
       "      <td>-0.106954</td>\n",
       "      <td>-0.084915</td>\n",
       "      <td>1.732239</td>\n",
       "    </tr>\n",
       "  </tbody>\n",
       "</table>\n",
       "</div>"
      ],
      "text/plain": [
       "       attribute1  attribute2  attribute3  attribute4  attribute5  attribute6  \\\n",
       "37611   -1.564750   -0.142938   -0.043900    -0.12293   -0.164104   -0.125719   \n",
       "19214   -1.512773   -0.142938   -0.056502    -0.12293   -0.539307    0.437162   \n",
       "17182   -0.065156   -0.142938   -0.056502    -0.12293   -0.226638   -2.647641   \n",
       "\n",
       "       attribute7  attribute8  attribute9  previous_attribute1  \\\n",
       "37611   -0.099116   -0.099116   -0.056698             1.010712   \n",
       "19214   -0.099116   -0.099116   -0.084927            -0.895103   \n",
       "17182   -0.099116   -0.099116   -0.084927            -1.369286   \n",
       "\n",
       "       previous_attribute2  previous_attribute3  previous_attribute4  \\\n",
       "37611            -0.133083            -0.043858            -0.115218   \n",
       "19214            -0.133083            -0.056461            -0.115218   \n",
       "17182            -0.133083            -0.056461            -0.115218   \n",
       "\n",
       "       previous_attribute5  previous_attribute6  previous_attribute7  \\\n",
       "37611            -0.162450            -0.122177            -0.106954   \n",
       "19214            -0.537452             0.440890            -0.106954   \n",
       "17182            -0.224951            -2.644929            -0.106954   \n",
       "\n",
       "       previous_attribute8  previous_attribute9  index_col  \n",
       "37611            -0.106954            -0.056687   1.732088  \n",
       "19214            -0.106954            -0.084915   1.732164  \n",
       "17182            -0.106954            -0.084915   1.732239  "
      ]
     },
     "execution_count": 48,
     "metadata": {},
     "output_type": "execute_result"
    }
   ],
   "source": [
    "df_test.head(3)"
   ]
  },
  {
   "cell_type": "code",
   "execution_count": 49,
   "metadata": {},
   "outputs": [
    {
     "data": {
      "text/plain": [
       "DataFrameMapper(default=False, df_out=False,\n",
       "        features=[(['attribute1'], StandardScaler(copy=True, with_mean=True, with_std=True)), (['attribute2'], StandardScaler(copy=True, with_mean=True, with_std=True)), (['attribute3'], StandardScaler(copy=True, with_mean=True, with_std=True)), (['attribute4'], StandardScaler(copy=True, with_mean=True, wit...an=True, with_std=True)), (['index_col'], StandardScaler(copy=True, with_mean=True, with_std=True))],\n",
       "        input_df=False, sparse=False)"
      ]
     },
     "execution_count": 49,
     "metadata": {},
     "output_type": "execute_result"
    }
   ],
   "source": [
    "mapper"
   ]
  },
  {
   "cell_type": "code",
   "execution_count": 50,
   "metadata": {},
   "outputs": [
    {
     "data": {
      "text/html": [
       "<div>\n",
       "<style scoped>\n",
       "    .dataframe tbody tr th:only-of-type {\n",
       "        vertical-align: middle;\n",
       "    }\n",
       "\n",
       "    .dataframe tbody tr th {\n",
       "        vertical-align: top;\n",
       "    }\n",
       "\n",
       "    .dataframe thead th {\n",
       "        text-align: right;\n",
       "    }\n",
       "</style>\n",
       "<table border=\"1\" class=\"dataframe\">\n",
       "  <thead>\n",
       "    <tr style=\"text-align: right;\">\n",
       "      <th></th>\n",
       "      <th>attribute1</th>\n",
       "      <th>attribute2</th>\n",
       "      <th>attribute3</th>\n",
       "      <th>attribute4</th>\n",
       "      <th>attribute5</th>\n",
       "      <th>attribute6</th>\n",
       "      <th>attribute7</th>\n",
       "      <th>attribute8</th>\n",
       "      <th>attribute9</th>\n",
       "      <th>previous_attribute1</th>\n",
       "      <th>previous_attribute2</th>\n",
       "      <th>previous_attribute3</th>\n",
       "      <th>previous_attribute4</th>\n",
       "      <th>previous_attribute5</th>\n",
       "      <th>previous_attribute6</th>\n",
       "      <th>previous_attribute7</th>\n",
       "      <th>previous_attribute8</th>\n",
       "      <th>previous_attribute9</th>\n",
       "      <th>index_col</th>\n",
       "    </tr>\n",
       "  </thead>\n",
       "  <tbody>\n",
       "    <tr>\n",
       "      <th>count</th>\n",
       "      <td>46082</td>\n",
       "      <td>46082</td>\n",
       "      <td>46082</td>\n",
       "      <td>46082</td>\n",
       "      <td>46082</td>\n",
       "      <td>46082</td>\n",
       "      <td>46082</td>\n",
       "      <td>46082</td>\n",
       "      <td>46082</td>\n",
       "      <td>46082</td>\n",
       "      <td>46082</td>\n",
       "      <td>46082</td>\n",
       "      <td>46082</td>\n",
       "      <td>46082</td>\n",
       "      <td>46082</td>\n",
       "      <td>46082</td>\n",
       "      <td>46082</td>\n",
       "      <td>46082</td>\n",
       "      <td>46082</td>\n",
       "    </tr>\n",
       "    <tr>\n",
       "      <th>mean</th>\n",
       "      <td>-4.91593e-08</td>\n",
       "      <td>-7.24573e-09</td>\n",
       "      <td>1.29821e-09</td>\n",
       "      <td>1.65371e-09</td>\n",
       "      <td>-1.26155e-08</td>\n",
       "      <td>6.38225e-08</td>\n",
       "      <td>-2.1717e-09</td>\n",
       "      <td>-2.1717e-09</td>\n",
       "      <td>3.64637e-09</td>\n",
       "      <td>1.09638e-07</td>\n",
       "      <td>1.2106e-08</td>\n",
       "      <td>-1.40392e-09</td>\n",
       "      <td>-3.42541e-09</td>\n",
       "      <td>5.82456e-09</td>\n",
       "      <td>1.92238e-07</td>\n",
       "      <td>-5.43668e-09</td>\n",
       "      <td>-5.43668e-09</td>\n",
       "      <td>8.14227e-10</td>\n",
       "      <td>4.77028e-19</td>\n",
       "    </tr>\n",
       "    <tr>\n",
       "      <th>std</th>\n",
       "      <td>1.00001</td>\n",
       "      <td>1.00001</td>\n",
       "      <td>1.00001</td>\n",
       "      <td>1.00001</td>\n",
       "      <td>1.00001</td>\n",
       "      <td>1.00001</td>\n",
       "      <td>1.00001</td>\n",
       "      <td>1.00001</td>\n",
       "      <td>1.00001</td>\n",
       "      <td>1.00001</td>\n",
       "      <td>1.00001</td>\n",
       "      <td>1.00001</td>\n",
       "      <td>1.00001</td>\n",
       "      <td>1.00001</td>\n",
       "      <td>1.00001</td>\n",
       "      <td>1.00001</td>\n",
       "      <td>1.00001</td>\n",
       "      <td>1.00001</td>\n",
       "      <td>1.00001</td>\n",
       "    </tr>\n",
       "    <tr>\n",
       "      <th>min</th>\n",
       "      <td>-1.75084</td>\n",
       "      <td>-0.142938</td>\n",
       "      <td>-0.0565021</td>\n",
       "      <td>-0.12293</td>\n",
       "      <td>-0.851977</td>\n",
       "      <td>-2.64783</td>\n",
       "      <td>-0.099116</td>\n",
       "      <td>-0.099116</td>\n",
       "      <td>-0.0849269</td>\n",
       "      <td>-1.74162</td>\n",
       "      <td>-0.133083</td>\n",
       "      <td>-0.0564613</td>\n",
       "      <td>-0.115218</td>\n",
       "      <td>-0.849953</td>\n",
       "      <td>-2.64512</td>\n",
       "      <td>-0.106954</td>\n",
       "      <td>-0.106954</td>\n",
       "      <td>-0.0849152</td>\n",
       "      <td>-1.73201</td>\n",
       "    </tr>\n",
       "    <tr>\n",
       "      <th>25%</th>\n",
       "      <td>-0.857709</td>\n",
       "      <td>-0.142938</td>\n",
       "      <td>-0.0565021</td>\n",
       "      <td>-0.12293</td>\n",
       "      <td>-0.414239</td>\n",
       "      <td>-0.396254</td>\n",
       "      <td>-0.099116</td>\n",
       "      <td>-0.099116</td>\n",
       "      <td>-0.0849269</td>\n",
       "      <td>-0.844042</td>\n",
       "      <td>-0.133083</td>\n",
       "      <td>-0.0564613</td>\n",
       "      <td>-0.115218</td>\n",
       "      <td>-0.412451</td>\n",
       "      <td>-0.394864</td>\n",
       "      <td>-0.106954</td>\n",
       "      <td>-0.106954</td>\n",
       "      <td>-0.0849152</td>\n",
       "      <td>-0.866007</td>\n",
       "    </tr>\n",
       "    <tr>\n",
       "      <th>50%</th>\n",
       "      <td>0.0195122</td>\n",
       "      <td>-0.142938</td>\n",
       "      <td>-0.0565021</td>\n",
       "      <td>-0.12293</td>\n",
       "      <td>-0.289172</td>\n",
       "      <td>-0.0727631</td>\n",
       "      <td>-0.099116</td>\n",
       "      <td>-0.099116</td>\n",
       "      <td>-0.0849269</td>\n",
       "      <td>-0.00104267</td>\n",
       "      <td>-0.133083</td>\n",
       "      <td>-0.0564613</td>\n",
       "      <td>-0.115218</td>\n",
       "      <td>-0.287451</td>\n",
       "      <td>-0.0737297</td>\n",
       "      <td>-0.106954</td>\n",
       "      <td>-0.106954</td>\n",
       "      <td>-0.0849152</td>\n",
       "      <td>0</td>\n",
       "    </tr>\n",
       "    <tr>\n",
       "      <th>75%</th>\n",
       "      <td>0.860788</td>\n",
       "      <td>-0.142938</td>\n",
       "      <td>-0.0565021</td>\n",
       "      <td>-0.12293</td>\n",
       "      <td>-0.10157</td>\n",
       "      <td>0.48925</td>\n",
       "      <td>-0.099116</td>\n",
       "      <td>-0.099116</td>\n",
       "      <td>-0.0849269</td>\n",
       "      <td>0.844954</td>\n",
       "      <td>-0.133083</td>\n",
       "      <td>-0.0564613</td>\n",
       "      <td>-0.115218</td>\n",
       "      <td>-0.09995</td>\n",
       "      <td>0.491277</td>\n",
       "      <td>-0.106954</td>\n",
       "      <td>-0.106954</td>\n",
       "      <td>-0.0849152</td>\n",
       "      <td>0.866007</td>\n",
       "    </tr>\n",
       "    <tr>\n",
       "      <th>max</th>\n",
       "      <td>1.74058</td>\n",
       "      <td>10.7909</td>\n",
       "      <td>157.029</td>\n",
       "      <td>18.6073</td>\n",
       "      <td>5.21381</td>\n",
       "      <td>4.31284</td>\n",
       "      <td>20.1601</td>\n",
       "      <td>20.1601</td>\n",
       "      <td>105.495</td>\n",
       "      <td>1.7166</td>\n",
       "      <td>12.756</td>\n",
       "      <td>157.034</td>\n",
       "      <td>18.7767</td>\n",
       "      <td>5.21257</td>\n",
       "      <td>4.31685</td>\n",
       "      <td>30.1745</td>\n",
       "      <td>30.1745</td>\n",
       "      <td>105.495</td>\n",
       "      <td>1.73201</td>\n",
       "    </tr>\n",
       "    <tr>\n",
       "      <th>counts</th>\n",
       "      <td>46082</td>\n",
       "      <td>46082</td>\n",
       "      <td>46082</td>\n",
       "      <td>46082</td>\n",
       "      <td>46082</td>\n",
       "      <td>46082</td>\n",
       "      <td>46082</td>\n",
       "      <td>46082</td>\n",
       "      <td>46082</td>\n",
       "      <td>46082</td>\n",
       "      <td>46082</td>\n",
       "      <td>46082</td>\n",
       "      <td>46082</td>\n",
       "      <td>46082</td>\n",
       "      <td>46082</td>\n",
       "      <td>46082</td>\n",
       "      <td>46082</td>\n",
       "      <td>46082</td>\n",
       "      <td>46082</td>\n",
       "    </tr>\n",
       "    <tr>\n",
       "      <th>uniques</th>\n",
       "      <td>36932</td>\n",
       "      <td>359</td>\n",
       "      <td>44</td>\n",
       "      <td>82</td>\n",
       "      <td>60</td>\n",
       "      <td>20286</td>\n",
       "      <td>22</td>\n",
       "      <td>22</td>\n",
       "      <td>61</td>\n",
       "      <td>36947</td>\n",
       "      <td>348</td>\n",
       "      <td>43</td>\n",
       "      <td>80</td>\n",
       "      <td>60</td>\n",
       "      <td>20203</td>\n",
       "      <td>21</td>\n",
       "      <td>21</td>\n",
       "      <td>61</td>\n",
       "      <td>46082</td>\n",
       "    </tr>\n",
       "    <tr>\n",
       "      <th>missing</th>\n",
       "      <td>0</td>\n",
       "      <td>0</td>\n",
       "      <td>0</td>\n",
       "      <td>0</td>\n",
       "      <td>0</td>\n",
       "      <td>0</td>\n",
       "      <td>0</td>\n",
       "      <td>0</td>\n",
       "      <td>0</td>\n",
       "      <td>0</td>\n",
       "      <td>0</td>\n",
       "      <td>0</td>\n",
       "      <td>0</td>\n",
       "      <td>0</td>\n",
       "      <td>0</td>\n",
       "      <td>0</td>\n",
       "      <td>0</td>\n",
       "      <td>0</td>\n",
       "      <td>0</td>\n",
       "    </tr>\n",
       "    <tr>\n",
       "      <th>missing_perc</th>\n",
       "      <td>0%</td>\n",
       "      <td>0%</td>\n",
       "      <td>0%</td>\n",
       "      <td>0%</td>\n",
       "      <td>0%</td>\n",
       "      <td>0%</td>\n",
       "      <td>0%</td>\n",
       "      <td>0%</td>\n",
       "      <td>0%</td>\n",
       "      <td>0%</td>\n",
       "      <td>0%</td>\n",
       "      <td>0%</td>\n",
       "      <td>0%</td>\n",
       "      <td>0%</td>\n",
       "      <td>0%</td>\n",
       "      <td>0%</td>\n",
       "      <td>0%</td>\n",
       "      <td>0%</td>\n",
       "      <td>0%</td>\n",
       "    </tr>\n",
       "    <tr>\n",
       "      <th>types</th>\n",
       "      <td>numeric</td>\n",
       "      <td>numeric</td>\n",
       "      <td>numeric</td>\n",
       "      <td>numeric</td>\n",
       "      <td>numeric</td>\n",
       "      <td>numeric</td>\n",
       "      <td>numeric</td>\n",
       "      <td>numeric</td>\n",
       "      <td>numeric</td>\n",
       "      <td>numeric</td>\n",
       "      <td>numeric</td>\n",
       "      <td>numeric</td>\n",
       "      <td>numeric</td>\n",
       "      <td>numeric</td>\n",
       "      <td>numeric</td>\n",
       "      <td>numeric</td>\n",
       "      <td>numeric</td>\n",
       "      <td>numeric</td>\n",
       "      <td>numeric</td>\n",
       "    </tr>\n",
       "  </tbody>\n",
       "</table>\n",
       "</div>"
      ],
      "text/plain": [
       "               attribute1   attribute2   attribute3   attribute4   attribute5  \\\n",
       "count               46082        46082        46082        46082        46082   \n",
       "mean         -4.91593e-08 -7.24573e-09  1.29821e-09  1.65371e-09 -1.26155e-08   \n",
       "std               1.00001      1.00001      1.00001      1.00001      1.00001   \n",
       "min              -1.75084    -0.142938   -0.0565021     -0.12293    -0.851977   \n",
       "25%             -0.857709    -0.142938   -0.0565021     -0.12293    -0.414239   \n",
       "50%             0.0195122    -0.142938   -0.0565021     -0.12293    -0.289172   \n",
       "75%              0.860788    -0.142938   -0.0565021     -0.12293     -0.10157   \n",
       "max               1.74058      10.7909      157.029      18.6073      5.21381   \n",
       "counts              46082        46082        46082        46082        46082   \n",
       "uniques             36932          359           44           82           60   \n",
       "missing                 0            0            0            0            0   \n",
       "missing_perc           0%           0%           0%           0%           0%   \n",
       "types             numeric      numeric      numeric      numeric      numeric   \n",
       "\n",
       "               attribute6  attribute7  attribute8   attribute9  \\\n",
       "count               46082       46082       46082        46082   \n",
       "mean          6.38225e-08 -2.1717e-09 -2.1717e-09  3.64637e-09   \n",
       "std               1.00001     1.00001     1.00001      1.00001   \n",
       "min              -2.64783   -0.099116   -0.099116   -0.0849269   \n",
       "25%             -0.396254   -0.099116   -0.099116   -0.0849269   \n",
       "50%            -0.0727631   -0.099116   -0.099116   -0.0849269   \n",
       "75%               0.48925   -0.099116   -0.099116   -0.0849269   \n",
       "max               4.31284     20.1601     20.1601      105.495   \n",
       "counts              46082       46082       46082        46082   \n",
       "uniques             20286          22          22           61   \n",
       "missing                 0           0           0            0   \n",
       "missing_perc           0%          0%          0%           0%   \n",
       "types             numeric     numeric     numeric      numeric   \n",
       "\n",
       "             previous_attribute1 previous_attribute2 previous_attribute3  \\\n",
       "count                      46082               46082               46082   \n",
       "mean                 1.09638e-07          1.2106e-08        -1.40392e-09   \n",
       "std                      1.00001             1.00001             1.00001   \n",
       "min                     -1.74162           -0.133083          -0.0564613   \n",
       "25%                    -0.844042           -0.133083          -0.0564613   \n",
       "50%                  -0.00104267           -0.133083          -0.0564613   \n",
       "75%                     0.844954           -0.133083          -0.0564613   \n",
       "max                       1.7166              12.756             157.034   \n",
       "counts                     46082               46082               46082   \n",
       "uniques                    36947                 348                  43   \n",
       "missing                        0                   0                   0   \n",
       "missing_perc                  0%                  0%                  0%   \n",
       "types                    numeric             numeric             numeric   \n",
       "\n",
       "             previous_attribute4 previous_attribute5 previous_attribute6  \\\n",
       "count                      46082               46082               46082   \n",
       "mean                -3.42541e-09         5.82456e-09         1.92238e-07   \n",
       "std                      1.00001             1.00001             1.00001   \n",
       "min                    -0.115218           -0.849953            -2.64512   \n",
       "25%                    -0.115218           -0.412451           -0.394864   \n",
       "50%                    -0.115218           -0.287451          -0.0737297   \n",
       "75%                    -0.115218            -0.09995            0.491277   \n",
       "max                      18.7767             5.21257             4.31685   \n",
       "counts                     46082               46082               46082   \n",
       "uniques                       80                  60               20203   \n",
       "missing                        0                   0                   0   \n",
       "missing_perc                  0%                  0%                  0%   \n",
       "types                    numeric             numeric             numeric   \n",
       "\n",
       "             previous_attribute7 previous_attribute8 previous_attribute9  \\\n",
       "count                      46082               46082               46082   \n",
       "mean                -5.43668e-09        -5.43668e-09         8.14227e-10   \n",
       "std                      1.00001             1.00001             1.00001   \n",
       "min                    -0.106954           -0.106954          -0.0849152   \n",
       "25%                    -0.106954           -0.106954          -0.0849152   \n",
       "50%                    -0.106954           -0.106954          -0.0849152   \n",
       "75%                    -0.106954           -0.106954          -0.0849152   \n",
       "max                      30.1745             30.1745             105.495   \n",
       "counts                     46082               46082               46082   \n",
       "uniques                       21                  21                  61   \n",
       "missing                        0                   0                   0   \n",
       "missing_perc                  0%                  0%                  0%   \n",
       "types                    numeric             numeric             numeric   \n",
       "\n",
       "                index_col  \n",
       "count               46082  \n",
       "mean          4.77028e-19  \n",
       "std               1.00001  \n",
       "min              -1.73201  \n",
       "25%             -0.866007  \n",
       "50%                     0  \n",
       "75%              0.866007  \n",
       "max               1.73201  \n",
       "counts              46082  \n",
       "uniques             46082  \n",
       "missing                 0  \n",
       "missing_perc           0%  \n",
       "types             numeric  "
      ]
     },
     "metadata": {},
     "output_type": "display_data"
    }
   ],
   "source": [
    "display(DataFrameSummary(df).summary())"
   ]
  },
  {
   "cell_type": "code",
   "execution_count": 51,
   "metadata": {},
   "outputs": [
    {
     "data": {
      "text/html": [
       "<div>\n",
       "<style scoped>\n",
       "    .dataframe tbody tr th:only-of-type {\n",
       "        vertical-align: middle;\n",
       "    }\n",
       "\n",
       "    .dataframe tbody tr th {\n",
       "        vertical-align: top;\n",
       "    }\n",
       "\n",
       "    .dataframe thead th {\n",
       "        text-align: right;\n",
       "    }\n",
       "</style>\n",
       "<table border=\"1\" class=\"dataframe\">\n",
       "  <thead>\n",
       "    <tr style=\"text-align: right;\">\n",
       "      <th></th>\n",
       "      <th>attribute1</th>\n",
       "      <th>attribute2</th>\n",
       "      <th>attribute3</th>\n",
       "      <th>attribute4</th>\n",
       "      <th>attribute5</th>\n",
       "      <th>attribute6</th>\n",
       "      <th>attribute7</th>\n",
       "      <th>attribute8</th>\n",
       "      <th>attribute9</th>\n",
       "      <th>previous_attribute1</th>\n",
       "      <th>previous_attribute2</th>\n",
       "      <th>previous_attribute3</th>\n",
       "      <th>previous_attribute4</th>\n",
       "      <th>previous_attribute5</th>\n",
       "      <th>previous_attribute6</th>\n",
       "      <th>previous_attribute7</th>\n",
       "      <th>previous_attribute8</th>\n",
       "      <th>previous_attribute9</th>\n",
       "      <th>index_col</th>\n",
       "    </tr>\n",
       "  </thead>\n",
       "  <tbody>\n",
       "    <tr>\n",
       "      <th>count</th>\n",
       "      <td>12333</td>\n",
       "      <td>12333</td>\n",
       "      <td>12333</td>\n",
       "      <td>12333</td>\n",
       "      <td>12333</td>\n",
       "      <td>12333</td>\n",
       "      <td>12333</td>\n",
       "      <td>12333</td>\n",
       "      <td>12333</td>\n",
       "      <td>12333</td>\n",
       "      <td>12333</td>\n",
       "      <td>12333</td>\n",
       "      <td>12333</td>\n",
       "      <td>12333</td>\n",
       "      <td>12333</td>\n",
       "      <td>12333</td>\n",
       "      <td>12333</td>\n",
       "      <td>12333</td>\n",
       "      <td>12333</td>\n",
       "    </tr>\n",
       "    <tr>\n",
       "      <th>mean</th>\n",
       "      <td>-0.00601324</td>\n",
       "      <td>-0.115895</td>\n",
       "      <td>0.0109162</td>\n",
       "      <td>-0.104535</td>\n",
       "      <td>-0.024793</td>\n",
       "      <td>-0.0210266</td>\n",
       "      <td>-0.0889597</td>\n",
       "      <td>-0.0889597</td>\n",
       "      <td>-0.0175553</td>\n",
       "      <td>-0.0130367</td>\n",
       "      <td>-0.10286</td>\n",
       "      <td>0.0109592</td>\n",
       "      <td>-0.0972322</td>\n",
       "      <td>-0.0234628</td>\n",
       "      <td>-0.0204166</td>\n",
       "      <td>-0.093129</td>\n",
       "      <td>-0.093129</td>\n",
       "      <td>-0.0175489</td>\n",
       "      <td>2.1956</td>\n",
       "    </tr>\n",
       "    <tr>\n",
       "      <th>std</th>\n",
       "      <td>1.00622</td>\n",
       "      <td>0.368478</td>\n",
       "      <td>1.59228</td>\n",
       "      <td>0.206075</td>\n",
       "      <td>0.999556</td>\n",
       "      <td>0.982899</td>\n",
       "      <td>0.268182</td>\n",
       "      <td>0.268182</td>\n",
       "      <td>0.914389</td>\n",
       "      <td>0.996153</td>\n",
       "      <td>0.415919</td>\n",
       "      <td>1.59233</td>\n",
       "      <td>0.198496</td>\n",
       "      <td>0.998953</td>\n",
       "      <td>0.982492</td>\n",
       "      <td>0.374495</td>\n",
       "      <td>0.374495</td>\n",
       "      <td>0.914391</td>\n",
       "      <td>0.267642</td>\n",
       "    </tr>\n",
       "    <tr>\n",
       "      <th>min</th>\n",
       "      <td>-1.75081</td>\n",
       "      <td>-0.142938</td>\n",
       "      <td>-0.0565021</td>\n",
       "      <td>-0.12293</td>\n",
       "      <td>-0.851977</td>\n",
       "      <td>-2.64783</td>\n",
       "      <td>-0.099116</td>\n",
       "      <td>-0.099116</td>\n",
       "      <td>-0.0849269</td>\n",
       "      <td>-1.74162</td>\n",
       "      <td>-0.133083</td>\n",
       "      <td>-0.0564613</td>\n",
       "      <td>-0.115218</td>\n",
       "      <td>-0.849953</td>\n",
       "      <td>-2.64512</td>\n",
       "      <td>-0.106954</td>\n",
       "      <td>-0.106954</td>\n",
       "      <td>-0.0849152</td>\n",
       "      <td>1.73209</td>\n",
       "    </tr>\n",
       "    <tr>\n",
       "      <th>25%</th>\n",
       "      <td>-0.878889</td>\n",
       "      <td>-0.142938</td>\n",
       "      <td>-0.0565021</td>\n",
       "      <td>-0.12293</td>\n",
       "      <td>-0.414239</td>\n",
       "      <td>-0.4077</td>\n",
       "      <td>-0.099116</td>\n",
       "      <td>-0.099116</td>\n",
       "      <td>-0.0849269</td>\n",
       "      <td>-0.873143</td>\n",
       "      <td>-0.133083</td>\n",
       "      <td>-0.0564613</td>\n",
       "      <td>-0.115218</td>\n",
       "      <td>-0.412451</td>\n",
       "      <td>-0.406787</td>\n",
       "      <td>-0.106954</td>\n",
       "      <td>-0.106954</td>\n",
       "      <td>-0.0849152</td>\n",
       "      <td>1.96385</td>\n",
       "    </tr>\n",
       "    <tr>\n",
       "      <th>50%</th>\n",
       "      <td>-0.00241941</td>\n",
       "      <td>-0.142938</td>\n",
       "      <td>-0.0565021</td>\n",
       "      <td>-0.12293</td>\n",
       "      <td>-0.289172</td>\n",
       "      <td>-0.128446</td>\n",
       "      <td>-0.099116</td>\n",
       "      <td>-0.099116</td>\n",
       "      <td>-0.0849269</td>\n",
       "      <td>-0.0112476</td>\n",
       "      <td>-0.133083</td>\n",
       "      <td>-0.0564613</td>\n",
       "      <td>-0.115218</td>\n",
       "      <td>-0.287451</td>\n",
       "      <td>-0.126592</td>\n",
       "      <td>-0.106954</td>\n",
       "      <td>-0.106954</td>\n",
       "      <td>-0.0849152</td>\n",
       "      <td>2.1956</td>\n",
       "    </tr>\n",
       "    <tr>\n",
       "      <th>75%</th>\n",
       "      <td>0.866754</td>\n",
       "      <td>-0.142938</td>\n",
       "      <td>-0.0565021</td>\n",
       "      <td>-0.12293</td>\n",
       "      <td>-0.164104</td>\n",
       "      <td>0.486593</td>\n",
       "      <td>-0.099116</td>\n",
       "      <td>-0.099116</td>\n",
       "      <td>-0.0849269</td>\n",
       "      <td>0.845378</td>\n",
       "      <td>-0.133083</td>\n",
       "      <td>-0.0564613</td>\n",
       "      <td>-0.115218</td>\n",
       "      <td>-0.16245</td>\n",
       "      <td>0.488155</td>\n",
       "      <td>-0.106954</td>\n",
       "      <td>-0.106954</td>\n",
       "      <td>-0.0849152</td>\n",
       "      <td>2.42736</td>\n",
       "    </tr>\n",
       "    <tr>\n",
       "      <th>max</th>\n",
       "      <td>1.74053</td>\n",
       "      <td>10.7895</td>\n",
       "      <td>157.029</td>\n",
       "      <td>9.33212</td>\n",
       "      <td>5.21381</td>\n",
       "      <td>4.29912</td>\n",
       "      <td>22.5563</td>\n",
       "      <td>22.5563</td>\n",
       "      <td>57.1455</td>\n",
       "      <td>1.7162</td>\n",
       "      <td>12.7544</td>\n",
       "      <td>157.034</td>\n",
       "      <td>8.53695</td>\n",
       "      <td>5.21257</td>\n",
       "      <td>4.30384</td>\n",
       "      <td>34.1242</td>\n",
       "      <td>34.1242</td>\n",
       "      <td>57.1456</td>\n",
       "      <td>2.65912</td>\n",
       "    </tr>\n",
       "    <tr>\n",
       "      <th>counts</th>\n",
       "      <td>12333</td>\n",
       "      <td>12333</td>\n",
       "      <td>12333</td>\n",
       "      <td>12333</td>\n",
       "      <td>12333</td>\n",
       "      <td>12333</td>\n",
       "      <td>12333</td>\n",
       "      <td>12333</td>\n",
       "      <td>12333</td>\n",
       "      <td>12333</td>\n",
       "      <td>12333</td>\n",
       "      <td>12333</td>\n",
       "      <td>12333</td>\n",
       "      <td>12333</td>\n",
       "      <td>12333</td>\n",
       "      <td>12333</td>\n",
       "      <td>12333</td>\n",
       "      <td>12333</td>\n",
       "      <td>12333</td>\n",
       "    </tr>\n",
       "    <tr>\n",
       "      <th>uniques</th>\n",
       "      <td>12317</td>\n",
       "      <td>192</td>\n",
       "      <td>37</td>\n",
       "      <td>51</td>\n",
       "      <td>59</td>\n",
       "      <td>8994</td>\n",
       "      <td>15</td>\n",
       "      <td>15</td>\n",
       "      <td>52</td>\n",
       "      <td>12309</td>\n",
       "      <td>195</td>\n",
       "      <td>37</td>\n",
       "      <td>51</td>\n",
       "      <td>59</td>\n",
       "      <td>8982</td>\n",
       "      <td>14</td>\n",
       "      <td>14</td>\n",
       "      <td>52</td>\n",
       "      <td>12333</td>\n",
       "    </tr>\n",
       "    <tr>\n",
       "      <th>missing</th>\n",
       "      <td>0</td>\n",
       "      <td>0</td>\n",
       "      <td>0</td>\n",
       "      <td>0</td>\n",
       "      <td>0</td>\n",
       "      <td>0</td>\n",
       "      <td>0</td>\n",
       "      <td>0</td>\n",
       "      <td>0</td>\n",
       "      <td>0</td>\n",
       "      <td>0</td>\n",
       "      <td>0</td>\n",
       "      <td>0</td>\n",
       "      <td>0</td>\n",
       "      <td>0</td>\n",
       "      <td>0</td>\n",
       "      <td>0</td>\n",
       "      <td>0</td>\n",
       "      <td>0</td>\n",
       "    </tr>\n",
       "    <tr>\n",
       "      <th>missing_perc</th>\n",
       "      <td>0%</td>\n",
       "      <td>0%</td>\n",
       "      <td>0%</td>\n",
       "      <td>0%</td>\n",
       "      <td>0%</td>\n",
       "      <td>0%</td>\n",
       "      <td>0%</td>\n",
       "      <td>0%</td>\n",
       "      <td>0%</td>\n",
       "      <td>0%</td>\n",
       "      <td>0%</td>\n",
       "      <td>0%</td>\n",
       "      <td>0%</td>\n",
       "      <td>0%</td>\n",
       "      <td>0%</td>\n",
       "      <td>0%</td>\n",
       "      <td>0%</td>\n",
       "      <td>0%</td>\n",
       "      <td>0%</td>\n",
       "    </tr>\n",
       "    <tr>\n",
       "      <th>types</th>\n",
       "      <td>numeric</td>\n",
       "      <td>numeric</td>\n",
       "      <td>numeric</td>\n",
       "      <td>numeric</td>\n",
       "      <td>numeric</td>\n",
       "      <td>numeric</td>\n",
       "      <td>numeric</td>\n",
       "      <td>numeric</td>\n",
       "      <td>numeric</td>\n",
       "      <td>numeric</td>\n",
       "      <td>numeric</td>\n",
       "      <td>numeric</td>\n",
       "      <td>numeric</td>\n",
       "      <td>numeric</td>\n",
       "      <td>numeric</td>\n",
       "      <td>numeric</td>\n",
       "      <td>numeric</td>\n",
       "      <td>numeric</td>\n",
       "      <td>numeric</td>\n",
       "    </tr>\n",
       "  </tbody>\n",
       "</table>\n",
       "</div>"
      ],
      "text/plain": [
       "              attribute1 attribute2 attribute3 attribute4 attribute5  \\\n",
       "count              12333      12333      12333      12333      12333   \n",
       "mean         -0.00601324  -0.115895  0.0109162  -0.104535  -0.024793   \n",
       "std              1.00622   0.368478    1.59228   0.206075   0.999556   \n",
       "min             -1.75081  -0.142938 -0.0565021   -0.12293  -0.851977   \n",
       "25%            -0.878889  -0.142938 -0.0565021   -0.12293  -0.414239   \n",
       "50%          -0.00241941  -0.142938 -0.0565021   -0.12293  -0.289172   \n",
       "75%             0.866754  -0.142938 -0.0565021   -0.12293  -0.164104   \n",
       "max              1.74053    10.7895    157.029    9.33212    5.21381   \n",
       "counts             12333      12333      12333      12333      12333   \n",
       "uniques            12317        192         37         51         59   \n",
       "missing                0          0          0          0          0   \n",
       "missing_perc          0%         0%         0%         0%         0%   \n",
       "types            numeric    numeric    numeric    numeric    numeric   \n",
       "\n",
       "             attribute6 attribute7 attribute8 attribute9 previous_attribute1  \\\n",
       "count             12333      12333      12333      12333               12333   \n",
       "mean         -0.0210266 -0.0889597 -0.0889597 -0.0175553          -0.0130367   \n",
       "std            0.982899   0.268182   0.268182   0.914389            0.996153   \n",
       "min            -2.64783  -0.099116  -0.099116 -0.0849269            -1.74162   \n",
       "25%             -0.4077  -0.099116  -0.099116 -0.0849269           -0.873143   \n",
       "50%           -0.128446  -0.099116  -0.099116 -0.0849269          -0.0112476   \n",
       "75%            0.486593  -0.099116  -0.099116 -0.0849269            0.845378   \n",
       "max             4.29912    22.5563    22.5563    57.1455              1.7162   \n",
       "counts            12333      12333      12333      12333               12333   \n",
       "uniques            8994         15         15         52               12309   \n",
       "missing               0          0          0          0                   0   \n",
       "missing_perc         0%         0%         0%         0%                  0%   \n",
       "types           numeric    numeric    numeric    numeric             numeric   \n",
       "\n",
       "             previous_attribute2 previous_attribute3 previous_attribute4  \\\n",
       "count                      12333               12333               12333   \n",
       "mean                    -0.10286           0.0109592          -0.0972322   \n",
       "std                     0.415919             1.59233            0.198496   \n",
       "min                    -0.133083          -0.0564613           -0.115218   \n",
       "25%                    -0.133083          -0.0564613           -0.115218   \n",
       "50%                    -0.133083          -0.0564613           -0.115218   \n",
       "75%                    -0.133083          -0.0564613           -0.115218   \n",
       "max                      12.7544             157.034             8.53695   \n",
       "counts                     12333               12333               12333   \n",
       "uniques                      195                  37                  51   \n",
       "missing                        0                   0                   0   \n",
       "missing_perc                  0%                  0%                  0%   \n",
       "types                    numeric             numeric             numeric   \n",
       "\n",
       "             previous_attribute5 previous_attribute6 previous_attribute7  \\\n",
       "count                      12333               12333               12333   \n",
       "mean                  -0.0234628          -0.0204166           -0.093129   \n",
       "std                     0.998953            0.982492            0.374495   \n",
       "min                    -0.849953            -2.64512           -0.106954   \n",
       "25%                    -0.412451           -0.406787           -0.106954   \n",
       "50%                    -0.287451           -0.126592           -0.106954   \n",
       "75%                     -0.16245            0.488155           -0.106954   \n",
       "max                      5.21257             4.30384             34.1242   \n",
       "counts                     12333               12333               12333   \n",
       "uniques                       59                8982                  14   \n",
       "missing                        0                   0                   0   \n",
       "missing_perc                  0%                  0%                  0%   \n",
       "types                    numeric             numeric             numeric   \n",
       "\n",
       "             previous_attribute8 previous_attribute9 index_col  \n",
       "count                      12333               12333     12333  \n",
       "mean                   -0.093129          -0.0175489    2.1956  \n",
       "std                     0.374495            0.914391  0.267642  \n",
       "min                    -0.106954          -0.0849152   1.73209  \n",
       "25%                    -0.106954          -0.0849152   1.96385  \n",
       "50%                    -0.106954          -0.0849152    2.1956  \n",
       "75%                    -0.106954          -0.0849152   2.42736  \n",
       "max                      34.1242             57.1456   2.65912  \n",
       "counts                     12333               12333     12333  \n",
       "uniques                       14                  52     12333  \n",
       "missing                        0                   0         0  \n",
       "missing_perc                  0%                  0%        0%  \n",
       "types                    numeric             numeric   numeric  "
      ]
     },
     "metadata": {},
     "output_type": "display_data"
    }
   ],
   "source": [
    "display(DataFrameSummary(df_test).summary())"
   ]
  },
  {
   "cell_type": "markdown",
   "metadata": {},
   "source": [
    "# Hyperparameter tuning  (Training model)\n",
    "\n",
    "#### Generate a classification neural network model "
   ]
  },
  {
   "cell_type": "code",
   "execution_count": 52,
   "metadata": {},
   "outputs": [
    {
     "data": {
      "text/plain": [
       "46082"
      ]
     },
     "execution_count": 52,
     "metadata": {},
     "output_type": "execute_result"
    }
   ],
   "source": [
    "n = len(train); n"
   ]
  },
  {
   "cell_type": "code",
   "execution_count": 53,
   "metadata": {},
   "outputs": [
    {
     "data": {
      "text/plain": [
       "True"
      ]
     },
     "execution_count": 53,
     "metadata": {},
     "output_type": "execute_result"
    }
   ],
   "source": [
    "cat_sz = [(c, len(train[c].cat.categories)+1) for c in cat_vars]\n",
    "emb_szs = [(c, min(50, (c+1)//2)) for _,c in cat_sz]\n",
    "torch.cuda.is_available()"
   ]
  },
  {
   "cell_type": "code",
   "execution_count": 54,
   "metadata": {},
   "outputs": [],
   "source": [
    "val_idx = get_cv_idxs(n, val_pct=0.2)"
   ]
  },
  {
   "cell_type": "code",
   "execution_count": 55,
   "metadata": {},
   "outputs": [],
   "source": [
    "md = ColumnarModelData.from_data_frame(PATH, val_idx, df, y.astype('int'), cat_flds=cat_vars, bs=15,\n",
    "                                      is_reg=False,is_multi=False,test_df=df_test)"
   ]
  },
  {
   "cell_type": "code",
   "execution_count": 56,
   "metadata": {},
   "outputs": [],
   "source": [
    "m = md.get_learner(emb_szs, len(df.columns)-len(cat_vars),0.06, 2, [100,50], [0.03,0.06],None,True)"
   ]
  },
  {
   "cell_type": "markdown",
   "metadata": {},
   "source": [
    "#### Information of the neural network model"
   ]
  },
  {
   "cell_type": "code",
   "execution_count": 57,
   "metadata": {},
   "outputs": [
    {
     "data": {
      "text/plain": [
       "MixedInputModel(\n",
       "  (embs): ModuleList(\n",
       "  )\n",
       "  (lins): ModuleList(\n",
       "    (0): Linear(in_features=19, out_features=100, bias=True)\n",
       "    (1): Linear(in_features=100, out_features=50, bias=True)\n",
       "  )\n",
       "  (bns): ModuleList(\n",
       "    (0): BatchNorm1d(100, eps=1e-05, momentum=0.1, affine=True)\n",
       "    (1): BatchNorm1d(50, eps=1e-05, momentum=0.1, affine=True)\n",
       "  )\n",
       "  (outp): Linear(in_features=50, out_features=2, bias=True)\n",
       "  (emb_drop): Dropout(p=0.06)\n",
       "  (drops): ModuleList(\n",
       "    (0): Dropout(p=0.03)\n",
       "    (1): Dropout(p=0.06)\n",
       "  )\n",
       "  (bn): BatchNorm1d(19, eps=1e-05, momentum=0.1, affine=True)\n",
       ")"
      ]
     },
     "execution_count": 57,
     "metadata": {},
     "output_type": "execute_result"
    }
   ],
   "source": [
    "m"
   ]
  },
  {
   "cell_type": "markdown",
   "metadata": {},
   "source": [
    "#### Finding the learning rate."
   ]
  },
  {
   "cell_type": "code",
   "execution_count": 58,
   "metadata": {},
   "outputs": [
    {
     "data": {
      "application/vnd.jupyter.widget-view+json": {
       "model_id": "9a34ba4aa03c4715ac00bd0aeea4cdd5",
       "version_major": 2,
       "version_minor": 0
      },
      "text/html": [
       "<p>Failed to display Jupyter Widget of type <code>HBox</code>.</p>\n",
       "<p>\n",
       "  If you're reading this message in the Jupyter Notebook or JupyterLab Notebook, it may mean\n",
       "  that the widgets JavaScript is still loading. If this message persists, it\n",
       "  likely means that the widgets JavaScript library is either not installed or\n",
       "  not enabled. See the <a href=\"https://ipywidgets.readthedocs.io/en/stable/user_install.html\">Jupyter\n",
       "  Widgets Documentation</a> for setup instructions.\n",
       "</p>\n",
       "<p>\n",
       "  If you're reading this message in another frontend (for example, a static\n",
       "  rendering on GitHub or <a href=\"https://nbviewer.jupyter.org/\">NBViewer</a>),\n",
       "  it may mean that your frontend doesn't currently support widgets.\n",
       "</p>\n"
      ],
      "text/plain": [
       "HBox(children=(IntProgress(value=0, description='Epoch', max=1), HTML(value='')))"
      ]
     },
     "metadata": {},
     "output_type": "display_data"
    },
    {
     "name": "stdout",
     "output_type": "stream",
     "text": [
      " 66%|██████▌   | 1621/2458 [00:04<00:02, 349.74it/s, loss=1.28] \n",
      "                                                               \r"
     ]
    },
    {
     "data": {
      "image/png": "[encoded data removed]",
      "text/plain": [
       "<matplotlib.figure.Figure at 0x7f7952893a90>"
      ]
     },
     "metadata": {},
     "output_type": "display_data"
    }
   ],
   "source": [
    "m.lr_find()\n",
    "m.sched.plot(100)"
   ]
  },
  {
   "cell_type": "code",
   "execution_count": 59,
   "metadata": {},
   "outputs": [],
   "source": [
    "lr = .001"
   ]
  },
  {
   "cell_type": "code",
   "execution_count": 60,
   "metadata": {},
   "outputs": [
    {
     "data": {
      "application/vnd.jupyter.widget-view+json": {
       "model_id": "a3a1775b930b4b41a891a79d4e391d4a",
       "version_major": 2,
       "version_minor": 0
      },
      "text/html": [
       "<p>Failed to display Jupyter Widget of type <code>HBox</code>.</p>\n",
       "<p>\n",
       "  If you're reading this message in the Jupyter Notebook or JupyterLab Notebook, it may mean\n",
       "  that the widgets JavaScript is still loading. If this message persists, it\n",
       "  likely means that the widgets JavaScript library is either not installed or\n",
       "  not enabled. See the <a href=\"https://ipywidgets.readthedocs.io/en/stable/user_install.html\">Jupyter\n",
       "  Widgets Documentation</a> for setup instructions.\n",
       "</p>\n",
       "<p>\n",
       "  If you're reading this message in another frontend (for example, a static\n",
       "  rendering on GitHub or <a href=\"https://nbviewer.jupyter.org/\">NBViewer</a>),\n",
       "  it may mean that your frontend doesn't currently support widgets.\n",
       "</p>\n"
      ],
      "text/plain": [
       "HBox(children=(IntProgress(value=0, description='Epoch', max=45), HTML(value='')))"
      ]
     },
     "metadata": {},
     "output_type": "display_data"
    },
    {
     "name": "stdout",
     "output_type": "stream",
     "text": [
      "epoch      trn_loss   val_loss                                  \n",
      "    0      0.257501   0.270341  \n",
      "    1      0.22074    0.221069                                  \n",
      "    2      0.217918   0.213712                                  \n",
      "    3      0.206231   0.176881                                  \n",
      "    4      0.162647   0.148789                                  \n",
      "    5      0.146029   0.14167                                   \n",
      "    6      0.150536   0.122065                                  \n",
      "    7      0.119409   0.106896                                  \n",
      "    8      0.109403   0.098717                                   \n",
      "    9      0.12503    0.09441                                   \n",
      "    10     0.082819   0.07814                                    \n",
      "    11     0.115148   0.074257                                   \n",
      "    12     0.09648    0.074623                                   \n",
      "    13     0.07679    0.064511                                   \n",
      "    14     0.089004   0.060577                                   \n",
      "    15     0.083754   0.062582                                   \n",
      "    16     0.071182   0.057982                                   \n",
      "    17     0.074087   0.049119                                   \n",
      "    18     0.086486   0.062129                                   \n",
      "    19     0.079961   0.043864                                   \n",
      "    20     0.052772   0.041613                                   \n",
      "    21     0.077941   0.04952                                    \n",
      "    22     0.068519   0.048748                                   \n",
      "    23     0.050731   0.038112                                   \n",
      "    24     0.068281   0.051603                                   \n",
      "    25     0.053481   0.040698                                   \n",
      "    26     0.044357   0.034288                                   \n",
      "    27     0.059754   0.046096                                   \n",
      "    28     0.047852   0.034916                                   \n",
      "    29     0.043624   0.030593                                   \n",
      "    30     0.057272   0.043975                                   \n",
      "    31     0.065962   0.039172                                   \n",
      "    32     0.03678    0.027754                                   \n",
      "    33     0.041993   0.035687                                   \n",
      "    34     0.044286   0.027244                                   \n",
      "    35     0.042387   0.025377                                   \n",
      "    36     0.043745   0.034837                                   \n",
      "    37     0.033913   0.027375                                   \n",
      "    38     0.039852   0.023694                                   \n",
      "    39     0.060489   0.035794                                   \n",
      "    40     0.040002   0.022797                                   \n",
      "    41     0.032241   0.022437                                   \n",
      "    42     0.034072   0.050673                                   \n",
      "    43     0.045795   0.028851                                   \n",
      "    44     0.030254   0.022506                                   \n",
      "\n"
     ]
    },
    {
     "data": {
      "text/plain": [
       "[array([0.02251])]"
      ]
     },
     "execution_count": 60,
     "metadata": {},
     "output_type": "execute_result"
    }
   ],
   "source": [
    "m.fit(lr, 15, cycle_len=3)"
   ]
  },
  {
   "cell_type": "code",
   "execution_count": null,
   "metadata": {},
   "outputs": [],
   "source": []
  },
  {
   "cell_type": "markdown",
   "metadata": {},
   "source": [
    "# Performance on test dataset"
   ]
  },
  {
   "cell_type": "code",
   "execution_count": 61,
   "metadata": {},
   "outputs": [
    {
     "data": {
      "text/html": [
       "<div>\n",
       "<style scoped>\n",
       "    .dataframe tbody tr th:only-of-type {\n",
       "        vertical-align: middle;\n",
       "    }\n",
       "\n",
       "    .dataframe tbody tr th {\n",
       "        vertical-align: top;\n",
       "    }\n",
       "\n",
       "    .dataframe thead th {\n",
       "        text-align: right;\n",
       "    }\n",
       "</style>\n",
       "<table border=\"1\" class=\"dataframe\">\n",
       "  <thead>\n",
       "    <tr style=\"text-align: right;\">\n",
       "      <th></th>\n",
       "      <th>index_col</th>\n",
       "      <th>failure</th>\n",
       "      <th>failure_pred</th>\n",
       "    </tr>\n",
       "  </thead>\n",
       "  <tbody>\n",
       "    <tr>\n",
       "      <th>37611</th>\n",
       "      <td>46083</td>\n",
       "      <td>0</td>\n",
       "      <td>0</td>\n",
       "    </tr>\n",
       "  </tbody>\n",
       "</table>\n",
       "</div>"
      ],
      "text/plain": [
       "       index_col  failure  failure_pred\n",
       "37611      46083        0             0"
      ]
     },
     "execution_count": 61,
     "metadata": {},
     "output_type": "execute_result"
    }
   ],
   "source": [
    "pred_test=m.predict(is_test=True)\n",
    "np.argmax(m.predict(True), axis =1)\n",
    "suba = pd.DataFrame({'index_col':test.index_col, 'failure':test.failure, 'failure_pred':np.argmax(m.predict(True), axis =1)})[['index_col', 'failure','failure_pred']]\n",
    "suba.head(1)"
   ]
  },
  {
   "cell_type": "markdown",
   "metadata": {},
   "source": [
    "\n",
    "### Accuracy (正解率)\n",
    "\n",
    "##### Accuracy = (TP + TN) / (TP + TN + FP + FN)\n",
    "\n",
    "### the accuracy rate is 99.1%"
   ]
  },
  {
   "cell_type": "code",
   "execution_count": 62,
   "metadata": {},
   "outputs": [
    {
     "data": {
      "text/plain": [
       "0.9912430065677451"
      ]
     },
     "execution_count": 62,
     "metadata": {},
     "output_type": "execute_result"
    }
   ],
   "source": [
    "accuracy_score(suba.failure,suba.failure_pred)"
   ]
  },
  {
   "cell_type": "markdown",
   "metadata": {},
   "source": [
    "\n",
    "### Confusion matrix (多クラスの混同行列)\n",
    "\n",
    "### About business goal for the device failure prediction, must be focus the recall rate and precision rate.\n",
    "\n",
    "##### for the model 60% (9/15) failure be detected \n",
    "\n",
    "\n",
    "精度 (Precision)\n",
    "\n",
    "Precision = TP / (TP + FP)\n",
    "\n",
    "#### For the failure detection, The Precision is 8.1%  9/(9+102)\n",
    "\n",
    "検出率 (Recall)\n",
    "\n",
    "Recall = TPR = Sensitivity = TP / (TP + FN)\n",
    "\n",
    "### For the failure detection, The Recall rate is 60%   9/(9+6)"
   ]
  },
  {
   "cell_type": "code",
   "execution_count": 63,
   "metadata": {},
   "outputs": [
    {
     "data": {
      "text/plain": [
       "array([[12216,   102],\n",
       "       [    6,     9]])"
      ]
     },
     "execution_count": 63,
     "metadata": {},
     "output_type": "execute_result"
    }
   ],
   "source": [
    "confusion_matrix(suba.failure,suba.failure_pred)"
   ]
  },
  {
   "cell_type": "markdown",
   "metadata": {},
   "source": [
    "##### save the neural network model."
   ]
  },
  {
   "cell_type": "code",
   "execution_count": 64,
   "metadata": {},
   "outputs": [],
   "source": [
    "m.save('device_failure_model_v2')"
   ]
  },
  {
   "cell_type": "code",
   "execution_count": null,
   "metadata": {},
   "outputs": [],
   "source": []
  },
  {
   "cell_type": "markdown",
   "metadata": {},
   "source": [
    "# Cross validation"
   ]
  },
  {
   "cell_type": "code",
   "execution_count": 65,
   "metadata": {},
   "outputs": [],
   "source": [
    "def chunkit(seq, num):\n",
    "    avg = len(seq) / float(num)\n",
    "    out = []\n",
    "    last = 0.0\n",
    "\n",
    "    while last < len(seq):\n",
    "        out.append(seq[int(last):int(last + avg)])\n",
    "        last += avg\n",
    "\n",
    "    return out"
   ]
  },
  {
   "cell_type": "code",
   "execution_count": 66,
   "metadata": {},
   "outputs": [],
   "source": [
    "cross_val_range=chunkit(range(len(train)),5)"
   ]
  },
  {
   "cell_type": "markdown",
   "metadata": {},
   "source": [
    "### cross_validation training for the neural network model"
   ]
  },
  {
   "cell_type": "code",
   "execution_count": 67,
   "metadata": {},
   "outputs": [],
   "source": [
    "lr = .001"
   ]
  },
  {
   "cell_type": "code",
   "execution_count": 68,
   "metadata": {
    "scrolled": false
   },
   "outputs": [
    {
     "name": "stdout",
     "output_type": "stream",
     "text": [
      "Cross Validation:\n",
      "range(0, 9216)\n"
     ]
    },
    {
     "data": {
      "application/vnd.jupyter.widget-view+json": {
       "model_id": "2d229a2c84a043c4acd1c49c4cb5b238",
       "version_major": 2,
       "version_minor": 0
      },
      "text/html": [
       "<p>Failed to display Jupyter Widget of type <code>HBox</code>.</p>\n",
       "<p>\n",
       "  If you're reading this message in the Jupyter Notebook or JupyterLab Notebook, it may mean\n",
       "  that the widgets JavaScript is still loading. If this message persists, it\n",
       "  likely means that the widgets JavaScript library is either not installed or\n",
       "  not enabled. See the <a href=\"https://ipywidgets.readthedocs.io/en/stable/user_install.html\">Jupyter\n",
       "  Widgets Documentation</a> for setup instructions.\n",
       "</p>\n",
       "<p>\n",
       "  If you're reading this message in another frontend (for example, a static\n",
       "  rendering on GitHub or <a href=\"https://nbviewer.jupyter.org/\">NBViewer</a>),\n",
       "  it may mean that your frontend doesn't currently support widgets.\n",
       "</p>\n"
      ],
      "text/plain": [
       "HBox(children=(IntProgress(value=0, description='Epoch', max=4), HTML(value='')))"
      ]
     },
     "metadata": {},
     "output_type": "display_data"
    },
    {
     "name": "stdout",
     "output_type": "stream",
     "text": [
      "epoch      trn_loss   val_loss                                  \n",
      "    0      0.250345   0.221908  \n",
      "    1      0.208306   0.166886                                  \n",
      "    2      0.104596   0.110049                                   \n",
      "    3      0.10163    0.091357                                   \n",
      "\n",
      "Accuracy: 0.9601779513888888\n",
      "Confusion matrix:\n",
      "[[7279  133]\n",
      " [ 234 1570]]\n",
      "-----------------------------------------\n",
      "Cross Validation:\n",
      "range(9216, 18432)\n",
      "loading the model\n"
     ]
    },
    {
     "data": {
      "application/vnd.jupyter.widget-view+json": {
       "model_id": "5188f25c97404b6895d6db8c26405cf1",
       "version_major": 2,
       "version_minor": 0
      },
      "text/html": [
       "<p>Failed to display Jupyter Widget of type <code>HBox</code>.</p>\n",
       "<p>\n",
       "  If you're reading this message in the Jupyter Notebook or JupyterLab Notebook, it may mean\n",
       "  that the widgets JavaScript is still loading. If this message persists, it\n",
       "  likely means that the widgets JavaScript library is either not installed or\n",
       "  not enabled. See the <a href=\"https://ipywidgets.readthedocs.io/en/stable/user_install.html\">Jupyter\n",
       "  Widgets Documentation</a> for setup instructions.\n",
       "</p>\n",
       "<p>\n",
       "  If you're reading this message in another frontend (for example, a static\n",
       "  rendering on GitHub or <a href=\"https://nbviewer.jupyter.org/\">NBViewer</a>),\n",
       "  it may mean that your frontend doesn't currently support widgets.\n",
       "</p>\n"
      ],
      "text/plain": [
       "HBox(children=(IntProgress(value=0, description='Epoch', max=4), HTML(value='')))"
      ]
     },
     "metadata": {},
     "output_type": "display_data"
    },
    {
     "name": "stdout",
     "output_type": "stream",
     "text": [
      "epoch      trn_loss   val_loss                                   \n",
      "    0      0.072888   0.088123  \n",
      "    1      0.093796   0.076099                                   \n",
      "    2      0.103427   0.081603                                   \n",
      "    3      0.087711   0.070119                                   \n",
      "\n",
      "Accuracy: 0.9684244791666666\n",
      "Confusion matrix:\n",
      "[[7237  133]\n",
      " [ 158 1688]]\n",
      "-----------------------------------------\n",
      "Cross Validation:\n",
      "range(18432, 27649)\n",
      "loading the model\n"
     ]
    },
    {
     "data": {
      "application/vnd.jupyter.widget-view+json": {
       "model_id": "c5fe02d4e5624f749dd81bbe326b2ad4",
       "version_major": 2,
       "version_minor": 0
      },
      "text/html": [
       "<p>Failed to display Jupyter Widget of type <code>HBox</code>.</p>\n",
       "<p>\n",
       "  If you're reading this message in the Jupyter Notebook or JupyterLab Notebook, it may mean\n",
       "  that the widgets JavaScript is still loading. If this message persists, it\n",
       "  likely means that the widgets JavaScript library is either not installed or\n",
       "  not enabled. See the <a href=\"https://ipywidgets.readthedocs.io/en/stable/user_install.html\">Jupyter\n",
       "  Widgets Documentation</a> for setup instructions.\n",
       "</p>\n",
       "<p>\n",
       "  If you're reading this message in another frontend (for example, a static\n",
       "  rendering on GitHub or <a href=\"https://nbviewer.jupyter.org/\">NBViewer</a>),\n",
       "  it may mean that your frontend doesn't currently support widgets.\n",
       "</p>\n"
      ],
      "text/plain": [
       "HBox(children=(IntProgress(value=0, description='Epoch', max=4), HTML(value='')))"
      ]
     },
     "metadata": {},
     "output_type": "display_data"
    },
    {
     "name": "stdout",
     "output_type": "stream",
     "text": [
      "epoch      trn_loss   val_loss                                   \n",
      "    0      0.075496   0.062129  \n",
      "    1      0.056037   0.054145                                   \n",
      "    2      0.08881    0.048717                                   \n",
      "    3      0.057163   0.052145                                   \n",
      "\n",
      "Accuracy: 0.9803623738743625\n",
      "Confusion matrix:\n",
      "[[7268  113]\n",
      " [  68 1768]]\n",
      "-----------------------------------------\n",
      "Cross Validation:\n",
      "range(27649, 36865)\n",
      "loading the model\n"
     ]
    },
    {
     "data": {
      "application/vnd.jupyter.widget-view+json": {
       "model_id": "36b70cf3343144f095c38eef229e658b",
       "version_major": 2,
       "version_minor": 0
      },
      "text/html": [
       "<p>Failed to display Jupyter Widget of type <code>HBox</code>.</p>\n",
       "<p>\n",
       "  If you're reading this message in the Jupyter Notebook or JupyterLab Notebook, it may mean\n",
       "  that the widgets JavaScript is still loading. If this message persists, it\n",
       "  likely means that the widgets JavaScript library is either not installed or\n",
       "  not enabled. See the <a href=\"https://ipywidgets.readthedocs.io/en/stable/user_install.html\">Jupyter\n",
       "  Widgets Documentation</a> for setup instructions.\n",
       "</p>\n",
       "<p>\n",
       "  If you're reading this message in another frontend (for example, a static\n",
       "  rendering on GitHub or <a href=\"https://nbviewer.jupyter.org/\">NBViewer</a>),\n",
       "  it may mean that your frontend doesn't currently support widgets.\n",
       "</p>\n"
      ],
      "text/plain": [
       "HBox(children=(IntProgress(value=0, description='Epoch', max=4), HTML(value='')))"
      ]
     },
     "metadata": {},
     "output_type": "display_data"
    },
    {
     "name": "stdout",
     "output_type": "stream",
     "text": [
      "epoch      trn_loss   val_loss                                   \n",
      "    0      0.044592   0.040268  \n",
      "    1      0.080642   0.055523                                   \n",
      "    2      0.073758   0.056853                                   \n",
      "    3      0.062028   0.055598                                   \n",
      "\n",
      "Accuracy: 0.9853515625\n",
      "Confusion matrix:\n",
      "[[7300   72]\n",
      " [  63 1781]]\n",
      "-----------------------------------------\n",
      "Cross Validation:\n",
      "range(36865, 46082)\n",
      "loading the model\n"
     ]
    },
    {
     "data": {
      "application/vnd.jupyter.widget-view+json": {
       "model_id": "da9a75134ef0461f895c2a3b08566ae8",
       "version_major": 2,
       "version_minor": 0
      },
      "text/html": [
       "<p>Failed to display Jupyter Widget of type <code>HBox</code>.</p>\n",
       "<p>\n",
       "  If you're reading this message in the Jupyter Notebook or JupyterLab Notebook, it may mean\n",
       "  that the widgets JavaScript is still loading. If this message persists, it\n",
       "  likely means that the widgets JavaScript library is either not installed or\n",
       "  not enabled. See the <a href=\"https://ipywidgets.readthedocs.io/en/stable/user_install.html\">Jupyter\n",
       "  Widgets Documentation</a> for setup instructions.\n",
       "</p>\n",
       "<p>\n",
       "  If you're reading this message in another frontend (for example, a static\n",
       "  rendering on GitHub or <a href=\"https://nbviewer.jupyter.org/\">NBViewer</a>),\n",
       "  it may mean that your frontend doesn't currently support widgets.\n",
       "</p>\n"
      ],
      "text/plain": [
       "HBox(children=(IntProgress(value=0, description='Epoch', max=4), HTML(value='')))"
      ]
     },
     "metadata": {},
     "output_type": "display_data"
    },
    {
     "name": "stdout",
     "output_type": "stream",
     "text": [
      "epoch      trn_loss   val_loss                                   \n",
      "    0      0.042792   0.029432  \n",
      "    1      0.05307    0.037692                                   \n",
      "    2      0.042632   0.026256                                   \n",
      "    3      0.068418   0.06754                                    \n",
      "\n",
      "Accuracy: 0.980796354562222\n",
      "Confusion matrix:\n",
      "[[7281  145]\n",
      " [  32 1759]]\n",
      "-----------------------------------------\n"
     ]
    }
   ],
   "source": [
    "for x in cross_val_range:\n",
    "    print('Cross Validation:')\n",
    "    print(x)\n",
    "    val_idx=list(x)\n",
    "    md = ColumnarModelData.from_data_frame(PATH, val_idx, df, y.astype('int'), cat_flds=cat_vars, bs=4,\n",
    "                                      is_reg=False,is_multi=False,test_df=df_test)\n",
    "    m = md.get_learner(emb_szs, len(df.columns)-len(cat_vars),0.06, 2, [100,50], [0.03,0.06],None,True)\n",
    "    if val_idx[0] > 10:\n",
    "        m.load('device_failure_model')\n",
    "        print('loading the model')\n",
    "    lr = .001\n",
    "#    m.fit(lr, 4, cycle_len=2, cycle_mult=2)\n",
    "    m.fit(lr, 4)\n",
    "    m.save('device_failure_model')\n",
    "    (x,y1)=m.predict_with_targs()\n",
    "    aa = accuracy_score(y1,np.argmax(x,axis=1))\n",
    "    bb = confusion_matrix(y1,np.argmax(x,axis=1))\n",
    "    print ('Accuracy:',aa)\n",
    "    print ('Confusion matrix:')\n",
    "    print (bb)\n",
    "    print ('-----------------------------------------')"
   ]
  },
  {
   "cell_type": "markdown",
   "metadata": {},
   "source": [
    "# Cross validation Performance on test dataset"
   ]
  },
  {
   "cell_type": "code",
   "execution_count": 69,
   "metadata": {},
   "outputs": [
    {
     "data": {
      "text/html": [
       "<div>\n",
       "<style scoped>\n",
       "    .dataframe tbody tr th:only-of-type {\n",
       "        vertical-align: middle;\n",
       "    }\n",
       "\n",
       "    .dataframe tbody tr th {\n",
       "        vertical-align: top;\n",
       "    }\n",
       "\n",
       "    .dataframe thead th {\n",
       "        text-align: right;\n",
       "    }\n",
       "</style>\n",
       "<table border=\"1\" class=\"dataframe\">\n",
       "  <thead>\n",
       "    <tr style=\"text-align: right;\">\n",
       "      <th></th>\n",
       "      <th>index_col</th>\n",
       "      <th>failure</th>\n",
       "      <th>failure_pred</th>\n",
       "    </tr>\n",
       "  </thead>\n",
       "  <tbody>\n",
       "    <tr>\n",
       "      <th>37611</th>\n",
       "      <td>46083</td>\n",
       "      <td>0</td>\n",
       "      <td>0</td>\n",
       "    </tr>\n",
       "  </tbody>\n",
       "</table>\n",
       "</div>"
      ],
      "text/plain": [
       "       index_col  failure  failure_pred\n",
       "37611      46083        0             0"
      ]
     },
     "execution_count": 69,
     "metadata": {},
     "output_type": "execute_result"
    }
   ],
   "source": [
    "pred_test=m.predict(is_test=True)\n",
    "np.argmax(m.predict(True), axis =1)\n",
    "suba = pd.DataFrame({'index_col':test.index_col, 'failure':test.failure, 'failure_pred':np.argmax(m.predict(True), axis =1)})[['index_col', 'failure','failure_pred']]\n",
    "suba.head(1)"
   ]
  },
  {
   "cell_type": "markdown",
   "metadata": {},
   "source": [
    "\n",
    "### Accuracy (正解率)\n",
    "\n",
    "##### Accuracy = (TP + TN) / (TP + TN + FP + FN)\n",
    "\n",
    "### the accuracy rate is 97.9%"
   ]
  },
  {
   "cell_type": "code",
   "execution_count": 70,
   "metadata": {},
   "outputs": [
    {
     "data": {
      "text/plain": [
       "0.9793237655071759"
      ]
     },
     "execution_count": 70,
     "metadata": {},
     "output_type": "execute_result"
    }
   ],
   "source": [
    "accuracy_score(suba.failure,suba.failure_pred)"
   ]
  },
  {
   "cell_type": "markdown",
   "metadata": {},
   "source": [
    "### Confusion matrix (多クラスの混同行列)\n",
    "\n",
    "### About business goal for the device failure prediction, must be focus the recall rate and precision rate.\n",
    "\n",
    "##### for the model 60% (9/15) failure be detected \n",
    "\n",
    "\n",
    "精度 (Precision)\n",
    "\n",
    "Precision = TP / (TP + FP)\n",
    "\n",
    "#### For the failure detection, The Precision is 3.4% 9/(9+249)\n",
    "\n",
    "検出率 (Recall)\n",
    "\n",
    "Recall = TPR = Sensitivity = TP / (TP + FN)\n",
    "\n",
    "### For the failure detection, The Recall rate is 60% 9/(9+6)"
   ]
  },
  {
   "cell_type": "code",
   "execution_count": 71,
   "metadata": {},
   "outputs": [
    {
     "data": {
      "text/plain": [
       "array([[12069,   249],\n",
       "       [    6,     9]])"
      ]
     },
     "execution_count": 71,
     "metadata": {},
     "output_type": "execute_result"
    }
   ],
   "source": [
    "confusion_matrix(suba.failure,suba.failure_pred)"
   ]
  },
  {
   "cell_type": "markdown",
   "metadata": {},
   "source": [
    "##### save the neural network model."
   ]
  },
  {
   "cell_type": "code",
   "execution_count": 72,
   "metadata": {},
   "outputs": [],
   "source": [
    "m.save('device_failure_model_cv_v2')"
   ]
  },
  {
   "cell_type": "markdown",
   "metadata": {},
   "source": [
    "# Minimize false positives instead of accuracy or misclassification error\n",
    "    I have tried a lot of thing about the false positives result. \n",
    "    For example:\n",
    "        Using markov chain method, Add hadden timely information and create new features for our model. (more information for the model)\n",
    "        Using the bootstrap method, re-sampled datasets from our original data.\n",
    "        etc...\n"
   ]
  },
  {
   "cell_type": "markdown",
   "metadata": {},
   "source": [
    "# Comparing performace of multiple machine learning algorithms\n",
    "    \n",
    "    using random forest algorithms to create prediction model\n",
    "\n",
    "    About the recall rate , neural network is higher than the random forest."
   ]
  },
  {
   "cell_type": "markdown",
   "metadata": {},
   "source": [
    "# Random Forest"
   ]
  },
  {
   "cell_type": "code",
   "execution_count": 73,
   "metadata": {},
   "outputs": [],
   "source": [
    "from sklearn.ensemble import RandomForestRegressor"
   ]
  },
  {
   "cell_type": "code",
   "execution_count": 74,
   "metadata": {},
   "outputs": [],
   "source": [
    "((val,trn), (y_val,y_trn)) = split_by_idx(val_idx, df.values, y)"
   ]
  },
  {
   "cell_type": "code",
   "execution_count": 75,
   "metadata": {},
   "outputs": [],
   "source": [
    "m = RandomForestRegressor(n_estimators=40, max_features=0.99, min_samples_leaf=2,\n",
    "                          n_jobs=-1, oob_score=True)\n",
    "m.fit(trn, y_trn);"
   ]
  },
  {
   "cell_type": "code",
   "execution_count": 76,
   "metadata": {},
   "outputs": [],
   "source": [
    "def PredtoClass(a):\n",
    "    pred_class = []\n",
    "    for i in range(len(a)):\n",
    "        if a[i]<.5:\n",
    "            pred_class.append(0)\n",
    "        else:\n",
    "            pred_class.append(1)\n",
    "    return pred_class\n",
    "def accuracy(preds, y_val):\n",
    "    return  sum(1- abs(PredtoClass(preds) - y_val))/len(y_val)"
   ]
  },
  {
   "cell_type": "code",
   "execution_count": 77,
   "metadata": {},
   "outputs": [
    {
     "data": {
      "text/plain": [
       "(0.9978011294702782,\n",
       " RandomForestRegressor(bootstrap=True, criterion='mse', max_depth=None,\n",
       "            max_features=0.99, max_leaf_nodes=None,\n",
       "            min_impurity_decrease=0.0, min_impurity_split=None,\n",
       "            min_samples_leaf=2, min_samples_split=2,\n",
       "            min_weight_fraction_leaf=0.0, n_estimators=40, n_jobs=-1,\n",
       "            oob_score=True, random_state=None, verbose=0, warm_start=False))"
      ]
     },
     "execution_count": 77,
     "metadata": {},
     "output_type": "execute_result"
    }
   ],
   "source": [
    "preds = m.predict(val)\n",
    "m.score(trn, y_trn), m"
   ]
  },
  {
   "cell_type": "code",
   "execution_count": 78,
   "metadata": {},
   "outputs": [],
   "source": [
    "preds_test = m.predict(df_test.values)"
   ]
  },
  {
   "cell_type": "code",
   "execution_count": 79,
   "metadata": {},
   "outputs": [
    {
     "data": {
      "text/html": [
       "<div>\n",
       "<style scoped>\n",
       "    .dataframe tbody tr th:only-of-type {\n",
       "        vertical-align: middle;\n",
       "    }\n",
       "\n",
       "    .dataframe tbody tr th {\n",
       "        vertical-align: top;\n",
       "    }\n",
       "\n",
       "    .dataframe thead th {\n",
       "        text-align: right;\n",
       "    }\n",
       "</style>\n",
       "<table border=\"1\" class=\"dataframe\">\n",
       "  <thead>\n",
       "    <tr style=\"text-align: right;\">\n",
       "      <th></th>\n",
       "      <th>index_col</th>\n",
       "      <th>failure</th>\n",
       "      <th>failure_pred</th>\n",
       "    </tr>\n",
       "  </thead>\n",
       "  <tbody>\n",
       "    <tr>\n",
       "      <th>37611</th>\n",
       "      <td>46083</td>\n",
       "      <td>0</td>\n",
       "      <td>0</td>\n",
       "    </tr>\n",
       "    <tr>\n",
       "      <th>19214</th>\n",
       "      <td>46084</td>\n",
       "      <td>0</td>\n",
       "      <td>0</td>\n",
       "    </tr>\n",
       "    <tr>\n",
       "      <th>17182</th>\n",
       "      <td>46085</td>\n",
       "      <td>0</td>\n",
       "      <td>0</td>\n",
       "    </tr>\n",
       "    <tr>\n",
       "      <th>79647</th>\n",
       "      <td>46086</td>\n",
       "      <td>0</td>\n",
       "      <td>0</td>\n",
       "    </tr>\n",
       "    <tr>\n",
       "      <th>58407</th>\n",
       "      <td>46087</td>\n",
       "      <td>0</td>\n",
       "      <td>0</td>\n",
       "    </tr>\n",
       "    <tr>\n",
       "      <th>67250</th>\n",
       "      <td>46088</td>\n",
       "      <td>0</td>\n",
       "      <td>0</td>\n",
       "    </tr>\n",
       "    <tr>\n",
       "      <th>18770</th>\n",
       "      <td>46089</td>\n",
       "      <td>0</td>\n",
       "      <td>0</td>\n",
       "    </tr>\n",
       "    <tr>\n",
       "      <th>28491</th>\n",
       "      <td>46090</td>\n",
       "      <td>0</td>\n",
       "      <td>0</td>\n",
       "    </tr>\n",
       "    <tr>\n",
       "      <th>60058</th>\n",
       "      <td>46091</td>\n",
       "      <td>0</td>\n",
       "      <td>0</td>\n",
       "    </tr>\n",
       "    <tr>\n",
       "      <th>41815</th>\n",
       "      <td>46092</td>\n",
       "      <td>0</td>\n",
       "      <td>0</td>\n",
       "    </tr>\n",
       "  </tbody>\n",
       "</table>\n",
       "</div>"
      ],
      "text/plain": [
       "       index_col  failure  failure_pred\n",
       "37611      46083        0             0\n",
       "19214      46084        0             0\n",
       "17182      46085        0             0\n",
       "79647      46086        0             0\n",
       "58407      46087        0             0\n",
       "67250      46088        0             0\n",
       "18770      46089        0             0\n",
       "28491      46090        0             0\n",
       "60058      46091        0             0\n",
       "41815      46092        0             0"
      ]
     },
     "execution_count": 79,
     "metadata": {},
     "output_type": "execute_result"
    }
   ],
   "source": [
    "sub = pd.DataFrame({'index_col':test.index_col, 'failure':test.failure, 'failure_pred':PredtoClass(preds_test)})[['index_col', 'failure', 'failure_pred']]\n",
    "sub.head(10)"
   ]
  },
  {
   "cell_type": "code",
   "execution_count": 80,
   "metadata": {},
   "outputs": [
    {
     "data": {
      "text/plain": [
       "0.9977296683694153"
      ]
     },
     "execution_count": 80,
     "metadata": {},
     "output_type": "execute_result"
    }
   ],
   "source": [
    "accuracy_score(sub.failure,sub.failure_pred)"
   ]
  },
  {
   "cell_type": "code",
   "execution_count": 81,
   "metadata": {},
   "outputs": [
    {
     "data": {
      "text/plain": [
       "array([[12302,    16],\n",
       "       [   12,     3]])"
      ]
     },
     "execution_count": 81,
     "metadata": {},
     "output_type": "execute_result"
    }
   ],
   "source": [
    "confusion_matrix(sub.failure,sub.failure_pred)"
   ]
  },
  {
   "cell_type": "markdown",
   "metadata": {},
   "source": [
    "\n",
    "### Confusion matrix (多クラスの混同行列)\n",
    "\n",
    "### About business goal for the device failure prediction, must be focus the recall rate and precision rate.\n",
    "\n",
    "##### for the model 60% (9/15) failure be detected \n",
    "\n",
    "\n",
    "精度 (Precision)\n",
    "\n",
    "Precision = TP / (TP + FP)\n",
    "\n",
    "#### For the failure detection, The Precision is 15% 3/(3+16)\n",
    "\n",
    "検出率 (Recall)\n",
    "\n",
    "Recall = TPR = Sensitivity = TP / (TP + FN)\n",
    "\n",
    "### For the failure detection, The Recall rate is 20% 3/(12+3)"
   ]
  },
  {
   "cell_type": "markdown",
   "metadata": {},
   "source": [
    "# Conclusion\n",
    "    I have tried three methods for solving the devices failure problem.\n",
    "    1 add timely information \n",
    "    2 bootstrapping dataset\n",
    "    3 cross viludation\n",
    "    \n",
    "    Using neural network to solve the unbalanced dataset is big business chance and big challenge. maybe there are some new idea like human or biology for detecting the failure. we need deeply thinking and finding the new neural network architecture or new method for solving real world problem.\n",
    "    "
   ]
  },
  {
   "cell_type": "code",
   "execution_count": null,
   "metadata": {},
   "outputs": [],
   "source": []
  }
 ],
 "metadata": {
  "kernelspec": {
   "display_name": "Python 3",
   "language": "python",
   "name": "python3"
  },
  "language_info": {
   "codemirror_mode": {
    "name": "ipython",
    "version": 3
   },
   "file_extension": ".py",
   "mimetype": "text/x-python",
   "name": "python",
   "nbconvert_exporter": "python",
   "pygments_lexer": "ipython3",
   "version": "3.6.4"
  }
 },
 "nbformat": 4,
 "nbformat_minor": 2
}
