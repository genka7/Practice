{
 "cells": [
  {
   "cell_type": "markdown",
   "metadata": {},
   "source": [
    "# Cart Pole game\n",
    "# On-Policy Learning"
   ]
  },
  {
   "cell_type": "markdown",
   "metadata": {},
   "source": [
    "### Environment: OpenAi Gym \n",
    "\n",
    "https://openai.com/\n",
    "\n",
    "### Random action for the CartPole game"
   ]
  },
  {
   "cell_type": "code",
   "execution_count": null,
   "metadata": {},
   "outputs": [],
   "source": [
    "import gym\n",
    "import time\n",
    "env = gym.make('CartPole-v0')\n",
    "for i_episode in range(3):\n",
    "    observation = env.reset()\n",
    "    for t in range(200):\n",
    "        env.render()\n",
    "        time.sleep(0.02)\n",
    "        print(observation)\n",
    "        action = env.action_space.sample()\n",
    "        observation, reward, done, info = env.step(action)\n",
    "        print(reward)\n",
    "#        if done:\n",
    "#            print(\"Episode finished after {} timesteps\".format(t+1))\n",
    "#            break"
   ]
  },
  {
   "cell_type": "markdown",
   "metadata": {},
   "source": [
    "# Policy Gradient method for playing Cart Pole game"
   ]
  },
  {
   "cell_type": "markdown",
   "metadata": {},
   "source": [
    "### Loadding library"
   ]
  },
  {
   "cell_type": "code",
   "execution_count": 2,
   "metadata": {},
   "outputs": [
    {
     "name": "stderr",
     "output_type": "stream",
     "text": [
      "/home/yanhua/anaconda3/lib/python3.6/site-packages/h5py/__init__.py:36: FutureWarning: Conversion of the second argument of issubdtype from `float` to `np.floating` is deprecated. In future, it will be treated as `np.float64 == np.dtype(float).type`.\n",
      "  from ._conv import register_converters as _register_converters\n"
     ]
    }
   ],
   "source": [
    "import gym\n",
    "#from RL_brain import PolicyGradient\n",
    "import matplotlib.pyplot as plt\n",
    "import numpy as np\n",
    "import tensorflow as tf\n",
    "\n",
    "#DISPLAY_REWARD_THRESHOLD = 400  # renders environment if total episode reward is greater then this threshold\n"
   ]
  },
  {
   "cell_type": "markdown",
   "metadata": {},
   "source": [
    "# Create environment"
   ]
  },
  {
   "cell_type": "code",
   "execution_count": 3,
   "metadata": {},
   "outputs": [
    {
     "name": "stdout",
     "output_type": "stream",
     "text": [
      "\u001b[33mWARN: gym.spaces.Box autodetected dtype as <class 'numpy.float32'>. Please provide explicit dtype.\u001b[0m\n"
     ]
    }
   ],
   "source": [
    "RENDER = False  # rendering wastes time\n",
    "\n",
    "env = gym.make('CartPole-v0')\n",
    "env.seed(1)     # reproducible, general Policy gradient has high variance\n",
    "env = env.unwrapped"
   ]
  },
  {
   "cell_type": "markdown",
   "metadata": {},
   "source": [
    "### CartPole environment information"
   ]
  },
  {
   "cell_type": "code",
   "execution_count": 4,
   "metadata": {},
   "outputs": [
    {
     "name": "stdout",
     "output_type": "stream",
     "text": [
      "Discrete(2)\n",
      "Box(4,)\n",
      "[4.8000002e+00 3.4028235e+38 4.1887903e-01 3.4028235e+38]\n",
      "[-4.8000002e+00 -3.4028235e+38 -4.1887903e-01 -3.4028235e+38]\n"
     ]
    }
   ],
   "source": [
    "print(env.action_space)\n",
    "print(env.observation_space)\n",
    "print(env.observation_space.high)\n",
    "print(env.observation_space.low)\n"
   ]
  },
  {
   "cell_type": "markdown",
   "metadata": {},
   "source": [
    "# Built neural network graph.\n",
    "\n",
    "### 2 dense layer neural network. output the probability of action."
   ]
  },
  {
   "cell_type": "code",
   "execution_count": 5,
   "metadata": {},
   "outputs": [],
   "source": [
    "# setting the network parameter\n",
    "output_graph=False\n",
    "learning_rate=0.01\n",
    "reward_decay=0.95\n",
    "    \n",
    "n_actions = env.action_space.n\n",
    "n_features = env.observation_space.shape[0]\n",
    "lr = learning_rate\n",
    "gamma = reward_decay\n",
    "\n",
    "ep_obs, ep_as, ep_rs = [], [], []\n",
    "\n",
    "with tf.name_scope('inputs'):\n",
    "        tf_obs = tf.placeholder(tf.float32, [None, n_features], name=\"observations\")\n",
    "        tf_acts = tf.placeholder(tf.int32, [None, ], name=\"actions_num\")\n",
    "        tf_vt = tf.placeholder(tf.float32, [None, ], name=\"actions_value\")\n",
    "    # fc1\n",
    "layer = tf.layers.dense(\n",
    "        inputs=tf_obs,\n",
    "        units=10,\n",
    "        activation=tf.nn.tanh,  # tanh activation\n",
    "        kernel_initializer=tf.random_normal_initializer(mean=0, stddev=0.3),\n",
    "        bias_initializer=tf.constant_initializer(0.1),\n",
    "        name='fc1'\n",
    "    )\n",
    "    # fc2\n",
    "all_act = tf.layers.dense(\n",
    "        inputs=layer,\n",
    "        units=n_actions,\n",
    "        activation=None,\n",
    "        kernel_initializer=tf.random_normal_initializer(mean=0, stddev=0.3),\n",
    "        bias_initializer=tf.constant_initializer(0.1),\n",
    "        name='fc2'\n",
    "    )\n"
   ]
  },
  {
   "cell_type": "markdown",
   "metadata": {},
   "source": [
    "### output the approximate action for maximum reward."
   ]
  },
  {
   "cell_type": "code",
   "execution_count": 6,
   "metadata": {},
   "outputs": [],
   "source": [
    "all_act_prob = tf.nn.softmax(all_act, name='act_prob')  # use softmax to convert to probability"
   ]
  },
  {
   "cell_type": "markdown",
   "metadata": {},
   "source": [
    "## The policy gradient method.\n",
    "\n",
    "### $log[\\pi(action|state)]*R(state,action)$\n",
    "\n",
    "## $W = W + LearningRate*log[\\pi(action|state)]*R(state,action)$\n",
    "https://www.sharelatex.com/learn/Mathematical_expressions\n",
    "\n",
    "http://web.ift.uib.no/Teori/KURS/WRK/TeX/symALL.html"
   ]
  },
  {
   "cell_type": "code",
   "execution_count": 7,
   "metadata": {},
   "outputs": [],
   "source": [
    "with tf.name_scope('loss'):\n",
    "    # to maximize total reward (log_p * R) is to minimize -(log_p * R), and the tf only have minimize(loss)\n",
    "    neg_log_prob = tf.nn.sparse_softmax_cross_entropy_with_logits(logits=all_act, labels=tf_acts)   # this is negative log of chosen action\n",
    "        # or in this way:\n",
    "    # neg_log_prob = tf.reduce_sum(-tf.log(all_act_prob)*tf.one_hot(tf_acts, n_actions), axis=1)\n",
    "loss = tf.reduce_mean(neg_log_prob * tf_vt)  # reward guided loss"
   ]
  },
  {
   "cell_type": "markdown",
   "metadata": {},
   "source": [
    "# Run the tensorflow graph."
   ]
  },
  {
   "cell_type": "code",
   "execution_count": 8,
   "metadata": {},
   "outputs": [],
   "source": [
    "with tf.name_scope('train'):\n",
    "    train_op = tf.train.AdamOptimizer(lr).minimize(loss)\n",
    "    \n",
    "sess = tf.Session()\n",
    "\n",
    "if output_graph:\n",
    "    # $ tensorboard --logdir=logs\n",
    "    # http://0.0.0.0:6006/\n",
    "    # tf.train.SummaryWriter soon be deprecated, use following\n",
    "    tf.summary.FileWriter(\"logs/\", sess.graph)\n",
    "\n",
    "sess.run(tf.global_variables_initializer())"
   ]
  },
  {
   "cell_type": "code",
   "execution_count": 9,
   "metadata": {},
   "outputs": [
    {
     "data": {
      "text/plain": [
       "(4,)"
      ]
     },
     "execution_count": 9,
     "metadata": {},
     "output_type": "execute_result"
    }
   ],
   "source": [
    "env.observation_space.shape"
   ]
  },
  {
   "cell_type": "markdown",
   "metadata": {},
   "source": [
    "### choosing the action form the probability of action."
   ]
  },
  {
   "cell_type": "code",
   "execution_count": 10,
   "metadata": {},
   "outputs": [],
   "source": [
    "def choose_action(observation):\n",
    "    prob_weights = sess.run(all_act_prob, feed_dict={tf_obs: observation[np.newaxis, :]})\n",
    "    action = np.random.choice(range(prob_weights.shape[1]), p=prob_weights.ravel())  # select action w.r.t the actions prob\n",
    "    return action"
   ]
  },
  {
   "cell_type": "markdown",
   "metadata": {},
   "source": [
    "###  store the data for training the neural network."
   ]
  },
  {
   "cell_type": "code",
   "execution_count": 11,
   "metadata": {},
   "outputs": [],
   "source": [
    "def store_transition(s, a, r):\n",
    "    ep_obs.append(s)\n",
    "    ep_as.append(a)\n",
    "    ep_rs.append(r)"
   ]
  },
  {
   "cell_type": "markdown",
   "metadata": {},
   "source": [
    "### Play self for training the model."
   ]
  },
  {
   "cell_type": "code",
   "execution_count": 12,
   "metadata": {},
   "outputs": [],
   "source": [
    "game_episodes=500 #game episodes setting for traning."
   ]
  },
  {
   "cell_type": "markdown",
   "metadata": {},
   "source": [
    "# Training the nueral network.\n",
    "training per one time game."
   ]
  },
  {
   "cell_type": "code",
   "execution_count": 14,
   "metadata": {
    "scrolled": true
   },
   "outputs": [
    {
     "name": "stdout",
     "output_type": "stream",
     "text": [
      "episode: 0   reward: 14\n"
     ]
    },
    {
     "data": {
      "image/png": "[encoded data removed]",
      "text/plain": [
       "<matplotlib.figure.Figure at 0x7fa02e38dda0>"
      ]
     },
     "metadata": {},
     "output_type": "display_data"
    },
    {
     "name": "stdout",
     "output_type": "stream",
     "text": [
      "episode: 1   reward: 13\n",
      "episode: 2   reward: 14\n",
      "episode: 3   reward: 14\n",
      "episode: 4   reward: 14\n",
      "episode: 5   reward: 14\n",
      "episode: 6   reward: 14\n",
      "episode: 7   reward: 14\n",
      "episode: 8   reward: 14\n",
      "episode: 9   reward: 14\n",
      "episode: 10   reward: 14\n",
      "episode: 11   reward: 14\n",
      "episode: 12   reward: 14\n",
      "episode: 13   reward: 14\n",
      "episode: 14   reward: 15\n",
      "episode: 15   reward: 15\n",
      "episode: 16   reward: 15\n",
      "episode: 17   reward: 15\n",
      "episode: 18   reward: 15\n",
      "episode: 19   reward: 15\n",
      "episode: 20   reward: 15\n",
      "episode: 21   reward: 15\n",
      "episode: 22   reward: 15\n",
      "episode: 23   reward: 15\n",
      "episode: 24   reward: 15\n",
      "episode: 25   reward: 15\n",
      "episode: 26   reward: 15\n",
      "episode: 27   reward: 15\n",
      "episode: 28   reward: 15\n",
      "episode: 29   reward: 15\n",
      "episode: 30   reward: 16\n",
      "episode: 31   reward: 15\n",
      "episode: 32   reward: 16\n",
      "episode: 33   reward: 16\n",
      "episode: 34   reward: 16\n",
      "episode: 35   reward: 16\n",
      "episode: 36   reward: 16\n",
      "episode: 37   reward: 17\n",
      "episode: 38   reward: 17\n",
      "episode: 39   reward: 18\n",
      "episode: 40   reward: 18\n",
      "episode: 41   reward: 20\n",
      "episode: 42   reward: 20\n",
      "episode: 43   reward: 21\n",
      "episode: 44   reward: 21\n",
      "episode: 45   reward: 21\n",
      "episode: 46   reward: 21\n",
      "episode: 47   reward: 22\n",
      "episode: 48   reward: 22\n",
      "episode: 49   reward: 22\n",
      "episode: 50   reward: 24\n",
      "episode: 51   reward: 25\n",
      "episode: 52   reward: 25\n",
      "episode: 53   reward: 26\n",
      "episode: 54   reward: 26\n",
      "episode: 55   reward: 28\n",
      "episode: 56   reward: 28\n",
      "episode: 57   reward: 28\n",
      "episode: 58   reward: 28\n",
      "episode: 59   reward: 28\n",
      "episode: 60   reward: 29\n",
      "episode: 61   reward: 30\n",
      "episode: 62   reward: 30\n",
      "episode: 63   reward: 30\n",
      "episode: 64   reward: 30\n",
      "episode: 65   reward: 31\n",
      "episode: 66   reward: 31\n",
      "episode: 67   reward: 32\n",
      "episode: 68   reward: 32\n",
      "episode: 69   reward: 32\n",
      "episode: 70   reward: 33\n",
      "episode: 71   reward: 34\n",
      "episode: 72   reward: 35\n",
      "episode: 73   reward: 34\n",
      "episode: 74   reward: 35\n",
      "episode: 75   reward: 36\n",
      "episode: 76   reward: 37\n",
      "episode: 77   reward: 37\n",
      "episode: 78   reward: 39\n",
      "episode: 79   reward: 40\n",
      "episode: 80   reward: 41\n",
      "episode: 81   reward: 42\n",
      "episode: 82   reward: 43\n",
      "episode: 83   reward: 44\n",
      "episode: 84   reward: 46\n",
      "episode: 85   reward: 47\n",
      "episode: 86   reward: 51\n",
      "episode: 87   reward: 52\n",
      "episode: 88   reward: 53\n",
      "episode: 89   reward: 54\n",
      "episode: 90   reward: 57\n",
      "episode: 91   reward: 58\n",
      "episode: 92   reward: 58\n",
      "episode: 93   reward: 61\n",
      "episode: 94   reward: 61\n",
      "episode: 95   reward: 63\n",
      "episode: 96   reward: 64\n",
      "episode: 97   reward: 72\n",
      "episode: 98   reward: 76\n",
      "episode: 99   reward: 77\n",
      "episode: 100   reward: 83\n",
      "episode: 101   reward: 88\n",
      "episode: 102   reward: 90\n",
      "episode: 103   reward: 91\n",
      "episode: 104   reward: 91\n",
      "episode: 105   reward: 92\n",
      "episode: 106   reward: 94\n",
      "episode: 107   reward: 96\n",
      "episode: 108   reward: 97\n",
      "episode: 109   reward: 100\n",
      "episode: 110   reward: 101\n",
      "episode: 111   reward: 102\n",
      "episode: 112   reward: 102\n",
      "episode: 113   reward: 103\n",
      "episode: 114   reward: 104\n",
      "episode: 115   reward: 105\n",
      "episode: 116   reward: 105\n",
      "episode: 117   reward: 107\n",
      "episode: 118   reward: 107\n",
      "episode: 119   reward: 108\n",
      "episode: 120   reward: 108\n",
      "episode: 121   reward: 109\n",
      "episode: 122   reward: 109\n",
      "episode: 123   reward: 112\n",
      "episode: 124   reward: 111\n",
      "episode: 125   reward: 112\n",
      "episode: 126   reward: 114\n",
      "episode: 127   reward: 114\n",
      "episode: 128   reward: 114\n",
      "episode: 129   reward: 115\n",
      "episode: 130   reward: 115\n",
      "episode: 131   reward: 115\n",
      "episode: 132   reward: 116\n",
      "episode: 133   reward: 118\n",
      "episode: 134   reward: 118\n",
      "episode: 135   reward: 118\n",
      "episode: 136   reward: 118\n",
      "episode: 137   reward: 118\n",
      "episode: 138   reward: 119\n",
      "episode: 139   reward: 120\n",
      "episode: 140   reward: 120\n",
      "episode: 141   reward: 122\n",
      "episode: 142   reward: 123\n",
      "episode: 143   reward: 123\n",
      "episode: 144   reward: 123\n",
      "episode: 145   reward: 124\n",
      "episode: 146   reward: 127\n",
      "episode: 147   reward: 127\n",
      "episode: 148   reward: 133\n",
      "episode: 149   reward: 136\n",
      "episode: 150   reward: 153\n",
      "episode: 151   reward: 158\n",
      "episode: 152   reward: 176\n",
      "episode: 153   reward: 176\n",
      "episode: 154   reward: 176\n",
      "episode: 155   reward: 179\n",
      "episode: 156   reward: 181\n",
      "episode: 157   reward: 188\n",
      "episode: 158   reward: 199\n",
      "episode: 159   reward: 204\n",
      "episode: 160   reward: 223\n",
      "episode: 161   reward: 238\n",
      "episode: 162   reward: 241\n",
      "episode: 163   reward: 243\n",
      "episode: 164   reward: 245\n",
      "episode: 165   reward: 247\n",
      "episode: 166   reward: 260\n",
      "episode: 167   reward: 271\n",
      "episode: 168   reward: 275\n",
      "episode: 169   reward: 277\n",
      "episode: 170   reward: 278\n",
      "episode: 171   reward: 280\n",
      "episode: 172   reward: 286\n",
      "episode: 173   reward: 286\n",
      "episode: 174   reward: 286\n",
      "episode: 175   reward: 308\n",
      "episode: 176   reward: 329\n",
      "episode: 177   reward: 334\n",
      "episode: 178   reward: 353\n",
      "episode: 179   reward: 410\n",
      "episode: 180   reward: 413\n",
      "episode: 181   reward: 447\n",
      "episode: 182   reward: 513\n",
      "episode: 183   reward: 555\n",
      "episode: 184   reward: 553\n",
      "episode: 185   reward: 619\n",
      "episode: 186   reward: 620\n",
      "episode: 187   reward: 726\n",
      "episode: 188   reward: 750\n",
      "episode: 189   reward: 852\n",
      "episode: 190   reward: 873\n",
      "episode: 191   reward: 934\n",
      "episode: 192   reward: 977\n",
      "episode: 193   reward: 982\n",
      "episode: 194   reward: 1326\n",
      "episode: 195   reward: 1323\n",
      "episode: 196   reward: 1434\n",
      "episode: 197   reward: 1430\n",
      "episode: 198   reward: 1754\n",
      "episode: 199   reward: 1756\n",
      "episode: 200   reward: 1827\n",
      "episode: 201   reward: 2112\n"
     ]
    }
   ],
   "source": [
    "for i_episode in range(game_episodes):\n",
    "\n",
    "    observation = env.reset()\n",
    "\n",
    "    while True:\n",
    "        if RENDER: env.render()\n",
    "\n",
    "        action = choose_action(observation)\n",
    "\n",
    "        observation_, reward, done, info = env.step(action)\n",
    "\n",
    "        store_transition(observation, action, reward)\n",
    "\n",
    "        if done:\n",
    "            ep_rs_sum = sum(ep_rs)\n",
    "\n",
    "            if 'running_reward' not in globals():\n",
    "                running_reward = ep_rs_sum\n",
    "            else:\n",
    "                running_reward = running_reward * 0.99 + ep_rs_sum * 0.01\n",
    "            #if running_reward > DISPLAY_REWARD_THRESHOLD: RENDER = True     # rendering\n",
    "            print(\"episode:\", i_episode, \"  reward:\", int(running_reward))\n",
    "\n",
    "            # discount and normalize episode reward\n",
    "            # discount episode rewards\n",
    "            discounted_ep_rs = np.zeros_like(ep_rs)\n",
    "            running_add = 0\n",
    "            for t in reversed(range(0, len(ep_rs))):\n",
    "                running_add = running_add * gamma + ep_rs[t]\n",
    "                discounted_ep_rs[t] = running_add\n",
    "\n",
    "            # normalize episode rewards\n",
    "            discounted_ep_rs -= np.mean(discounted_ep_rs)\n",
    "            discounted_ep_rs /= np.std(discounted_ep_rs)\n",
    "     \n",
    "            discounted_ep_rs_norm = discounted_ep_rs\n",
    "\n",
    "            # train on episode\n",
    "            sess.run(train_op, feed_dict={\n",
    "                tf_obs: np.vstack(ep_obs),  # shape=[None, n_obs]\n",
    "                tf_acts: np.array(ep_as),  # shape=[None, ]\n",
    "                tf_vt: discounted_ep_rs_norm,  # shape=[None, ]\n",
    "            })\n",
    "\n",
    "            ep_obs, ep_as, ep_rs = [], [], []    # empty episode data\n",
    "     \n",
    "            vt = discounted_ep_rs_norm\n",
    "\n",
    "            if i_episode == 0:\n",
    "                plt.plot(vt)    # plot the episode vt\n",
    "                plt.xlabel('episode steps')\n",
    "                plt.ylabel('normalized state-action value')\n",
    "                plt.show()\n",
    "            break\n",
    "\n",
    "        observation = observation_\n",
    "    if int(running_reward)>2000:\n",
    "        #3000\n",
    "        break"
   ]
  },
  {
   "cell_type": "markdown",
   "metadata": {},
   "source": [
    "wait a moment... ...\n",
    "\n",
    "# What is Reinforcement Learning\n",
    "\n",
    "The processing is Random action start -> Learning from self training and got error (reward) in environment -> Become Master\n",
    "\n",
    "Reinforcement Learning is the method of Learning from self-training error (reward) .\n",
    "\n",
    "RL used case: DeepMind AlphaGo (Model based RL) , Human behavior Robot . Self-driving car\n",
    "\n",
    "RL not use loss. RL use the reward.  For training the neural network.\n",
    "\n",
    "Some methods in Reinforcement Learning\n",
    "\n",
    "    1,valuable base: Q-learning, Sarsa\n",
    "    2,action base: Policy Gradients **\n",
    "    3,model base: Model based RL (know the environment)\n"
   ]
  },
  {
   "cell_type": "markdown",
   "metadata": {},
   "source": [
    "# What is Policy Gradient\n",
    "\n",
    "action base\n",
    "\n",
    "output is probability of choosing action.\n",
    "\n",
    "use the reward to change the probability high or low for the action.\n",
    "\n",
    "and traing the neural network."
   ]
  },
  {
   "cell_type": "markdown",
   "metadata": {},
   "source": []
  },
  {
   "cell_type": "markdown",
   "metadata": {},
   "source": [
    "# Testing the traned neural network for checking performance."
   ]
  },
  {
   "cell_type": "code",
   "execution_count": 15,
   "metadata": {},
   "outputs": [],
   "source": [
    "for i_episode in range(1):\n",
    "\n",
    "    observation = env.reset()\n",
    "\n",
    "    while True:\n",
    "        if RENDER: env.render()\n",
    "\n",
    "        action = choose_action(observation)\n",
    "\n",
    "        observation_, reward, done, info = env.step(action)\n",
    "\n",
    "        if done:\n",
    "            break\n",
    "\n",
    "        observation = observation_"
   ]
  },
  {
   "cell_type": "code",
   "execution_count": 16,
   "metadata": {},
   "outputs": [],
   "source": [
    "RENDER = True"
   ]
  },
  {
   "cell_type": "code",
   "execution_count": 17,
   "metadata": {},
   "outputs": [],
   "source": [
    "game_episodes=1 #game episodes setting for traning."
   ]
  },
  {
   "cell_type": "code",
   "execution_count": 18,
   "metadata": {},
   "outputs": [
    {
     "name": "stdout",
     "output_type": "stream",
     "text": [
      "episode: 0   reward: 2315\n"
     ]
    },
    {
     "data": {
      "image/png": "[encoded data removed]",
      "text/plain": [
       "<matplotlib.figure.Figure at 0x7fa02e55ac18>"
      ]
     },
     "metadata": {},
     "output_type": "display_data"
    }
   ],
   "source": [
    "for i_episode in range(game_episodes):\n",
    "\n",
    "    observation = env.reset()\n",
    "\n",
    "    while True:\n",
    "        if RENDER: env.render()\n",
    "\n",
    "        action = choose_action(observation)\n",
    "\n",
    "        observation_, reward, done, info = env.step(action)\n",
    "\n",
    "        store_transition(observation, action, reward)\n",
    "\n",
    "        if done:\n",
    "            ep_rs_sum = sum(ep_rs)\n",
    "\n",
    "            if 'running_reward' not in globals():\n",
    "                running_reward = ep_rs_sum\n",
    "            else:\n",
    "                running_reward = running_reward * 0.99 + ep_rs_sum * 0.01\n",
    "            #if running_reward > DISPLAY_REWARD_THRESHOLD: RENDER = True     # rendering\n",
    "            print(\"episode:\", i_episode, \"  reward:\", int(running_reward))\n",
    "\n",
    "            # discount and normalize episode reward\n",
    "            # discount episode rewards\n",
    "            discounted_ep_rs = np.zeros_like(ep_rs)\n",
    "            running_add = 0\n",
    "            for t in reversed(range(0, len(ep_rs))):\n",
    "                running_add = running_add * gamma + ep_rs[t]\n",
    "                discounted_ep_rs[t] = running_add\n",
    "\n",
    "            # normalize episode rewards\n",
    "            discounted_ep_rs -= np.mean(discounted_ep_rs)\n",
    "            discounted_ep_rs /= np.std(discounted_ep_rs)\n",
    "     \n",
    "            discounted_ep_rs_norm = discounted_ep_rs\n",
    "\n",
    "            ep_obs, ep_as, ep_rs = [], [], []    # empty episode data\n",
    "     \n",
    "            vt = discounted_ep_rs_norm\n",
    "\n",
    "            if i_episode == 0:\n",
    "                plt.plot(vt)    # plot the episode vt\n",
    "                plt.xlabel('episode steps')\n",
    "                plt.ylabel('normalized state-action value')\n",
    "                plt.show()\n",
    "            break\n",
    "\n",
    "        observation = observation_"
   ]
  },
  {
   "cell_type": "markdown",
   "metadata": {},
   "source": [
    "# Store the neural network model."
   ]
  },
  {
   "cell_type": "code",
   "execution_count": 14,
   "metadata": {},
   "outputs": [],
   "source": [
    "saver = tf.train.Saver()"
   ]
  },
  {
   "cell_type": "code",
   "execution_count": 30,
   "metadata": {},
   "outputs": [
    {
     "name": "stdout",
     "output_type": "stream",
     "text": [
      "Model saved in path: /home/yanhua/Documents/jupyter/yan/demo/save_model/PG_CartPole/model.ckpt\n"
     ]
    }
   ],
   "source": [
    "#saver_path = saver.save(sess,\"/home/yanhua/Documents/jupyter/yan/demo/save_model/PG_CartPole/model.ckpt\")\n",
    "#print(\"Model saved in path: %s\" % saver_path)"
   ]
  },
  {
   "cell_type": "code",
   "execution_count": 15,
   "metadata": {},
   "outputs": [
    {
     "name": "stdout",
     "output_type": "stream",
     "text": [
      "INFO:tensorflow:Restoring parameters from /home/yanhua/Documents/jupyter/yan/demo/save_model/PG_CartPole/model.ckpt\n",
      "Model restored.\n"
     ]
    }
   ],
   "source": [
    "saver.restore(sess,\"/home/yanhua/Documents/jupyter/yan/demo/save_model/PG_CartPole/model.ckpt\")\n",
    "print(\"Model restored.\")"
   ]
  },
  {
   "cell_type": "code",
   "execution_count": 16,
   "metadata": {},
   "outputs": [],
   "source": [
    "RENDER = True"
   ]
  },
  {
   "cell_type": "code",
   "execution_count": 17,
   "metadata": {},
   "outputs": [],
   "source": [
    "for i_episode in range(1):\n",
    "\n",
    "    observation = env.reset()\n",
    "\n",
    "    while True:\n",
    "        if RENDER: env.render()\n",
    "\n",
    "        action = choose_action(observation)\n",
    "\n",
    "        observation_, reward, done, info = env.step(action)\n",
    "\n",
    "        if done:\n",
    "            break\n",
    "\n",
    "        observation = observation_"
   ]
  },
  {
   "cell_type": "code",
   "execution_count": null,
   "metadata": {},
   "outputs": [],
   "source": []
  },
  {
   "cell_type": "markdown",
   "metadata": {},
   "source": [
    "# initializer the neural network for random action"
   ]
  },
  {
   "cell_type": "code",
   "execution_count": 24,
   "metadata": {},
   "outputs": [],
   "source": [
    "sess.run(tf.global_variables_initializer())"
   ]
  },
  {
   "cell_type": "code",
   "execution_count": 25,
   "metadata": {},
   "outputs": [
    {
     "name": "stdout",
     "output_type": "stream",
     "text": [
      "\u001b[33mWARN: You are calling 'step()' even though this environment has already returned done = True. You should always call 'reset()' once you receive 'done = True' -- any further steps are undefined behavior.\u001b[0m\n",
      "\u001b[33mWARN: You are calling 'step()' even though this environment has already returned done = True. You should always call 'reset()' once you receive 'done = True' -- any further steps are undefined behavior.\u001b[0m\n",
      "\u001b[33mWARN: You are calling 'step()' even though this environment has already returned done = True. You should always call 'reset()' once you receive 'done = True' -- any further steps are undefined behavior.\u001b[0m\n"
     ]
    }
   ],
   "source": [
    "for i_episode in range(3):\n",
    "\n",
    "    observation = env.reset()\n",
    "\n",
    "    for t in range(200):\n",
    "        env.render()\n",
    "        time.sleep(0.02)\n",
    "        action = choose_action(observation)\n",
    "        observation_, reward, done, info = env.step(action)\n",
    "        observation = observation_"
   ]
  },
  {
   "cell_type": "markdown",
   "metadata": {},
   "source": [
    "jupyter is just for understanding scenario.\n",
    "\n",
    "for real developing :\n",
    "env, method (A3C,PG,DDPG,Q-learning,... etc) ---> at least we can design two oriented object for the Reinforcement Learning.\n",
    "main programing---> Reinforcement Learning task scenario.\n"
   ]
  }
 ],
 "metadata": {
  "kernelspec": {
   "display_name": "Python 3",
   "language": "python",
   "name": "python3"
  },
  "language_info": {
   "codemirror_mode": {
    "name": "ipython",
    "version": 3
   },
   "file_extension": ".py",
   "mimetype": "text/x-python",
   "name": "python",
   "nbconvert_exporter": "python",
   "pygments_lexer": "ipython3",
   "version": "3.6.4"
  }
 },
 "nbformat": 4,
 "nbformat_minor": 2
}
