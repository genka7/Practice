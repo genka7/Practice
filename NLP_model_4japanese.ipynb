{
 "cells": [
  {
   "cell_type": "code",
   "execution_count": 1,
   "metadata": {},
   "outputs": [],
   "source": [
    "import numpy as np\n",
    "import sys\n",
    "import MeCab"
   ]
  },
  {
   "cell_type": "markdown",
   "metadata": {},
   "source": [
    " # Japanese tokenizetion\n",
    " \n",
    " mecab"
   ]
  },
  {
   "cell_type": "code",
   "execution_count": 2,
   "metadata": {},
   "outputs": [
    {
     "name": "stdout",
     "output_type": "stream",
     "text": [
      "今日\tキョウ\t今日\t名詞-副詞可能\t\t\n",
      "も\tモ\tも\t助詞-係助詞\t\t\n",
      "し\tシ\tする\t動詞-自立\tサ変・スル\t未然形\n",
      "ない\tナイ\tない\t助動詞\t特殊・ナイ\t基本形\n",
      "と\tト\tと\t助詞-接続助詞\t\t\n",
      "ね\tネ\tね\t助詞-終助詞\t\t\n",
      "EOS\n",
      "\n"
     ]
    }
   ],
   "source": [
    "m = MeCab.Tagger (\"-Ochasen\")\n",
    "print(m.parse (\"今日もしないとね\"))"
   ]
  },
  {
   "cell_type": "code",
   "execution_count": 3,
   "metadata": {},
   "outputs": [
    {
     "data": {
      "text/plain": [
       "'/home/yanhua/Documents/jupyter/yan/demo/RNN/Natural_Language_Processing'"
      ]
     },
     "execution_count": 3,
     "metadata": {},
     "output_type": "execute_result"
    }
   ],
   "source": [
    "pwd"
   ]
  },
  {
   "cell_type": "code",
   "execution_count": 4,
   "metadata": {},
   "outputs": [],
   "source": [
    "from gensim.models import Word2Vec"
   ]
  },
  {
   "cell_type": "code",
   "execution_count": 5,
   "metadata": {},
   "outputs": [],
   "source": [
    "sentences = [[\"cat\", \"say\", \"meow\"], [\"dog\", \"say\", \"woof\"]]"
   ]
  },
  {
   "cell_type": "code",
   "execution_count": 6,
   "metadata": {},
   "outputs": [],
   "source": [
    "model = Word2Vec(sentences, min_count=1)"
   ]
  },
  {
   "cell_type": "code",
   "execution_count": 7,
   "metadata": {},
   "outputs": [
    {
     "name": "stderr",
     "output_type": "stream",
     "text": [
      "/home/yanhua/anaconda3/lib/python3.6/site-packages/ipykernel_launcher.py:1: DeprecationWarning: Call to deprecated `__getitem__` (Method will be removed in 4.0.0, use self.wv.__getitem__() instead).\n",
      "  \"\"\"Entry point for launching an IPython kernel.\n"
     ]
    }
   ],
   "source": [
    "say_vector = model['say']  # get vector for word"
   ]
  },
  {
   "cell_type": "code",
   "execution_count": 8,
   "metadata": {},
   "outputs": [
    {
     "data": {
      "text/plain": [
       "array([ 1.4251153e-03, -1.6253097e-04, -2.6126101e-03, -6.3351108e-05,\n",
       "       -2.2075193e-03,  3.4370341e-03,  4.2157872e-03,  4.4553829e-03,\n",
       "        2.0769991e-03, -1.8314234e-03, -1.8645810e-03,  4.3295491e-03,\n",
       "        4.1067647e-03, -4.7371993e-03, -1.3795249e-03,  1.4547110e-03,\n",
       "        1.2371828e-03, -3.7863550e-03,  3.9816480e-03,  4.8498712e-03,\n",
       "        1.0015409e-03, -2.9589006e-04, -1.5174053e-03,  3.9856574e-03,\n",
       "       -1.6477914e-03,  1.7932791e-03, -1.8799044e-03,  2.1412845e-03,\n",
       "       -4.5422353e-03, -1.3146297e-03, -8.8776962e-04,  3.3260663e-03,\n",
       "       -4.7798897e-04,  1.9947863e-03, -1.5988876e-03,  2.1081152e-03,\n",
       "       -6.8036932e-04, -7.5350440e-04, -2.2899872e-03, -8.5218344e-04,\n",
       "        4.7037960e-03,  2.5203368e-03,  1.3808474e-03,  2.4380517e-04,\n",
       "        3.8636234e-03,  1.5217823e-03, -3.4907355e-03, -4.6238690e-03,\n",
       "        2.9734159e-03,  4.0107225e-03, -3.8078835e-03, -1.2959006e-03,\n",
       "       -1.6437615e-03, -3.0163869e-03,  6.0245860e-04, -4.0520984e-03,\n",
       "       -4.1807876e-03,  2.6144516e-03, -4.9238889e-03, -2.4414700e-03,\n",
       "       -8.0419972e-04, -2.0838897e-03, -3.9638663e-03, -1.2473048e-03,\n",
       "       -1.6652376e-03, -4.9209646e-03,  1.4666761e-03,  2.4024125e-03,\n",
       "       -1.9350233e-03,  4.6926732e-03,  9.7041996e-04,  2.2937760e-03,\n",
       "       -9.9811191e-04, -2.7426286e-04, -1.7864173e-03,  4.7864970e-03,\n",
       "       -3.2205072e-03, -4.9286895e-03, -3.8678171e-03, -5.7605904e-04,\n",
       "        4.7031161e-03, -4.9545206e-03,  1.6653723e-03, -3.1315787e-03,\n",
       "       -3.5966574e-03, -4.9664211e-03, -3.7037744e-03,  2.5370258e-03,\n",
       "       -2.1621804e-03,  1.1377864e-03, -4.4016656e-03, -8.4960123e-04,\n",
       "        3.8801341e-03, -3.8637284e-03,  4.7622970e-03, -1.7466785e-03,\n",
       "       -4.2250329e-03, -3.8504072e-03, -9.1022486e-04,  3.6538141e-03],\n",
       "      dtype=float32)"
      ]
     },
     "execution_count": 8,
     "metadata": {},
     "output_type": "execute_result"
    }
   ],
   "source": [
    "say_vector"
   ]
  },
  {
   "cell_type": "code",
   "execution_count": 9,
   "metadata": {},
   "outputs": [
    {
     "data": {
      "text/plain": [
       "'/home/yanhua/Documents/jupyter/yan/demo/RNN/Natural_Language_Processing'"
      ]
     },
     "execution_count": 9,
     "metadata": {},
     "output_type": "execute_result"
    }
   ],
   "source": [
    "pwd"
   ]
  },
  {
   "cell_type": "code",
   "execution_count": 10,
   "metadata": {},
   "outputs": [],
   "source": [
    "from gensim.models.word2vec import Word2Vec"
   ]
  },
  {
   "cell_type": "code",
   "execution_count": 11,
   "metadata": {},
   "outputs": [],
   "source": [
    "model_path = 'data/word2vec/word2vec.gensim.model'\n",
    "model = Word2Vec.load(model_path)"
   ]
  },
  {
   "cell_type": "code",
   "execution_count": 12,
   "metadata": {},
   "outputs": [
    {
     "name": "stdout",
     "output_type": "stream",
     "text": [
      "Word2Vec(vocab=335476, size=50, alpha=0.025)\n"
     ]
    }
   ],
   "source": [
    "print(model)"
   ]
  },
  {
   "cell_type": "code",
   "execution_count": null,
   "metadata": {},
   "outputs": [],
   "source": []
  },
  {
   "cell_type": "code",
   "execution_count": 13,
   "metadata": {},
   "outputs": [],
   "source": [
    "from collections import defaultdict\n",
    "from sklearn.cluster import KMeans"
   ]
  },
  {
   "cell_type": "code",
   "execution_count": 14,
   "metadata": {},
   "outputs": [],
   "source": [
    "max_vocab = 30000\n",
    "vocab = list(model.wv.vocab.keys())[:max_vocab]\n",
    "vectors = [model.wv[word] for word in vocab]"
   ]
  },
  {
   "cell_type": "code",
   "execution_count": null,
   "metadata": {},
   "outputs": [],
   "source": [
    "n_clusters = 1000\n",
    "kmeans_model = KMeans(n_clusters=n_clusters, verbose=1, random_state=42, n_jobs=-1)\n",
    "kmeans_model.fit(vectors)"
   ]
  },
  {
   "cell_type": "code",
   "execution_count": 16,
   "metadata": {},
   "outputs": [],
   "source": [
    "cluster_labels = kmeans_model.labels_\n",
    "cluster_to_words = defaultdict(list)\n",
    "for cluster_id, word in zip(cluster_labels, vocab):\n",
    "    cluster_to_words[cluster_id].append(word)"
   ]
  },
  {
   "cell_type": "code",
   "execution_count": null,
   "metadata": {},
   "outputs": [],
   "source": [
    "for words in cluster_to_words.values():\n",
    "    print(words[:10])"
   ]
  },
  {
   "cell_type": "markdown",
   "metadata": {},
   "source": [
    "['『', '羅針盤', '\"（『', '(『', 'ラリック', '航海日誌', '若き彗星の肖像']\n",
    "\n",
    "['GO', 'POWER', '&', 'STYLE', 'LEVEL', 'TO', 'THE', 'TOKYO', 'NO', 'YOUR']\n",
    "\n",
    "['!', 'くん', '!〜', '〜', '?」（', 'サブちゃん', '熱血', '夕陽', '心温まる', '!!']\n",
    "\n",
    "['ガリバー', 'お元気ですか', '小難しい', 'さみっと', '積木くずし', '由里', '積木', '福井裕佳梨', '突き詰める', 'きまぐれ']\n",
    "\n",
    "['』', '著書', '著作', '自著', '旅行記', '主著', '二十世紀', 'ブラヴァツキー', '自伝', 'ノストラダムス']\n",
    "\n",
    "['（', '(', 'または', '：', '』(', '；', '(\"', ';', '」(', '：\"']\n",
    "\n",
    "['ゴーゴー', 'ふれあい', 'こんにちは', 'うたい文句', 'アニ', '日和', 'まるごと', 'みちのく', 'くつろぎ', 'お年玉']\n",
    "\n",
    "['）', 'いっか', 'ざい', 'せいし', 'けいざい', 'えいきゅう', 'しすう', 'しんぶ', 'りかん', 'ほんこく']\n",
    "\n",
    "['は', '、', 'で', '。', 'から', 'の', 'に', 'も', 'が', 'より']\n",
    "\n",
    "['関西テレビ', '岡山放送', 'テレビ新広島', 'テレビ愛媛', 'BSフジ', 'スポンサードネット', 'テレビ西日本', 'FNS', 'フジテレビ', '東海テレビ']"
   ]
  },
  {
   "cell_type": "code",
   "execution_count": null,
   "metadata": {},
   "outputs": [],
   "source": [
    "for words in cluster_to_words.values():\n",
    "    print(words[:20])"
   ]
  },
  {
   "cell_type": "markdown",
   "metadata": {},
   "source": [
    "['こと', 'だけ', 'か', 'ので', 'はず', 'まま', 'ほど', '状態', 'かも', 'ところ', '事', 'のに', '限り', 'くらい', '程', 'つもり', '代物', 'かぎり', '行き場', '筈']\n",
    "\n",
    "['事実上', '名実', '実質的', '短期間', '形式上', '一応', '単独', '一時', '実質', '引き続き', '体制']\n",
    "\n",
    "['JR西日本', '東海旅客鉄道', 'JR東海', '和歌山電鐵', '貴志川線', '国鉄', '軽便鉄道', '近鉄', '京阪宇治交通', '京阪宇治バス', '水浜', '日本道路公団', '東日本旅客鉄道', 'JR東日本', '日本貨物鉄道', 'JR貨物', '新京成電鉄', '東武鉄道', '鉄道事業法', '常磐新線']\n",
    "\n",
    "['営業', '小売業者', '販売', 'メーカー', '商品', '各社', '仕入れ', '卸売', '小売', '広告', '業者', '従業員', 'ディーラー', '代理店', '取り扱い', '大手', '販売店', '中古車', '自前', '日本国内']\n",
    "\n",
    "['圏内', '周回', '走り', '地点', '目標', '軌道', '走破', '時速', 'h', '距離', '高速', '一周', '極点', '短距離', '長距離', '最短', '中距離', '進路', '最速', '追い風']\n",
    "\n",
    "['ロケ地', '跡地', '都内', 'マンション', '火葬場', '敷地内', 'アパート', '民宿', '空き家', 'ホテル', '事務所', 'ロケーション撮影', 'ロケハン', 'レストハウス', '原宿', 'スタジオ', 'ビル', '屋上', '千里丘', '倉庫']\n",
    "\n",
    "['範囲', '概ね', '下位', '単位', '未満', 'ないし', 'ばらつき', 'おおむね', 'だいたい', '大体', 'おおよそ']\n",
    "\n",
    "['北', '南', '北部', '沿い', '境', '南端', '境界', '南部', '西', '東', '南西', '北側', '対岸', '中心部', '境界線', '北西', '中部', '南北', '北東', '南側']\n",
    "\n",
    "['北海道', '沖縄', '関東地方', '東海地方', '関東', '東海', '日本全国', '全国', '関西', '京阪神', '中京圏', '九州', '広域圏', '東北', '西日本', '近畿', '近畿地方', '管内', '両県', '甲信越地方']\n",
    "\n",
    "['1回目', '2回', '8回', '1回', '12回', '7回', '3週', '4週', '6週', '11回', '5回', '10回', '9回', '4回', '6回', '1週目', '3回', '1週', '一報', 'NHK紅白歌合戦']"
   ]
  },
  {
   "cell_type": "code",
   "execution_count": 19,
   "metadata": {},
   "outputs": [],
   "source": [
    "a=model.wv['関西']"
   ]
  },
  {
   "cell_type": "code",
   "execution_count": 24,
   "metadata": {},
   "outputs": [],
   "source": [
    "b=model.wv['京阪神']"
   ]
  },
  {
   "cell_type": "code",
   "execution_count": 23,
   "metadata": {},
   "outputs": [],
   "source": [
    "c=model.wv['書き換え']"
   ]
  },
  {
   "cell_type": "code",
   "execution_count": 22,
   "metadata": {},
   "outputs": [
    {
     "data": {
      "text/plain": [
       "array([ 0.06097883,  0.0548775 ,  0.04423802, -0.01335528,  0.2540089 ,\n",
       "        0.04726651, -0.2625341 , -0.04817509,  0.06873596,  0.2538341 ,\n",
       "        0.25970745, -0.06023698, -0.11471419,  0.20452783, -0.17527722,\n",
       "       -0.05473799, -0.12370639, -0.11321306,  0.03210169, -0.08080786,\n",
       "       -0.02490497, -0.11166706,  0.10667294,  0.03653087, -0.14704296,\n",
       "       -0.03920539,  0.019731  ,  0.06971741,  0.05628693,  0.22078079,\n",
       "       -0.18291001,  0.06192484,  0.10575615,  0.05539227, -0.03277026,\n",
       "       -0.03865077,  0.06283504, -0.22125009,  0.11877664, -0.17072822,\n",
       "       -0.21894012,  0.01533967, -0.0571952 , -0.17841175, -0.34246624,\n",
       "        0.22239536,  0.01235264,  0.18045105,  0.01914061, -0.22141388],\n",
       "      dtype=float32)"
      ]
     },
     "execution_count": 22,
     "metadata": {},
     "output_type": "execute_result"
    }
   ],
   "source": [
    "a"
   ]
  },
  {
   "cell_type": "code",
   "execution_count": null,
   "metadata": {},
   "outputs": [],
   "source": []
  },
  {
   "cell_type": "markdown",
   "metadata": {},
   "source": [
    "#### If a is movie id , b is user id, then dot product is the score of similarity. (user like or not this movie.)\n",
    "\n",
    "this is high dimention calculation.\n",
    "\n",
    "high dimention like neural signo. and calculat it for the results.\n",
    "\n"
   ]
  },
  {
   "cell_type": "code",
   "execution_count": 25,
   "metadata": {},
   "outputs": [
    {
     "data": {
      "text/plain": [
       "0.64192325"
      ]
     },
     "execution_count": 25,
     "metadata": {},
     "output_type": "execute_result"
    }
   ],
   "source": [
    "np.dot(a,b)"
   ]
  },
  {
   "cell_type": "code",
   "execution_count": 27,
   "metadata": {},
   "outputs": [
    {
     "data": {
      "text/plain": [
       "1.0"
      ]
     },
     "execution_count": 27,
     "metadata": {},
     "output_type": "execute_result"
    }
   ],
   "source": [
    "np.dot(a,a)"
   ]
  },
  {
   "cell_type": "code",
   "execution_count": 28,
   "metadata": {},
   "outputs": [
    {
     "data": {
      "text/plain": [
       "0.6419232925927187"
      ]
     },
     "execution_count": 28,
     "metadata": {},
     "output_type": "execute_result"
    }
   ],
   "source": [
    "model.wv.similarity('関西','京阪神')"
   ]
  },
  {
   "cell_type": "code",
   "execution_count": 29,
   "metadata": {},
   "outputs": [
    {
     "data": {
      "text/plain": [
       "-0.04456206076653568"
      ]
     },
     "execution_count": 29,
     "metadata": {},
     "output_type": "execute_result"
    }
   ],
   "source": [
    "model.wv.similarity('エンジニア','上')"
   ]
  },
  {
   "cell_type": "code",
   "execution_count": 30,
   "metadata": {},
   "outputs": [
    {
     "data": {
      "text/plain": [
       "0.5566014899029449"
      ]
     },
     "execution_count": 30,
     "metadata": {},
     "output_type": "execute_result"
    }
   ],
   "source": [
    "model.wv.similarity('上','下')"
   ]
  },
  {
   "cell_type": "code",
   "execution_count": 31,
   "metadata": {},
   "outputs": [
    {
     "data": {
      "text/plain": [
       "0.8029499599661047"
      ]
     },
     "execution_count": 31,
     "metadata": {},
     "output_type": "execute_result"
    }
   ],
   "source": [
    "model.wv.similarity('に対して','に対する')"
   ]
  },
  {
   "cell_type": "code",
   "execution_count": 32,
   "metadata": {},
   "outputs": [
    {
     "data": {
      "text/plain": [
       "[('関東', 0.7904562950134277),\n",
       " ('東海', 0.7850244045257568),\n",
       " ('名古屋', 0.7849997282028198),\n",
       " ('関西地方', 0.7842962741851807),\n",
       " ('福岡', 0.7842126488685608),\n",
       " ('西日本', 0.777925968170166),\n",
       " ('九州', 0.7719117403030396),\n",
       " ('札幌', 0.769116997718811),\n",
       " ('東日本', 0.7553790807723999),\n",
       " ('関西圏', 0.7469385862350464)]"
      ]
     },
     "execution_count": 32,
     "metadata": {},
     "output_type": "execute_result"
    }
   ],
   "source": [
    "model.wv.similar_by_word('関西')"
   ]
  },
  {
   "cell_type": "code",
   "execution_count": 33,
   "metadata": {},
   "outputs": [
    {
     "data": {
      "text/plain": [
       "array([ 1.9019004e-03,  7.6924093e-02,  4.5656921e-05,  3.8070325e-02,\n",
       "        2.3742664e-01,  4.5793399e-02, -2.4152388e-01, -6.5767974e-02,\n",
       "        3.3734277e-01,  2.1425964e-01,  1.5608071e-01,  8.8700235e-02,\n",
       "       -2.0588864e-02,  1.2649038e-01, -8.8807475e-03, -6.3999161e-02,\n",
       "       -1.7451532e-01, -7.8131676e-02,  4.3507103e-02,  2.3658967e-02,\n",
       "        2.7790360e-02, -2.0005094e-01, -1.7779160e-02, -2.4918655e-02,\n",
       "        5.7872001e-02,  9.6592885e-03, -1.2809505e-02,  2.6932463e-02,\n",
       "       -9.6038930e-02,  5.6382347e-02, -5.3153928e-02,  1.0701250e-01,\n",
       "        1.0073025e-01,  2.7167630e-01, -1.2989057e-02,  1.8048836e-02,\n",
       "        1.7873101e-02, -2.0694500e-01, -8.1164293e-02, -2.0905440e-01,\n",
       "       -3.1024978e-01, -1.3187174e-01, -2.1217562e-01, -2.1197464e-01,\n",
       "       -2.9577792e-01,  1.8283753e-01, -1.0651054e-02,  5.8291797e-02,\n",
       "        3.6730979e-02, -1.9988927e-01], dtype=float32)"
      ]
     },
     "execution_count": 33,
     "metadata": {},
     "output_type": "execute_result"
    }
   ],
   "source": [
    "model.wv['東日本']"
   ]
  },
  {
   "cell_type": "markdown",
   "metadata": {},
   "source": [
    "# How much is the cosin distance. \n",
    "Equation : cos(A) = < b,c > / (|b| * |c|)\n",
    "\n",
    "cos(A) =  product / norm * norm\n",
    "\n",
    "norm 2. \n",
    "norm 1 norm(x,ord=1)"
   ]
  },
  {
   "cell_type": "code",
   "execution_count": 34,
   "metadata": {},
   "outputs": [],
   "source": [
    "dist = np.linalg.norm(a-b)"
   ]
  },
  {
   "cell_type": "code",
   "execution_count": 35,
   "metadata": {},
   "outputs": [
    {
     "data": {
      "text/plain": [
       "0.84625846"
      ]
     },
     "execution_count": 35,
     "metadata": {},
     "output_type": "execute_result"
    }
   ],
   "source": [
    "dist"
   ]
  },
  {
   "cell_type": "code",
   "execution_count": 36,
   "metadata": {},
   "outputs": [
    {
     "data": {
      "text/plain": [
       "0.99999994"
      ]
     },
     "execution_count": 36,
     "metadata": {},
     "output_type": "execute_result"
    }
   ],
   "source": [
    "np.linalg.norm(model.wv['京阪神'])"
   ]
  },
  {
   "cell_type": "code",
   "execution_count": 37,
   "metadata": {},
   "outputs": [
    {
     "data": {
      "text/plain": [
       "0.99999994"
      ]
     },
     "execution_count": 37,
     "metadata": {},
     "output_type": "execute_result"
    }
   ],
   "source": [
    "np.linalg.norm(model.wv['東日本'])"
   ]
  },
  {
   "cell_type": "code",
   "execution_count": 38,
   "metadata": {},
   "outputs": [],
   "source": [
    "from numpy import linalg as LA"
   ]
  },
  {
   "cell_type": "code",
   "execution_count": 39,
   "metadata": {},
   "outputs": [
    {
     "data": {
      "text/plain": [
       "1.4142135623730951"
      ]
     },
     "execution_count": 39,
     "metadata": {},
     "output_type": "execute_result"
    }
   ],
   "source": [
    "e=[1,1]\n",
    "LA.norm(e)"
   ]
  },
  {
   "cell_type": "markdown",
   "metadata": {},
   "source": [
    "# How much is the cosin distance. \n",
    "Equation : cos(A) = < b,c > / (|b| * |c|)\n",
    "\n",
    "cos(A) =  product / norm * norm\n",
    "\n",
    "norm 2. \n",
    "norm 1 norm(x,ord=1)"
   ]
  },
  {
   "cell_type": "code",
   "execution_count": 47,
   "metadata": {},
   "outputs": [
    {
     "data": {
      "text/plain": [
       "(2.0, 1.4142135623730951, 1.0006933874625807, 1.0)"
      ]
     },
     "execution_count": 47,
     "metadata": {},
     "output_type": "execute_result"
    }
   ],
   "source": [
    "LA.norm(e,ord=1),LA.norm(e,ord=2),LA.norm(e,ord=1000),LA.norm(e,np.inf)"
   ]
  },
  {
   "cell_type": "code",
   "execution_count": 45,
   "metadata": {},
   "outputs": [
    {
     "data": {
      "text/plain": [
       "1.0000693171203765"
      ]
     },
     "execution_count": 45,
     "metadata": {},
     "output_type": "execute_result"
    }
   ],
   "source": [
    "LA.norm(e,ord=10000)"
   ]
  },
  {
   "cell_type": "code",
   "execution_count": 46,
   "metadata": {},
   "outputs": [
    {
     "data": {
      "text/plain": [
       "1.0"
      ]
     },
     "execution_count": 46,
     "metadata": {},
     "output_type": "execute_result"
    }
   ],
   "source": [
    "LA.norm(e,np.inf)"
   ]
  },
  {
   "cell_type": "code",
   "execution_count": 48,
   "metadata": {},
   "outputs": [
    {
     "data": {
      "text/plain": [
       "2.0"
      ]
     },
     "execution_count": 48,
     "metadata": {},
     "output_type": "execute_result"
    }
   ],
   "source": [
    "LA.norm(e,ord=1)"
   ]
  },
  {
   "cell_type": "code",
   "execution_count": 49,
   "metadata": {},
   "outputs": [
    {
     "data": {
      "text/plain": [
       "0.99999994"
      ]
     },
     "execution_count": 49,
     "metadata": {},
     "output_type": "execute_result"
    }
   ],
   "source": [
    "LA.norm(b)"
   ]
  },
  {
   "cell_type": "code",
   "execution_count": null,
   "metadata": {},
   "outputs": [],
   "source": []
  },
  {
   "cell_type": "code",
   "execution_count": 50,
   "metadata": {},
   "outputs": [
    {
     "name": "stdout",
     "output_type": "stream",
     "text": [
      "今日\tキョウ\t今日\t名詞-副詞可能\t\t\n",
      "も\tモ\tも\t助詞-係助詞\t\t\n",
      "し\tシ\tする\t動詞-自立\tサ変・スル\t未然形\n",
      "ない\tナイ\tない\t助動詞\t特殊・ナイ\t基本形\n",
      "と\tト\tと\t助詞-接続助詞\t\t\n",
      "ね\tネ\tね\t助詞-終助詞\t\t\n",
      "EOS\n",
      "\n"
     ]
    }
   ],
   "source": [
    "print(m.parse (\"今日もしないとね\"))"
   ]
  },
  {
   "cell_type": "code",
   "execution_count": 51,
   "metadata": {},
   "outputs": [
    {
     "data": {
      "text/plain": [
       "array([ 0.0080338 ,  0.1830312 ,  0.13818194, -0.03569911,  0.09460398,\n",
       "       -0.0277751 , -0.0573119 , -0.04554379, -0.19222827, -0.01455549,\n",
       "       -0.03190554, -0.05722512, -0.06728426,  0.03304253,  0.13753785,\n",
       "       -0.1500637 , -0.14291327,  0.04301652, -0.11611629,  0.06157324,\n",
       "       -0.07234827,  0.14717148,  0.2545214 ,  0.0585395 ,  0.03058151,\n",
       "       -0.21067876,  0.08601779,  0.31477028, -0.2819541 , -0.126506  ,\n",
       "       -0.08648231,  0.0501729 , -0.13921839,  0.2780563 , -0.15873636,\n",
       "        0.09821067,  0.08581246,  0.15982471, -0.11639095, -0.01038365,\n",
       "       -0.03607295, -0.00758556,  0.20937528,  0.1522774 ,  0.04540678,\n",
       "        0.16202143,  0.300245  ,  0.24711101,  0.13813621,  0.07371245],\n",
       "      dtype=float32)"
      ]
     },
     "execution_count": 51,
     "metadata": {},
     "output_type": "execute_result"
    }
   ],
   "source": [
    "model.wv['も']"
   ]
  },
  {
   "cell_type": "code",
   "execution_count": 52,
   "metadata": {},
   "outputs": [
    {
     "data": {
      "text/plain": [
       "array([ 1.83836356e-01, -5.03518768e-02,  3.48990828e-01, -7.04023913e-02,\n",
       "        6.20005012e-05,  2.78066337e-01, -2.19644621e-01, -2.90431473e-02,\n",
       "       -1.03101477e-01,  7.16391802e-02,  2.07951948e-01, -1.19780496e-01,\n",
       "       -1.87755406e-01, -1.33815438e-01,  2.23041937e-01,  9.83613357e-02,\n",
       "       -6.83583394e-02, -9.06314403e-02, -4.32243682e-02,  2.59494990e-01,\n",
       "        3.08152521e-03,  1.66904569e-01,  1.00808412e-01, -8.07310715e-02,\n",
       "        2.00783670e-01, -1.66324794e-01,  5.73687814e-02, -2.40009636e-01,\n",
       "        1.61649473e-02, -4.73212861e-02,  2.14040086e-01, -3.93376723e-02,\n",
       "        5.61293960e-02,  1.82965249e-01, -2.89997105e-02, -1.69671718e-02,\n",
       "        5.86439110e-02,  2.23324731e-01,  2.42065027e-01, -3.18750460e-03,\n",
       "       -1.37717634e-01,  3.76607589e-02, -6.61148131e-03, -6.74153119e-02,\n",
       "        1.18622243e-01, -1.15296952e-01,  1.17420308e-01,  3.61279733e-02,\n",
       "        2.50389054e-02,  3.83239388e-02], dtype=float32)"
      ]
     },
     "execution_count": 52,
     "metadata": {},
     "output_type": "execute_result"
    }
   ],
   "source": [
    "model.wv['しない']"
   ]
  },
  {
   "cell_type": "code",
   "execution_count": 53,
   "metadata": {},
   "outputs": [
    {
     "data": {
      "text/plain": [
       "array([ 0.24805464,  0.0942286 , -0.20791826, -0.00756954,  0.06851177,\n",
       "       -0.31301022,  0.04826369, -0.16889285, -0.21213712, -0.07802629,\n",
       "        0.08609236,  0.107904  , -0.07175639,  0.01399859, -0.09023309,\n",
       "        0.0320005 ,  0.10394653,  0.09994207,  0.01535257, -0.06654159,\n",
       "       -0.02427759,  0.0688901 , -0.13873203, -0.05250924, -0.07093938,\n",
       "       -0.29809234,  0.05224411,  0.12307699, -0.08560754, -0.11757777,\n",
       "       -0.1254678 , -0.01158067,  0.31013525, -0.13512704, -0.1734812 ,\n",
       "        0.13401446,  0.11359649,  0.15362926, -0.17381811,  0.12603985,\n",
       "       -0.01989314, -0.01380667,  0.13246632, -0.18157282,  0.15528533,\n",
       "       -0.10789854, -0.23871091,  0.27634004, -0.01682221, -0.0306127 ],\n",
       "      dtype=float32)"
      ]
     },
     "execution_count": 53,
     "metadata": {},
     "output_type": "execute_result"
    }
   ],
   "source": [
    "model.wv['と']"
   ]
  },
  {
   "cell_type": "code",
   "execution_count": 54,
   "metadata": {},
   "outputs": [
    {
     "data": {
      "text/plain": [
       "array([ 0.1104566 , -0.33514565, -0.01023961,  0.04472661, -0.1253212 ,\n",
       "        0.21698283, -0.0644436 , -0.15218998, -0.00115856, -0.16217883,\n",
       "       -0.12278508,  0.02112044,  0.11264547, -0.2150383 ,  0.231267  ,\n",
       "        0.03306101, -0.01468965,  0.01849632,  0.07986051,  0.01675842,\n",
       "        0.17569771,  0.04994076,  0.08301574,  0.20287828, -0.16053656,\n",
       "       -0.0222069 ,  0.2389448 ,  0.24399199,  0.2683765 ,  0.06304192,\n",
       "        0.272477  ,  0.09917954,  0.07573809,  0.10092346, -0.13820833,\n",
       "        0.0945723 , -0.1197267 ,  0.0769465 ,  0.0616007 , -0.26752144,\n",
       "        0.08279745,  0.0505061 ,  0.05766397, -0.1271001 , -0.00712314,\n",
       "        0.11122245,  0.00847838,  0.12569211,  0.04569462, -0.19360265],\n",
       "      dtype=float32)"
      ]
     },
     "execution_count": 54,
     "metadata": {},
     "output_type": "execute_result"
    }
   ],
   "source": [
    "model.wv['ね']"
   ]
  },
  {
   "cell_type": "code",
   "execution_count": null,
   "metadata": {},
   "outputs": [],
   "source": []
  },
  {
   "cell_type": "code",
   "execution_count": 55,
   "metadata": {},
   "outputs": [],
   "source": [
    "import numpy as np"
   ]
  },
  {
   "cell_type": "code",
   "execution_count": 56,
   "metadata": {},
   "outputs": [],
   "source": [
    "c=[0,1]"
   ]
  },
  {
   "cell_type": "code",
   "execution_count": 57,
   "metadata": {},
   "outputs": [],
   "source": [
    "d=[1,8]"
   ]
  },
  {
   "cell_type": "code",
   "execution_count": 58,
   "metadata": {},
   "outputs": [
    {
     "data": {
      "text/plain": [
       "8"
      ]
     },
     "execution_count": 58,
     "metadata": {},
     "output_type": "execute_result"
    }
   ],
   "source": [
    "np.dot(c,d)"
   ]
  },
  {
   "cell_type": "code",
   "execution_count": null,
   "metadata": {},
   "outputs": [],
   "source": []
  },
  {
   "cell_type": "code",
   "execution_count": null,
   "metadata": {},
   "outputs": [],
   "source": []
  },
  {
   "cell_type": "markdown",
   "metadata": {},
   "source": [
    "from gensim.models import Word2Vec\n",
    "bulid english model. and transfer the japanese word to english . \n",
    "\n",
    "find the similarity from the english word vector.\n"
   ]
  },
  {
   "cell_type": "code",
   "execution_count": 59,
   "metadata": {},
   "outputs": [],
   "source": [
    "model_path = 'data/word2vec/jv.bin'\n",
    "model = Word2Vec.load(model_path)"
   ]
  },
  {
   "cell_type": "code",
   "execution_count": 60,
   "metadata": {},
   "outputs": [
    {
     "name": "stdout",
     "output_type": "stream",
     "text": [
      "Word2Vec(vocab=10019, size=100, alpha=0.025)\n"
     ]
    }
   ],
   "source": [
    "print(model)"
   ]
  },
  {
   "cell_type": "code",
   "execution_count": 61,
   "metadata": {},
   "outputs": [],
   "source": [
    "model_path = 'data/word2vec/ja.bin'\n",
    "model = Word2Vec.load(model_path)"
   ]
  },
  {
   "cell_type": "code",
   "execution_count": 62,
   "metadata": {},
   "outputs": [
    {
     "name": "stdout",
     "output_type": "stream",
     "text": [
      "Word2Vec(vocab=50108, size=300, alpha=0.025)\n"
     ]
    }
   ],
   "source": [
    "print(model)"
   ]
  },
  {
   "cell_type": "code",
   "execution_count": 63,
   "metadata": {},
   "outputs": [
    {
     "data": {
      "text/plain": [
       "array([ 1.32877374e+00,  3.02616692e+00, -5.73622994e-02,  3.53791773e-01,\n",
       "        2.34457183e+00, -1.13951421e+00,  1.19330153e-01, -1.64491248e+00,\n",
       "        1.11891747e+00,  4.73539203e-01, -4.85597342e-01,  2.84659982e+00,\n",
       "        2.60731649e+00, -9.85718012e-01, -2.22600317e+00,  1.49573177e-01,\n",
       "       -8.29707921e-01,  2.27776263e-02,  2.08539963e+00,  1.91438782e+00,\n",
       "       -2.99255461e-01,  8.80297601e-01, -9.25932467e-01,  1.25160086e+00,\n",
       "        2.49913740e+00,  5.23523152e-01, -1.09095001e+00, -9.14230421e-02,\n",
       "       -2.81909561e+00,  1.64603508e+00, -8.06828499e-01,  2.21067953e+00,\n",
       "       -9.80944574e-01,  1.35029483e+00,  5.84483445e-01,  1.43120849e+00,\n",
       "        4.97377247e-01, -2.86928773e-01,  2.24539614e+00, -4.69064444e-01,\n",
       "        6.50603652e-01, -2.59231359e-01,  9.59429324e-01, -1.17807031e+00,\n",
       "        3.41699839e-01, -6.55052960e-01, -1.74239707e+00,  2.02651724e-01,\n",
       "       -1.15365052e+00, -1.16642010e+00,  7.58471787e-01, -5.31132460e-01,\n",
       "        5.02245247e-01,  9.12267148e-01, -4.89606231e-01,  2.09482804e-01,\n",
       "       -1.76858321e-01,  2.08520040e-01,  1.90532875e+00, -7.71955431e-01,\n",
       "       -7.75891185e-01,  1.50652498e-01, -1.51632524e+00, -1.81081867e+00,\n",
       "       -6.27526224e-01,  9.81161654e-01,  2.89165759e+00, -8.67173195e-01,\n",
       "        5.22851527e-01,  2.28460407e+00, -2.49737048e+00, -6.97635412e-01,\n",
       "       -4.32807595e-01,  4.65886623e-01, -1.05083334e+00, -7.85858095e-01,\n",
       "        3.68301421e-01, -1.20016801e+00, -9.38911498e-01, -9.37203050e-01,\n",
       "        2.34454632e+00,  1.43016315e+00, -2.07100463e+00,  5.76625645e-01,\n",
       "       -3.01654458e+00,  1.90267587e+00, -1.53056514e+00,  4.01656330e-03,\n",
       "        5.42631817e+00, -9.26932395e-01,  4.46893245e-01,  6.29346371e-02,\n",
       "       -1.73207954e-01,  1.70230305e+00,  5.25890827e-01,  2.05709553e+00,\n",
       "        3.34983170e-01,  7.19310820e-01,  1.97920132e+00,  3.80592561e+00,\n",
       "       -2.63925838e+00,  4.85333413e-01,  8.03559244e-01,  9.55359101e-01,\n",
       "        5.61852217e-01,  1.21598089e+00, -1.53673816e+00, -1.02940512e+00,\n",
       "       -1.98724449e+00, -2.24322510e+00,  1.35820723e+00,  1.16255546e+00,\n",
       "        2.28273559e+00,  1.29882967e+00,  1.63258660e+00, -1.12114847e+00,\n",
       "        1.07345927e+00,  1.19907320e+00, -1.92441607e+00,  1.35538197e+00,\n",
       "        2.45041275e+00, -2.87936974e+00,  3.33264971e+00,  1.22025616e-01,\n",
       "        1.65928745e+00,  2.42230463e+00, -7.04122663e-01, -3.15368176e+00,\n",
       "       -1.12557185e+00, -2.63742161e+00,  1.51144707e+00,  1.66265345e+00,\n",
       "        1.68698478e+00,  2.27500272e+00, -3.00646687e+00,  7.48774529e-01,\n",
       "       -7.07991302e-01,  1.01919580e+00, -1.96661282e+00, -1.39581025e+00,\n",
       "       -8.12373087e-02, -9.08263251e-02,  5.10560125e-02,  8.89303759e-02,\n",
       "        2.80346298e+00, -2.51267886e+00,  1.31552005e+00, -1.62085187e+00,\n",
       "        5.96731663e-01, -1.29032701e-01, -4.16510940e-01,  3.48723149e+00,\n",
       "        6.68651879e-01,  4.75530289e-02, -6.96628094e-02,  3.49006963e+00,\n",
       "        1.33485150e+00, -6.63952291e-01, -1.43724215e+00,  3.50642419e+00,\n",
       "       -1.43401945e+00, -9.88768756e-01, -2.74353695e+00, -3.46856058e-01,\n",
       "        9.74199891e-01,  2.67906046e+00, -3.05626583e+00, -2.88638353e+00,\n",
       "        1.53223073e+00,  2.92575300e-01, -9.37439084e-01, -1.65891981e+00,\n",
       "       -6.09179497e-01,  3.46279716e+00,  1.04580522e+00, -8.28547359e-01,\n",
       "        3.75166821e+00,  2.76095223e+00, -6.31083310e-01, -1.01414502e+00,\n",
       "       -5.29714346e-01,  1.40571392e+00,  1.07969031e-01,  3.96617830e-01,\n",
       "       -2.80626696e-02,  1.04820716e+00,  2.68566608e-01, -2.84242487e+00,\n",
       "       -2.05218315e+00,  2.38335538e+00, -1.04026973e+00,  1.47447854e-01,\n",
       "       -1.49721992e+00, -1.31076813e+00,  1.13183129e+00, -1.13366954e-01,\n",
       "       -1.28889906e+00, -1.96592820e+00,  1.90313673e+00, -2.07690310e+00,\n",
       "        4.67367262e-01,  2.85604286e+00,  1.07957065e+00,  1.99422991e+00,\n",
       "       -7.63200700e-01, -7.79570401e-01, -1.58742118e+00, -1.58046037e-01,\n",
       "        1.39267707e+00, -8.19313377e-02, -1.37805295e+00, -1.59504592e+00,\n",
       "        1.20592535e+00, -1.65528107e+00,  2.85458517e+00,  7.62527525e-01,\n",
       "       -2.65057087e+00, -2.43987823e+00,  2.26935387e+00, -9.84880686e-01,\n",
       "       -1.64173079e+00, -1.00901210e+00, -7.07796574e-01,  5.87868452e-01,\n",
       "        4.42770422e-01,  5.23021162e-01, -2.52657413e+00,  1.74916700e-01,\n",
       "       -5.56389630e-01,  5.30301213e-01,  2.39211345e+00,  8.18908751e-01,\n",
       "       -2.26119995e+00,  8.50793660e-01,  1.02462757e+00,  1.73487711e+00,\n",
       "       -4.79963732e+00,  3.27108399e-04, -2.65893435e+00, -6.77523851e-01,\n",
       "       -1.20478356e+00,  2.90815413e-01,  1.07300341e+00, -2.59401172e-01,\n",
       "       -5.84121764e-01,  8.39042604e-01, -2.35578036e+00, -1.28878564e-01,\n",
       "       -1.12545896e+00,  1.21778548e+00,  5.08990407e-01, -4.92028631e-02,\n",
       "       -1.52552462e+00,  5.57870448e-01, -4.87823784e-01,  6.61818743e-01,\n",
       "       -1.49365652e+00,  1.51854455e-02,  3.31147909e+00,  2.61778235e+00,\n",
       "        4.24185812e-01,  1.01527345e+00, -6.70561016e-01,  3.01504350e+00,\n",
       "       -8.80906045e-01, -2.75881648e-01,  2.56417990e+00,  5.40303290e-01,\n",
       "        1.57913160e+00, -1.81789494e+00, -5.16670525e-01,  1.78455651e+00,\n",
       "        9.44759548e-01, -1.99920750e+00,  9.52338815e-01, -1.79882419e+00,\n",
       "        3.27746201e+00, -1.17953941e-01,  9.20654655e-01, -8.69104564e-01,\n",
       "        4.19153988e-01, -1.73086667e+00,  1.82159436e+00,  1.73876345e+00,\n",
       "       -1.80132222e+00, -1.95754063e+00,  1.73267400e+00, -2.15234947e+00,\n",
       "       -1.50710678e+00,  5.81847548e-01,  1.44450390e+00, -6.16026878e-01,\n",
       "       -4.17549074e-01, -1.02178752e+00, -1.57243264e+00, -9.17259991e-01,\n",
       "        1.39374220e+00, -3.40539026e+00,  3.10906863e+00, -1.37000406e+00],\n",
       "      dtype=float32)"
      ]
     },
     "execution_count": 63,
     "metadata": {},
     "output_type": "execute_result"
    }
   ],
   "source": [
    "model.wv['ね']"
   ]
  },
  {
   "cell_type": "code",
   "execution_count": null,
   "metadata": {},
   "outputs": [],
   "source": []
  },
  {
   "cell_type": "code",
   "execution_count": 64,
   "metadata": {},
   "outputs": [],
   "source": [
    "from gensim.models import FastText"
   ]
  },
  {
   "cell_type": "code",
   "execution_count": 65,
   "metadata": {
    "collapsed": true
   },
   "outputs": [
    {
     "ename": "FileNotFoundError",
     "evalue": "[Errno 2] No such file or directory: 'data/fasttext/jv.bin'",
     "output_type": "error",
     "traceback": [
      "\u001b[0;31m---------------------------------------------------------------------------\u001b[0m",
      "\u001b[0;31mFileNotFoundError\u001b[0m                         Traceback (most recent call last)",
      "\u001b[0;32m<ipython-input-65-8df1cf748998>\u001b[0m in \u001b[0;36m<module>\u001b[0;34m()\u001b[0m\n\u001b[1;32m      1\u001b[0m \u001b[0;32mfrom\u001b[0m \u001b[0mgensim\u001b[0m\u001b[0;34m.\u001b[0m\u001b[0mmodels\u001b[0m\u001b[0;34m.\u001b[0m\u001b[0mwrappers\u001b[0m\u001b[0;34m.\u001b[0m\u001b[0mfasttext\u001b[0m \u001b[0;32mimport\u001b[0m \u001b[0mFastText\u001b[0m\u001b[0;34m\u001b[0m\u001b[0m\n\u001b[0;32m----> 2\u001b[0;31m \u001b[0mmodel\u001b[0m \u001b[0;34m=\u001b[0m \u001b[0mFastText\u001b[0m\u001b[0;34m.\u001b[0m\u001b[0mload_fasttext_format\u001b[0m\u001b[0;34m(\u001b[0m\u001b[0;34m'data/fasttext/jv.bin'\u001b[0m\u001b[0;34m)\u001b[0m\u001b[0;34m\u001b[0m\u001b[0m\n\u001b[0m",
      "\u001b[0;32m~/anaconda3/lib/python3.6/site-packages/gensim/models/deprecated/fasttext_wrapper.py\u001b[0m in \u001b[0;36mload_fasttext_format\u001b[0;34m(cls, model_file, encoding)\u001b[0m\n\u001b[1;32m    269\u001b[0m             \u001b[0mmodel_file\u001b[0m \u001b[0;34m+=\u001b[0m \u001b[0;34m'.bin'\u001b[0m\u001b[0;34m\u001b[0m\u001b[0m\n\u001b[1;32m    270\u001b[0m         \u001b[0mmodel\u001b[0m\u001b[0;34m.\u001b[0m\u001b[0mfile_name\u001b[0m \u001b[0;34m=\u001b[0m \u001b[0mmodel_file\u001b[0m\u001b[0;34m\u001b[0m\u001b[0m\n\u001b[0;32m--> 271\u001b[0;31m         \u001b[0mmodel\u001b[0m\u001b[0;34m.\u001b[0m\u001b[0mload_binary_data\u001b[0m\u001b[0;34m(\u001b[0m\u001b[0mencoding\u001b[0m\u001b[0;34m=\u001b[0m\u001b[0mencoding\u001b[0m\u001b[0;34m)\u001b[0m\u001b[0;34m\u001b[0m\u001b[0m\n\u001b[0m\u001b[1;32m    272\u001b[0m         \u001b[0;32mreturn\u001b[0m \u001b[0mmodel\u001b[0m\u001b[0;34m\u001b[0m\u001b[0m\n\u001b[1;32m    273\u001b[0m \u001b[0;34m\u001b[0m\u001b[0m\n",
      "\u001b[0;32m~/anaconda3/lib/python3.6/site-packages/gensim/models/deprecated/fasttext_wrapper.py\u001b[0m in \u001b[0;36mload_binary_data\u001b[0;34m(self, encoding)\u001b[0m\n\u001b[1;32m    292\u001b[0m     \u001b[0;32mdef\u001b[0m \u001b[0mload_binary_data\u001b[0m\u001b[0;34m(\u001b[0m\u001b[0mself\u001b[0m\u001b[0;34m,\u001b[0m \u001b[0mencoding\u001b[0m\u001b[0;34m=\u001b[0m\u001b[0;34m'utf8'\u001b[0m\u001b[0;34m)\u001b[0m\u001b[0;34m:\u001b[0m\u001b[0;34m\u001b[0m\u001b[0m\n\u001b[1;32m    293\u001b[0m         \u001b[0;34m\"\"\"Loads data from the output binary file created by FastText training\"\"\"\u001b[0m\u001b[0;34m\u001b[0m\u001b[0m\n\u001b[0;32m--> 294\u001b[0;31m         \u001b[0;32mwith\u001b[0m \u001b[0mutils\u001b[0m\u001b[0;34m.\u001b[0m\u001b[0msmart_open\u001b[0m\u001b[0;34m(\u001b[0m\u001b[0mself\u001b[0m\u001b[0;34m.\u001b[0m\u001b[0mfile_name\u001b[0m\u001b[0;34m,\u001b[0m \u001b[0;34m'rb'\u001b[0m\u001b[0;34m)\u001b[0m \u001b[0;32mas\u001b[0m \u001b[0mf\u001b[0m\u001b[0;34m:\u001b[0m\u001b[0;34m\u001b[0m\u001b[0m\n\u001b[0m\u001b[1;32m    295\u001b[0m             \u001b[0mself\u001b[0m\u001b[0;34m.\u001b[0m\u001b[0mload_model_params\u001b[0m\u001b[0;34m(\u001b[0m\u001b[0mf\u001b[0m\u001b[0;34m)\u001b[0m\u001b[0;34m\u001b[0m\u001b[0m\n\u001b[1;32m    296\u001b[0m             \u001b[0mself\u001b[0m\u001b[0;34m.\u001b[0m\u001b[0mload_dict\u001b[0m\u001b[0;34m(\u001b[0m\u001b[0mf\u001b[0m\u001b[0;34m,\u001b[0m \u001b[0mencoding\u001b[0m\u001b[0;34m=\u001b[0m\u001b[0mencoding\u001b[0m\u001b[0;34m)\u001b[0m\u001b[0;34m\u001b[0m\u001b[0m\n",
      "\u001b[0;32m~/anaconda3/lib/python3.6/site-packages/smart_open/smart_open_lib.py\u001b[0m in \u001b[0;36msmart_open\u001b[0;34m(uri, mode, **kw)\u001b[0m\n\u001b[1;32m    174\u001b[0m             \u001b[0mencoding\u001b[0m \u001b[0;34m=\u001b[0m \u001b[0mkw\u001b[0m\u001b[0;34m.\u001b[0m\u001b[0mpop\u001b[0m\u001b[0;34m(\u001b[0m\u001b[0;34m'encoding'\u001b[0m\u001b[0;34m,\u001b[0m \u001b[0;32mNone\u001b[0m\u001b[0;34m)\u001b[0m\u001b[0;34m\u001b[0m\u001b[0m\n\u001b[1;32m    175\u001b[0m             \u001b[0merrors\u001b[0m \u001b[0;34m=\u001b[0m \u001b[0mkw\u001b[0m\u001b[0;34m.\u001b[0m\u001b[0mpop\u001b[0m\u001b[0;34m(\u001b[0m\u001b[0;34m'errors'\u001b[0m\u001b[0;34m,\u001b[0m \u001b[0mDEFAULT_ERRORS\u001b[0m\u001b[0;34m)\u001b[0m\u001b[0;34m\u001b[0m\u001b[0m\n\u001b[0;32m--> 176\u001b[0;31m             \u001b[0;32mreturn\u001b[0m \u001b[0mfile_smart_open\u001b[0m\u001b[0;34m(\u001b[0m\u001b[0mparsed_uri\u001b[0m\u001b[0;34m.\u001b[0m\u001b[0muri_path\u001b[0m\u001b[0;34m,\u001b[0m \u001b[0mmode\u001b[0m\u001b[0;34m,\u001b[0m \u001b[0mencoding\u001b[0m\u001b[0;34m=\u001b[0m\u001b[0mencoding\u001b[0m\u001b[0;34m,\u001b[0m \u001b[0merrors\u001b[0m\u001b[0;34m=\u001b[0m\u001b[0merrors\u001b[0m\u001b[0;34m)\u001b[0m\u001b[0;34m\u001b[0m\u001b[0m\n\u001b[0m\u001b[1;32m    177\u001b[0m         \u001b[0;32melif\u001b[0m \u001b[0mparsed_uri\u001b[0m\u001b[0;34m.\u001b[0m\u001b[0mscheme\u001b[0m \u001b[0;32min\u001b[0m \u001b[0;34m(\u001b[0m\u001b[0;34m\"s3\"\u001b[0m\u001b[0;34m,\u001b[0m \u001b[0;34m\"s3n\"\u001b[0m\u001b[0;34m,\u001b[0m \u001b[0;34m's3u'\u001b[0m\u001b[0;34m)\u001b[0m\u001b[0;34m:\u001b[0m\u001b[0;34m\u001b[0m\u001b[0m\n\u001b[1;32m    178\u001b[0m             \u001b[0;32mreturn\u001b[0m \u001b[0ms3_open_uri\u001b[0m\u001b[0;34m(\u001b[0m\u001b[0mparsed_uri\u001b[0m\u001b[0;34m,\u001b[0m \u001b[0mmode\u001b[0m\u001b[0;34m,\u001b[0m \u001b[0;34m**\u001b[0m\u001b[0mkw\u001b[0m\u001b[0;34m)\u001b[0m\u001b[0;34m\u001b[0m\u001b[0m\n",
      "\u001b[0;32m~/anaconda3/lib/python3.6/site-packages/smart_open/smart_open_lib.py\u001b[0m in \u001b[0;36mfile_smart_open\u001b[0;34m(fname, mode, encoding, errors)\u001b[0m\n\u001b[1;32m    669\u001b[0m     \u001b[0;32mexcept\u001b[0m \u001b[0mKeyError\u001b[0m\u001b[0;34m:\u001b[0m\u001b[0;34m\u001b[0m\u001b[0m\n\u001b[1;32m    670\u001b[0m         \u001b[0mraw_mode\u001b[0m \u001b[0;34m=\u001b[0m \u001b[0mmode\u001b[0m\u001b[0;34m\u001b[0m\u001b[0m\n\u001b[0;32m--> 671\u001b[0;31m     \u001b[0mraw_fobj\u001b[0m \u001b[0;34m=\u001b[0m \u001b[0mopen\u001b[0m\u001b[0;34m(\u001b[0m\u001b[0mfname\u001b[0m\u001b[0;34m,\u001b[0m \u001b[0mraw_mode\u001b[0m\u001b[0;34m)\u001b[0m\u001b[0;34m\u001b[0m\u001b[0m\n\u001b[0m\u001b[1;32m    672\u001b[0m     \u001b[0mdecompressed_fobj\u001b[0m \u001b[0;34m=\u001b[0m \u001b[0mcompression_wrapper\u001b[0m\u001b[0;34m(\u001b[0m\u001b[0mraw_fobj\u001b[0m\u001b[0;34m,\u001b[0m \u001b[0mfname\u001b[0m\u001b[0;34m,\u001b[0m \u001b[0mraw_mode\u001b[0m\u001b[0;34m)\u001b[0m\u001b[0;34m\u001b[0m\u001b[0m\n\u001b[1;32m    673\u001b[0m     \u001b[0mdecoded_fobj\u001b[0m \u001b[0;34m=\u001b[0m \u001b[0mencoding_wrapper\u001b[0m\u001b[0;34m(\u001b[0m\u001b[0mdecompressed_fobj\u001b[0m\u001b[0;34m,\u001b[0m \u001b[0mmode\u001b[0m\u001b[0;34m,\u001b[0m \u001b[0mencoding\u001b[0m\u001b[0;34m=\u001b[0m\u001b[0mencoding\u001b[0m\u001b[0;34m,\u001b[0m \u001b[0merrors\u001b[0m\u001b[0;34m=\u001b[0m\u001b[0merrors\u001b[0m\u001b[0;34m)\u001b[0m\u001b[0;34m\u001b[0m\u001b[0m\n",
      "\u001b[0;31mFileNotFoundError\u001b[0m: [Errno 2] No such file or directory: 'data/fasttext/jv.bin'"
     ]
    }
   ],
   "source": [
    "from gensim.models.wrappers.fasttext import FastText\n",
    "model = FastText.load_fasttext_format('data/fasttext/jv.bin')"
   ]
  },
  {
   "cell_type": "code",
   "execution_count": 66,
   "metadata": {},
   "outputs": [
    {
     "name": "stdout",
     "output_type": "stream",
     "text": [
      "Word2Vec(vocab=50108, size=300, alpha=0.025)\n"
     ]
    }
   ],
   "source": [
    "print(model)"
   ]
  },
  {
   "cell_type": "code",
   "execution_count": null,
   "metadata": {},
   "outputs": [],
   "source": []
  },
  {
   "cell_type": "code",
   "execution_count": null,
   "metadata": {},
   "outputs": [],
   "source": []
  },
  {
   "cell_type": "code",
   "execution_count": 67,
   "metadata": {},
   "outputs": [],
   "source": [
    "import os"
   ]
  },
  {
   "cell_type": "code",
   "execution_count": 68,
   "metadata": {},
   "outputs": [],
   "source": [
    "os.chdir(\"data/word2vec/\")"
   ]
  },
  {
   "cell_type": "code",
   "execution_count": 69,
   "metadata": {},
   "outputs": [
    {
     "data": {
      "text/plain": [
       "'/home/yanhua/Documents/jupyter/yan/demo/RNN/Natural_Language_Processing/data/word2vec'"
      ]
     },
     "execution_count": 69,
     "metadata": {},
     "output_type": "execute_result"
    }
   ],
   "source": [
    "pwd"
   ]
  },
  {
   "cell_type": "code",
   "execution_count": 70,
   "metadata": {
    "collapsed": true
   },
   "outputs": [
    {
     "ename": "NameError",
     "evalue": "name 'KeyedVectors' is not defined",
     "output_type": "error",
     "traceback": [
      "\u001b[0;31m---------------------------------------------------------------------------\u001b[0m",
      "\u001b[0;31mNameError\u001b[0m                                 Traceback (most recent call last)",
      "\u001b[0;32m<ipython-input-70-57de0e083cc2>\u001b[0m in \u001b[0;36m<module>\u001b[0;34m()\u001b[0m\n\u001b[0;32m----> 1\u001b[0;31m \u001b[0mmodel\u001b[0m \u001b[0;34m=\u001b[0m \u001b[0mKeyedVectors\u001b[0m\u001b[0;34m.\u001b[0m\u001b[0mload\u001b[0m\u001b[0;34m(\u001b[0m\u001b[0;34m'jv.tsv'\u001b[0m\u001b[0;34m)\u001b[0m\u001b[0;34m\u001b[0m\u001b[0m\n\u001b[0m\u001b[1;32m      2\u001b[0m \u001b[0mmax_vocab\u001b[0m \u001b[0;34m=\u001b[0m \u001b[0;36m30000\u001b[0m\u001b[0;34m\u001b[0m\u001b[0m\n\u001b[1;32m      3\u001b[0m \u001b[0mvocab\u001b[0m \u001b[0;34m=\u001b[0m \u001b[0mlist\u001b[0m\u001b[0;34m(\u001b[0m\u001b[0mmodel\u001b[0m\u001b[0;34m.\u001b[0m\u001b[0mwv\u001b[0m\u001b[0;34m.\u001b[0m\u001b[0mvocab\u001b[0m\u001b[0;34m.\u001b[0m\u001b[0mkeys\u001b[0m\u001b[0;34m(\u001b[0m\u001b[0;34m)\u001b[0m\u001b[0;34m)\u001b[0m\u001b[0;34m[\u001b[0m\u001b[0;34m:\u001b[0m\u001b[0mmax_vocab\u001b[0m\u001b[0;34m]\u001b[0m\u001b[0;34m\u001b[0m\u001b[0m\n\u001b[1;32m      4\u001b[0m \u001b[0mvectors\u001b[0m \u001b[0;34m=\u001b[0m \u001b[0;34m[\u001b[0m\u001b[0mmodel\u001b[0m\u001b[0;34m.\u001b[0m\u001b[0mwv\u001b[0m\u001b[0;34m[\u001b[0m\u001b[0mword\u001b[0m\u001b[0;34m]\u001b[0m \u001b[0;32mfor\u001b[0m \u001b[0mword\u001b[0m \u001b[0;32min\u001b[0m \u001b[0mvocab\u001b[0m\u001b[0;34m]\u001b[0m\u001b[0;34m\u001b[0m\u001b[0m\n",
      "\u001b[0;31mNameError\u001b[0m: name 'KeyedVectors' is not defined"
     ]
    }
   ],
   "source": [
    "model = KeyedVectors.load('jv.tsv')\n",
    "max_vocab = 30000\n",
    "vocab = list(model.wv.vocab.keys())[:max_vocab]\n",
    "vectors = [model.wv[word] for word in vocab]"
   ]
  },
  {
   "cell_type": "markdown",
   "metadata": {},
   "source": [
    "![Illustration of the problem](natural_language_flowchart.png)"
   ]
  },
  {
   "cell_type": "markdown",
   "metadata": {},
   "source": [
    "従来に処理できない情報、データは処理できるようになりました。\n",
    "#### これから更なる情報処理の時代が始まります。"
   ]
  },
  {
   "cell_type": "markdown",
   "metadata": {},
   "source": [
    "##### Processing Signal to Other signal "
   ]
  },
  {
   "cell_type": "markdown",
   "metadata": {},
   "source": [
    "![Illustration of the problem](machine_translation_flowchart.png)"
   ]
  },
  {
   "cell_type": "markdown",
   "metadata": {},
   "source": [
    "##### image to signal or signal to image etc..."
   ]
  },
  {
   "cell_type": "markdown",
   "metadata": {},
   "source": [
    "![Illustration of the problem](image_captioning_flowchart.png)"
   ]
  },
  {
   "cell_type": "code",
   "execution_count": null,
   "metadata": {},
   "outputs": [],
   "source": []
  }
 ],
 "metadata": {
  "kernelspec": {
   "display_name": "Python 3",
   "language": "python",
   "name": "python3"
  },
  "language_info": {
   "codemirror_mode": {
    "name": "ipython",
    "version": 3
   },
   "file_extension": ".py",
   "mimetype": "text/x-python",
   "name": "python",
   "nbconvert_exporter": "python",
   "pygments_lexer": "ipython3",
   "version": "3.6.4"
  }
 },
 "nbformat": 4,
 "nbformat_minor": 2
}
